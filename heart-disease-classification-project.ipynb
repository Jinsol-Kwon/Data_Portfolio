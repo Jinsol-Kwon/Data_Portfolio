{
 "cells": [
  {
   "cell_type": "markdown",
   "id": "6b90174b",
   "metadata": {
    "papermill": {
     "duration": 0.097741,
     "end_time": "2022-04-06T16:22:47.998400",
     "exception": false,
     "start_time": "2022-04-06T16:22:47.900659",
     "status": "completed"
    },
    "tags": []
   },
   "source": [
    "<p style='color:indianred; font-size:180%'>Introduction</p>\n",
    "\n",
    "This notebook📒 is a <ins>Heart Disease Classification Project</ins>.\n",
    "\n",
    "It contains **EDA(Exploratory Data Analysis)** mainly using the Pandas Library, **processing/engineering** of the columns,\n",
    "and **modelling** the data with several classifiers for **Binary Classification** (Yes / No), including the Logistic Regression. Please feel free to offer me constructive feedbacks!"
   ]
  },
  {
   "cell_type": "markdown",
   "id": "6bbf4f93",
   "metadata": {
    "papermill": {
     "duration": 0.094011,
     "end_time": "2022-04-06T16:22:48.188385",
     "exception": false,
     "start_time": "2022-04-06T16:22:48.094374",
     "status": "completed"
    },
    "tags": []
   },
   "source": [
    "<p style='color:indianred; font-size:160%'>Table of Contents</p>\n",
    "\n",
    "1. Setup\n",
    "2. Basic Data Information\n",
    "3. Column by Column Analysis\n",
    "4. Heart Disease Distribution for each Column\n",
    "5. Preparation of the Columns for Modelling\n",
    "6. Logistic Regression\n",
    "7. Comparison with other Classifiers (KNN, Random Forest, NN)\n",
    "8. Streamlit App Deployment"
   ]
  },
  {
   "cell_type": "markdown",
   "id": "ee87d4fd",
   "metadata": {
    "papermill": {
     "duration": 0.094217,
     "end_time": "2022-04-06T16:22:48.377244",
     "exception": false,
     "start_time": "2022-04-06T16:22:48.283027",
     "status": "completed"
    },
    "tags": []
   },
   "source": [
    "<p style='color:indianred; font-size:180%'>1. Setup</p>\n",
    "\n",
    "In this section, the libraries used in this project are imported."
   ]
  },
  {
   "cell_type": "code",
   "execution_count": 1,
   "id": "5f130d8c",
   "metadata": {
    "execution": {
     "iopub.execute_input": "2022-04-06T16:22:48.570188Z",
     "iopub.status.busy": "2022-04-06T16:22:48.568952Z",
     "iopub.status.idle": "2022-04-06T16:22:50.209944Z",
     "shell.execute_reply": "2022-04-06T16:22:50.210463Z",
     "shell.execute_reply.started": "2022-04-06T15:01:16.717338Z"
    },
    "papermill": {
     "duration": 1.739341,
     "end_time": "2022-04-06T16:22:50.210798",
     "exception": false,
     "start_time": "2022-04-06T16:22:48.471457",
     "status": "completed"
    },
    "tags": []
   },
   "outputs": [],
   "source": [
    "import numpy as np\n",
    "\n",
    "#Data Loading, Manipulation, Analysis and Visualization Libraries\n",
    "import pandas as pd\n",
    "import seaborn as sns\n",
    "import matplotlib.pyplot as plt\n",
    "\n",
    "#Ordinal Encoder\n",
    "from category_encoders import OrdinalEncoder\n",
    "\n",
    "#Modelling Libraries\n",
    "#(1)Classifiers\n",
    "from sklearn.linear_model import LogisticRegression\n",
    "from sklearn.neighbors import KNeighborsClassifier\n",
    "from sklearn.ensemble import RandomForestClassifier\n",
    "from sklearn.neural_network import MLPClassifier\n",
    "#(2)Functions for model evaluation\n",
    "from sklearn.metrics import confusion_matrix, ConfusionMatrixDisplay\n",
    "from sklearn.metrics import accuracy_score\n",
    "from sklearn.metrics import precision_score\n",
    "from sklearn.metrics import recall_score\n",
    "import time\n",
    "from sklearn.model_selection import train_test_split\n",
    "from sklearn.metrics import roc_curve"
   ]
  },
  {
   "cell_type": "markdown",
   "id": "e3c88001",
   "metadata": {
    "papermill": {
     "duration": 0.09308,
     "end_time": "2022-04-06T16:22:50.399238",
     "exception": false,
     "start_time": "2022-04-06T16:22:50.306158",
     "status": "completed"
    },
    "tags": []
   },
   "source": [
    "<p style='color:indianred; font-size:180%'>2. Basic Data Information</p>"
   ]
  },
  {
   "cell_type": "markdown",
   "id": "feec9337",
   "metadata": {
    "papermill": {
     "duration": 0.094015,
     "end_time": "2022-04-06T16:22:50.588432",
     "exception": false,
     "start_time": "2022-04-06T16:22:50.494417",
     "status": "completed"
    },
    "tags": []
   },
   "source": [
    "Loading the Data"
   ]
  },
  {
   "cell_type": "code",
   "execution_count": 2,
   "id": "9b361e9d",
   "metadata": {
    "execution": {
     "iopub.execute_input": "2022-04-06T16:22:50.779434Z",
     "iopub.status.busy": "2022-04-06T16:22:50.778794Z",
     "iopub.status.idle": "2022-04-06T16:22:51.743526Z",
     "shell.execute_reply": "2022-04-06T16:22:51.744137Z",
     "shell.execute_reply.started": "2022-04-06T15:01:18.800565Z"
    },
    "papermill": {
     "duration": 1.062,
     "end_time": "2022-04-06T16:22:51.744321",
     "exception": false,
     "start_time": "2022-04-06T16:22:50.682321",
     "status": "completed"
    },
    "tags": []
   },
   "outputs": [],
   "source": [
    "data = pd.read_csv('../input/personal-key-indicators-of-heart-disease/heart_2020_cleaned.csv')"
   ]
  },
  {
   "cell_type": "markdown",
   "id": "3d2da906",
   "metadata": {
    "papermill": {
     "duration": 0.093179,
     "end_time": "2022-04-06T16:22:51.931787",
     "exception": false,
     "start_time": "2022-04-06T16:22:51.838608",
     "status": "completed"
    },
    "tags": []
   },
   "source": [
    "First five rows of data are shown below."
   ]
  },
  {
   "cell_type": "code",
   "execution_count": 3,
   "id": "0f54f1ce",
   "metadata": {
    "execution": {
     "iopub.execute_input": "2022-04-06T16:22:52.130326Z",
     "iopub.status.busy": "2022-04-06T16:22:52.129242Z",
     "iopub.status.idle": "2022-04-06T16:22:52.154015Z",
     "shell.execute_reply": "2022-04-06T16:22:52.154538Z",
     "shell.execute_reply.started": "2022-04-06T15:01:19.982483Z"
    },
    "papermill": {
     "duration": 0.127918,
     "end_time": "2022-04-06T16:22:52.154708",
     "exception": false,
     "start_time": "2022-04-06T16:22:52.026790",
     "status": "completed"
    },
    "tags": []
   },
   "outputs": [
    {
     "data": {
      "text/html": [
       "<div>\n",
       "<style scoped>\n",
       "    .dataframe tbody tr th:only-of-type {\n",
       "        vertical-align: middle;\n",
       "    }\n",
       "\n",
       "    .dataframe tbody tr th {\n",
       "        vertical-align: top;\n",
       "    }\n",
       "\n",
       "    .dataframe thead th {\n",
       "        text-align: right;\n",
       "    }\n",
       "</style>\n",
       "<table border=\"1\" class=\"dataframe\">\n",
       "  <thead>\n",
       "    <tr style=\"text-align: right;\">\n",
       "      <th></th>\n",
       "      <th>HeartDisease</th>\n",
       "      <th>BMI</th>\n",
       "      <th>Smoking</th>\n",
       "      <th>AlcoholDrinking</th>\n",
       "      <th>Stroke</th>\n",
       "      <th>PhysicalHealth</th>\n",
       "      <th>MentalHealth</th>\n",
       "      <th>DiffWalking</th>\n",
       "      <th>Sex</th>\n",
       "      <th>AgeCategory</th>\n",
       "      <th>Race</th>\n",
       "      <th>Diabetic</th>\n",
       "      <th>PhysicalActivity</th>\n",
       "      <th>GenHealth</th>\n",
       "      <th>SleepTime</th>\n",
       "      <th>Asthma</th>\n",
       "      <th>KidneyDisease</th>\n",
       "      <th>SkinCancer</th>\n",
       "    </tr>\n",
       "  </thead>\n",
       "  <tbody>\n",
       "    <tr>\n",
       "      <th>0</th>\n",
       "      <td>No</td>\n",
       "      <td>16.60</td>\n",
       "      <td>Yes</td>\n",
       "      <td>No</td>\n",
       "      <td>No</td>\n",
       "      <td>3.0</td>\n",
       "      <td>30.0</td>\n",
       "      <td>No</td>\n",
       "      <td>Female</td>\n",
       "      <td>55-59</td>\n",
       "      <td>White</td>\n",
       "      <td>Yes</td>\n",
       "      <td>Yes</td>\n",
       "      <td>Very good</td>\n",
       "      <td>5.0</td>\n",
       "      <td>Yes</td>\n",
       "      <td>No</td>\n",
       "      <td>Yes</td>\n",
       "    </tr>\n",
       "    <tr>\n",
       "      <th>1</th>\n",
       "      <td>No</td>\n",
       "      <td>20.34</td>\n",
       "      <td>No</td>\n",
       "      <td>No</td>\n",
       "      <td>Yes</td>\n",
       "      <td>0.0</td>\n",
       "      <td>0.0</td>\n",
       "      <td>No</td>\n",
       "      <td>Female</td>\n",
       "      <td>80 or older</td>\n",
       "      <td>White</td>\n",
       "      <td>No</td>\n",
       "      <td>Yes</td>\n",
       "      <td>Very good</td>\n",
       "      <td>7.0</td>\n",
       "      <td>No</td>\n",
       "      <td>No</td>\n",
       "      <td>No</td>\n",
       "    </tr>\n",
       "    <tr>\n",
       "      <th>2</th>\n",
       "      <td>No</td>\n",
       "      <td>26.58</td>\n",
       "      <td>Yes</td>\n",
       "      <td>No</td>\n",
       "      <td>No</td>\n",
       "      <td>20.0</td>\n",
       "      <td>30.0</td>\n",
       "      <td>No</td>\n",
       "      <td>Male</td>\n",
       "      <td>65-69</td>\n",
       "      <td>White</td>\n",
       "      <td>Yes</td>\n",
       "      <td>Yes</td>\n",
       "      <td>Fair</td>\n",
       "      <td>8.0</td>\n",
       "      <td>Yes</td>\n",
       "      <td>No</td>\n",
       "      <td>No</td>\n",
       "    </tr>\n",
       "    <tr>\n",
       "      <th>3</th>\n",
       "      <td>No</td>\n",
       "      <td>24.21</td>\n",
       "      <td>No</td>\n",
       "      <td>No</td>\n",
       "      <td>No</td>\n",
       "      <td>0.0</td>\n",
       "      <td>0.0</td>\n",
       "      <td>No</td>\n",
       "      <td>Female</td>\n",
       "      <td>75-79</td>\n",
       "      <td>White</td>\n",
       "      <td>No</td>\n",
       "      <td>No</td>\n",
       "      <td>Good</td>\n",
       "      <td>6.0</td>\n",
       "      <td>No</td>\n",
       "      <td>No</td>\n",
       "      <td>Yes</td>\n",
       "    </tr>\n",
       "    <tr>\n",
       "      <th>4</th>\n",
       "      <td>No</td>\n",
       "      <td>23.71</td>\n",
       "      <td>No</td>\n",
       "      <td>No</td>\n",
       "      <td>No</td>\n",
       "      <td>28.0</td>\n",
       "      <td>0.0</td>\n",
       "      <td>Yes</td>\n",
       "      <td>Female</td>\n",
       "      <td>40-44</td>\n",
       "      <td>White</td>\n",
       "      <td>No</td>\n",
       "      <td>Yes</td>\n",
       "      <td>Very good</td>\n",
       "      <td>8.0</td>\n",
       "      <td>No</td>\n",
       "      <td>No</td>\n",
       "      <td>No</td>\n",
       "    </tr>\n",
       "  </tbody>\n",
       "</table>\n",
       "</div>"
      ],
      "text/plain": [
       "  HeartDisease    BMI Smoking AlcoholDrinking Stroke  PhysicalHealth  \\\n",
       "0           No  16.60     Yes              No     No             3.0   \n",
       "1           No  20.34      No              No    Yes             0.0   \n",
       "2           No  26.58     Yes              No     No            20.0   \n",
       "3           No  24.21      No              No     No             0.0   \n",
       "4           No  23.71      No              No     No            28.0   \n",
       "\n",
       "   MentalHealth DiffWalking     Sex  AgeCategory   Race Diabetic  \\\n",
       "0          30.0          No  Female        55-59  White      Yes   \n",
       "1           0.0          No  Female  80 or older  White       No   \n",
       "2          30.0          No    Male        65-69  White      Yes   \n",
       "3           0.0          No  Female        75-79  White       No   \n",
       "4           0.0         Yes  Female        40-44  White       No   \n",
       "\n",
       "  PhysicalActivity  GenHealth  SleepTime Asthma KidneyDisease SkinCancer  \n",
       "0              Yes  Very good        5.0    Yes            No        Yes  \n",
       "1              Yes  Very good        7.0     No            No         No  \n",
       "2              Yes       Fair        8.0    Yes            No         No  \n",
       "3               No       Good        6.0     No            No        Yes  \n",
       "4              Yes  Very good        8.0     No            No         No  "
      ]
     },
     "execution_count": 3,
     "metadata": {},
     "output_type": "execute_result"
    }
   ],
   "source": [
    "data.head()"
   ]
  },
  {
   "cell_type": "code",
   "execution_count": 4,
   "id": "f463e6a7",
   "metadata": {
    "execution": {
     "iopub.execute_input": "2022-04-06T16:22:52.347275Z",
     "iopub.status.busy": "2022-04-06T16:22:52.346261Z",
     "iopub.status.idle": "2022-04-06T16:22:52.353959Z",
     "shell.execute_reply": "2022-04-06T16:22:52.354429Z",
     "shell.execute_reply.started": "2022-04-06T15:01:20.020677Z"
    },
    "papermill": {
     "duration": 0.105338,
     "end_time": "2022-04-06T16:22:52.354618",
     "exception": false,
     "start_time": "2022-04-06T16:22:52.249280",
     "status": "completed"
    },
    "tags": []
   },
   "outputs": [
    {
     "name": "stdout",
     "output_type": "stream",
     "text": [
      "number of rows: 319795\n",
      "number of columns: 18\n"
     ]
    }
   ],
   "source": [
    "print('number of rows:', data.shape[0])\n",
    "print('number of columns:', data.shape[1])"
   ]
  },
  {
   "cell_type": "code",
   "execution_count": 5,
   "id": "5e9f6972",
   "metadata": {
    "execution": {
     "iopub.execute_input": "2022-04-06T16:22:52.551109Z",
     "iopub.status.busy": "2022-04-06T16:22:52.550100Z",
     "iopub.status.idle": "2022-04-06T16:22:52.556307Z",
     "shell.execute_reply": "2022-04-06T16:22:52.556932Z",
     "shell.execute_reply.started": "2022-04-06T15:01:20.031673Z"
    },
    "papermill": {
     "duration": 0.106434,
     "end_time": "2022-04-06T16:22:52.557112",
     "exception": false,
     "start_time": "2022-04-06T16:22:52.450678",
     "status": "completed"
    },
    "tags": []
   },
   "outputs": [
    {
     "data": {
      "text/plain": [
       "Index(['HeartDisease', 'BMI', 'Smoking', 'AlcoholDrinking', 'Stroke',\n",
       "       'PhysicalHealth', 'MentalHealth', 'DiffWalking', 'Sex', 'AgeCategory',\n",
       "       'Race', 'Diabetic', 'PhysicalActivity', 'GenHealth', 'SleepTime',\n",
       "       'Asthma', 'KidneyDisease', 'SkinCancer'],\n",
       "      dtype='object')"
      ]
     },
     "execution_count": 5,
     "metadata": {},
     "output_type": "execute_result"
    }
   ],
   "source": [
    "data.columns"
   ]
  },
  {
   "cell_type": "markdown",
   "id": "010375cd",
   "metadata": {
    "papermill": {
     "duration": 0.096191,
     "end_time": "2022-04-06T16:22:52.748552",
     "exception": false,
     "start_time": "2022-04-06T16:22:52.652361",
     "status": "completed"
    },
    "tags": []
   },
   "source": [
    "Above is the list of the columns. According to the [dataset page](), the details of each column is given as:\n",
    "This can be the reference if you wish to look at the meaning of the values later on during the analysis/visualizations.\n",
    "\n",
    "| Column     | Detail |\n",
    "| ----------- | ----------- |\n",
    "| **HeartDisease**      |Respondents that have ever reported having coronary heart disease (CHD) or myocardial infarction (MI) |\n",
    "| **BMI**   |Body Mass Index (BMI) |\n",
    "| **Smoking**  | Have you smoked at least 100 cigarettes in your entire life? [Note: 5 packs = 100 cigarettes]|\n",
    "| **AlcoholDrinking**  | Heavy drinkers (adult men having more than 14 drinks per week and adult women having more than 7 drinks per week)|\n",
    "| **Stroke**  |(Ever told) (you had) a stroke? |\n",
    "| **PhysicalHealth**  |Now thinking about your physical health, which includes physical illness and injury, for how many days during the past 30 days was your physical health not good?|\n",
    "| **MentalHealth**  |Thinking about your mental health, for how many days during the past 30 days was your mental health not good?  |\n",
    "| **DiffWalking**  |Do you have serious difficulty walking or climbing stairs? |\n",
    "| **Sex**  |Are you male or female?  |\n",
    "| **AgeCategory**  |Fourteen-level age category  |\n",
    "| **Race**  |Imputed race/ethnicity value  |\n",
    "| **Diabetic**  |(Ever told) (you had) diabetes?  |\n",
    "| **PhysicalActivity**  |Adults who reported doing physical activity or exercise during the past 30 days other than their regular job  |\n",
    "| **GenHealth**  |Would you say that in general your health is...  |\n",
    "| **SleepTime**  |On average, how many hours of sleep do you get in a 24-hour period?  |\n",
    "| **Asthma**  |(Ever told) (you had) asthma?  |\n",
    "| **KidneyDisease**  |Not including kidney stones, bladder infection or incontinence, were you ever told you had kidney disease? |\n",
    "| **SkinCancer**  |(Ever told) (you had) skin cancer?  |"
   ]
  },
  {
   "cell_type": "code",
   "execution_count": 6,
   "id": "e03594e0",
   "metadata": {
    "execution": {
     "iopub.execute_input": "2022-04-06T16:22:52.944839Z",
     "iopub.status.busy": "2022-04-06T16:22:52.943779Z",
     "iopub.status.idle": "2022-04-06T16:22:53.416114Z",
     "shell.execute_reply": "2022-04-06T16:22:53.416667Z",
     "shell.execute_reply.started": "2022-04-06T15:01:20.044994Z"
    },
    "papermill": {
     "duration": 0.573105,
     "end_time": "2022-04-06T16:22:53.416852",
     "exception": false,
     "start_time": "2022-04-06T16:22:52.843747",
     "status": "completed"
    },
    "tags": []
   },
   "outputs": [
    {
     "data": {
      "text/plain": [
       "HeartDisease        False\n",
       "BMI                 False\n",
       "Smoking             False\n",
       "AlcoholDrinking     False\n",
       "Stroke              False\n",
       "PhysicalHealth      False\n",
       "MentalHealth        False\n",
       "DiffWalking         False\n",
       "Sex                 False\n",
       "AgeCategory         False\n",
       "Race                False\n",
       "Diabetic            False\n",
       "PhysicalActivity    False\n",
       "GenHealth           False\n",
       "SleepTime           False\n",
       "Asthma              False\n",
       "KidneyDisease       False\n",
       "SkinCancer          False\n",
       "dtype: bool"
      ]
     },
     "execution_count": 6,
     "metadata": {},
     "output_type": "execute_result"
    }
   ],
   "source": [
    "data.isnull().any()"
   ]
  },
  {
   "cell_type": "markdown",
   "id": "62a89875",
   "metadata": {
    "papermill": {
     "duration": 0.09565,
     "end_time": "2022-04-06T16:22:53.608436",
     "exception": false,
     "start_time": "2022-04-06T16:22:53.512786",
     "status": "completed"
    },
    "tags": []
   },
   "source": [
    "There are no missing values in this data."
   ]
  },
  {
   "cell_type": "code",
   "execution_count": 7,
   "id": "ab207317",
   "metadata": {
    "execution": {
     "iopub.execute_input": "2022-04-06T16:22:53.803662Z",
     "iopub.status.busy": "2022-04-06T16:22:53.802595Z",
     "iopub.status.idle": "2022-04-06T16:22:54.297942Z",
     "shell.execute_reply": "2022-04-06T16:22:54.297341Z",
     "shell.execute_reply.started": "2022-04-06T15:01:20.53347Z"
    },
    "papermill": {
     "duration": 0.594627,
     "end_time": "2022-04-06T16:22:54.298086",
     "exception": false,
     "start_time": "2022-04-06T16:22:53.703459",
     "status": "completed"
    },
    "tags": []
   },
   "outputs": [
    {
     "name": "stdout",
     "output_type": "stream",
     "text": [
      "<class 'pandas.core.frame.DataFrame'>\n",
      "RangeIndex: 319795 entries, 0 to 319794\n",
      "Data columns (total 18 columns):\n",
      " #   Column            Non-Null Count   Dtype  \n",
      "---  ------            --------------   -----  \n",
      " 0   HeartDisease      319795 non-null  object \n",
      " 1   BMI               319795 non-null  float64\n",
      " 2   Smoking           319795 non-null  object \n",
      " 3   AlcoholDrinking   319795 non-null  object \n",
      " 4   Stroke            319795 non-null  object \n",
      " 5   PhysicalHealth    319795 non-null  float64\n",
      " 6   MentalHealth      319795 non-null  float64\n",
      " 7   DiffWalking       319795 non-null  object \n",
      " 8   Sex               319795 non-null  object \n",
      " 9   AgeCategory       319795 non-null  object \n",
      " 10  Race              319795 non-null  object \n",
      " 11  Diabetic          319795 non-null  object \n",
      " 12  PhysicalActivity  319795 non-null  object \n",
      " 13  GenHealth         319795 non-null  object \n",
      " 14  SleepTime         319795 non-null  float64\n",
      " 15  Asthma            319795 non-null  object \n",
      " 16  KidneyDisease     319795 non-null  object \n",
      " 17  SkinCancer        319795 non-null  object \n",
      "dtypes: float64(4), object(14)\n",
      "memory usage: 43.9+ MB\n"
     ]
    }
   ],
   "source": [
    "data.info()"
   ]
  },
  {
   "cell_type": "code",
   "execution_count": 8,
   "id": "8fa4a64e",
   "metadata": {
    "execution": {
     "iopub.execute_input": "2022-04-06T16:22:54.499857Z",
     "iopub.status.busy": "2022-04-06T16:22:54.498819Z",
     "iopub.status.idle": "2022-04-06T16:22:54.559861Z",
     "shell.execute_reply": "2022-04-06T16:22:54.559332Z",
     "shell.execute_reply.started": "2022-04-06T15:01:21.043036Z"
    },
    "papermill": {
     "duration": 0.166458,
     "end_time": "2022-04-06T16:22:54.560001",
     "exception": false,
     "start_time": "2022-04-06T16:22:54.393543",
     "status": "completed"
    },
    "tags": []
   },
   "outputs": [
    {
     "data": {
      "text/html": [
       "<div>\n",
       "<style scoped>\n",
       "    .dataframe tbody tr th:only-of-type {\n",
       "        vertical-align: middle;\n",
       "    }\n",
       "\n",
       "    .dataframe tbody tr th {\n",
       "        vertical-align: top;\n",
       "    }\n",
       "\n",
       "    .dataframe thead th {\n",
       "        text-align: right;\n",
       "    }\n",
       "</style>\n",
       "<table border=\"1\" class=\"dataframe\">\n",
       "  <thead>\n",
       "    <tr style=\"text-align: right;\">\n",
       "      <th></th>\n",
       "      <th>BMI</th>\n",
       "      <th>PhysicalHealth</th>\n",
       "      <th>MentalHealth</th>\n",
       "      <th>SleepTime</th>\n",
       "    </tr>\n",
       "  </thead>\n",
       "  <tbody>\n",
       "    <tr>\n",
       "      <th>count</th>\n",
       "      <td>319795.000000</td>\n",
       "      <td>319795.00000</td>\n",
       "      <td>319795.000000</td>\n",
       "      <td>319795.000000</td>\n",
       "    </tr>\n",
       "    <tr>\n",
       "      <th>mean</th>\n",
       "      <td>28.325399</td>\n",
       "      <td>3.37171</td>\n",
       "      <td>3.898366</td>\n",
       "      <td>7.097075</td>\n",
       "    </tr>\n",
       "    <tr>\n",
       "      <th>std</th>\n",
       "      <td>6.356100</td>\n",
       "      <td>7.95085</td>\n",
       "      <td>7.955235</td>\n",
       "      <td>1.436007</td>\n",
       "    </tr>\n",
       "    <tr>\n",
       "      <th>min</th>\n",
       "      <td>12.020000</td>\n",
       "      <td>0.00000</td>\n",
       "      <td>0.000000</td>\n",
       "      <td>1.000000</td>\n",
       "    </tr>\n",
       "    <tr>\n",
       "      <th>25%</th>\n",
       "      <td>24.030000</td>\n",
       "      <td>0.00000</td>\n",
       "      <td>0.000000</td>\n",
       "      <td>6.000000</td>\n",
       "    </tr>\n",
       "    <tr>\n",
       "      <th>50%</th>\n",
       "      <td>27.340000</td>\n",
       "      <td>0.00000</td>\n",
       "      <td>0.000000</td>\n",
       "      <td>7.000000</td>\n",
       "    </tr>\n",
       "    <tr>\n",
       "      <th>75%</th>\n",
       "      <td>31.420000</td>\n",
       "      <td>2.00000</td>\n",
       "      <td>3.000000</td>\n",
       "      <td>8.000000</td>\n",
       "    </tr>\n",
       "    <tr>\n",
       "      <th>max</th>\n",
       "      <td>94.850000</td>\n",
       "      <td>30.00000</td>\n",
       "      <td>30.000000</td>\n",
       "      <td>24.000000</td>\n",
       "    </tr>\n",
       "  </tbody>\n",
       "</table>\n",
       "</div>"
      ],
      "text/plain": [
       "                 BMI  PhysicalHealth   MentalHealth      SleepTime\n",
       "count  319795.000000    319795.00000  319795.000000  319795.000000\n",
       "mean       28.325399         3.37171       3.898366       7.097075\n",
       "std         6.356100         7.95085       7.955235       1.436007\n",
       "min        12.020000         0.00000       0.000000       1.000000\n",
       "25%        24.030000         0.00000       0.000000       6.000000\n",
       "50%        27.340000         0.00000       0.000000       7.000000\n",
       "75%        31.420000         2.00000       3.000000       8.000000\n",
       "max        94.850000        30.00000      30.000000      24.000000"
      ]
     },
     "execution_count": 8,
     "metadata": {},
     "output_type": "execute_result"
    }
   ],
   "source": [
    "data.describe()"
   ]
  },
  {
   "cell_type": "markdown",
   "id": "b7d59dbe",
   "metadata": {
    "papermill": {
     "duration": 0.095564,
     "end_time": "2022-04-06T16:22:54.751154",
     "exception": false,
     "start_time": "2022-04-06T16:22:54.655590",
     "status": "completed"
    },
    "tags": []
   },
   "source": [
    "You may notice that there is an extremely high value of BMI and SleepTime.  \n",
    "The describe function only shows the 'float64' dtype columns as shown in the info function. The function below will show the rest."
   ]
  },
  {
   "cell_type": "code",
   "execution_count": 9,
   "id": "888b49a6",
   "metadata": {
    "execution": {
     "iopub.execute_input": "2022-04-06T16:22:54.946349Z",
     "iopub.status.busy": "2022-04-06T16:22:54.945662Z",
     "iopub.status.idle": "2022-04-06T16:22:56.190113Z",
     "shell.execute_reply": "2022-04-06T16:22:56.189482Z",
     "shell.execute_reply.started": "2022-04-06T15:01:21.127687Z"
    },
    "papermill": {
     "duration": 1.343659,
     "end_time": "2022-04-06T16:22:56.190260",
     "exception": false,
     "start_time": "2022-04-06T16:22:54.846601",
     "status": "completed"
    },
    "tags": []
   },
   "outputs": [
    {
     "data": {
      "text/html": [
       "<div>\n",
       "<style scoped>\n",
       "    .dataframe tbody tr th:only-of-type {\n",
       "        vertical-align: middle;\n",
       "    }\n",
       "\n",
       "    .dataframe tbody tr th {\n",
       "        vertical-align: top;\n",
       "    }\n",
       "\n",
       "    .dataframe thead th {\n",
       "        text-align: right;\n",
       "    }\n",
       "</style>\n",
       "<table border=\"1\" class=\"dataframe\">\n",
       "  <thead>\n",
       "    <tr style=\"text-align: right;\">\n",
       "      <th></th>\n",
       "      <th>HeartDisease</th>\n",
       "      <th>Smoking</th>\n",
       "      <th>AlcoholDrinking</th>\n",
       "      <th>Stroke</th>\n",
       "      <th>DiffWalking</th>\n",
       "      <th>Sex</th>\n",
       "      <th>AgeCategory</th>\n",
       "      <th>Race</th>\n",
       "      <th>Diabetic</th>\n",
       "      <th>PhysicalActivity</th>\n",
       "      <th>GenHealth</th>\n",
       "      <th>Asthma</th>\n",
       "      <th>KidneyDisease</th>\n",
       "      <th>SkinCancer</th>\n",
       "    </tr>\n",
       "  </thead>\n",
       "  <tbody>\n",
       "    <tr>\n",
       "      <th>count</th>\n",
       "      <td>319795</td>\n",
       "      <td>319795</td>\n",
       "      <td>319795</td>\n",
       "      <td>319795</td>\n",
       "      <td>319795</td>\n",
       "      <td>319795</td>\n",
       "      <td>319795</td>\n",
       "      <td>319795</td>\n",
       "      <td>319795</td>\n",
       "      <td>319795</td>\n",
       "      <td>319795</td>\n",
       "      <td>319795</td>\n",
       "      <td>319795</td>\n",
       "      <td>319795</td>\n",
       "    </tr>\n",
       "    <tr>\n",
       "      <th>unique</th>\n",
       "      <td>2</td>\n",
       "      <td>2</td>\n",
       "      <td>2</td>\n",
       "      <td>2</td>\n",
       "      <td>2</td>\n",
       "      <td>2</td>\n",
       "      <td>13</td>\n",
       "      <td>6</td>\n",
       "      <td>4</td>\n",
       "      <td>2</td>\n",
       "      <td>5</td>\n",
       "      <td>2</td>\n",
       "      <td>2</td>\n",
       "      <td>2</td>\n",
       "    </tr>\n",
       "    <tr>\n",
       "      <th>top</th>\n",
       "      <td>No</td>\n",
       "      <td>No</td>\n",
       "      <td>No</td>\n",
       "      <td>No</td>\n",
       "      <td>No</td>\n",
       "      <td>Female</td>\n",
       "      <td>65-69</td>\n",
       "      <td>White</td>\n",
       "      <td>No</td>\n",
       "      <td>Yes</td>\n",
       "      <td>Very good</td>\n",
       "      <td>No</td>\n",
       "      <td>No</td>\n",
       "      <td>No</td>\n",
       "    </tr>\n",
       "    <tr>\n",
       "      <th>freq</th>\n",
       "      <td>292422</td>\n",
       "      <td>187887</td>\n",
       "      <td>298018</td>\n",
       "      <td>307726</td>\n",
       "      <td>275385</td>\n",
       "      <td>167805</td>\n",
       "      <td>34151</td>\n",
       "      <td>245212</td>\n",
       "      <td>269653</td>\n",
       "      <td>247957</td>\n",
       "      <td>113858</td>\n",
       "      <td>276923</td>\n",
       "      <td>308016</td>\n",
       "      <td>289976</td>\n",
       "    </tr>\n",
       "  </tbody>\n",
       "</table>\n",
       "</div>"
      ],
      "text/plain": [
       "       HeartDisease Smoking AlcoholDrinking  Stroke DiffWalking     Sex  \\\n",
       "count        319795  319795          319795  319795      319795  319795   \n",
       "unique            2       2               2       2           2       2   \n",
       "top              No      No              No      No          No  Female   \n",
       "freq         292422  187887          298018  307726      275385  167805   \n",
       "\n",
       "       AgeCategory    Race Diabetic PhysicalActivity  GenHealth  Asthma  \\\n",
       "count       319795  319795   319795           319795     319795  319795   \n",
       "unique          13       6        4                2          5       2   \n",
       "top          65-69   White       No              Yes  Very good      No   \n",
       "freq         34151  245212   269653           247957     113858  276923   \n",
       "\n",
       "       KidneyDisease SkinCancer  \n",
       "count         319795     319795  \n",
       "unique             2          2  \n",
       "top               No         No  \n",
       "freq          308016     289976  "
      ]
     },
     "execution_count": 9,
     "metadata": {},
     "output_type": "execute_result"
    }
   ],
   "source": [
    "data.describe(include = 'O')"
   ]
  },
  {
   "cell_type": "markdown",
   "id": "71264cb4",
   "metadata": {
    "papermill": {
     "duration": 0.097314,
     "end_time": "2022-04-06T16:22:56.384220",
     "exception": false,
     "start_time": "2022-04-06T16:22:56.286906",
     "status": "completed"
    },
    "tags": []
   },
   "source": [
    "<p style='color:indianred; font-size:180%'>3. Column by Column Analysis</p>\n",
    "\n",
    "Distribution of each column values will be explored."
   ]
  },
  {
   "cell_type": "markdown",
   "id": "3c2fb210",
   "metadata": {
    "papermill": {
     "duration": 0.09707,
     "end_time": "2022-04-06T16:22:56.579288",
     "exception": false,
     "start_time": "2022-04-06T16:22:56.482218",
     "status": "completed"
    },
    "tags": []
   },
   "source": [
    "#### **Heart Disease**\n",
    "\n",
    "This is the target column for the classification task."
   ]
  },
  {
   "cell_type": "code",
   "execution_count": 10,
   "id": "55508e37",
   "metadata": {
    "execution": {
     "iopub.execute_input": "2022-04-06T16:22:56.828501Z",
     "iopub.status.busy": "2022-04-06T16:22:56.827541Z",
     "iopub.status.idle": "2022-04-06T16:22:57.031631Z",
     "shell.execute_reply": "2022-04-06T16:22:57.031103Z",
     "shell.execute_reply.started": "2022-04-06T15:01:22.425902Z"
    },
    "papermill": {
     "duration": 0.355774,
     "end_time": "2022-04-06T16:22:57.031792",
     "exception": false,
     "start_time": "2022-04-06T16:22:56.676018",
     "status": "completed"
    },
    "tags": []
   },
   "outputs": [
    {
     "data": {
      "text/plain": [
       "<AxesSubplot:>"
      ]
     },
     "execution_count": 10,
     "metadata": {},
     "output_type": "execute_result"
    },
    {
     "data": {
      "image/png": "[encoded data removed]",
      "text/plain": [
       "<Figure size 432x288 with 1 Axes>"
      ]
     },
     "metadata": {
      "needs_background": "light"
     },
     "output_type": "display_data"
    }
   ],
   "source": [
    "(data['HeartDisease'].value_counts()/data.shape[0]).plot(kind = 'bar', color = 'powderblue')"
   ]
  },
  {
   "cell_type": "code",
   "execution_count": 11,
   "id": "e3dc61e0",
   "metadata": {
    "execution": {
     "iopub.execute_input": "2022-04-06T16:22:57.298020Z",
     "iopub.status.busy": "2022-04-06T16:22:57.297296Z",
     "iopub.status.idle": "2022-04-06T16:22:57.301267Z",
     "shell.execute_reply": "2022-04-06T16:22:57.300623Z",
     "shell.execute_reply.started": "2022-04-06T15:01:22.707477Z"
    },
    "papermill": {
     "duration": 0.16289,
     "end_time": "2022-04-06T16:22:57.301404",
     "exception": false,
     "start_time": "2022-04-06T16:22:57.138514",
     "status": "completed"
    },
    "tags": []
   },
   "outputs": [
    {
     "data": {
      "text/html": [
       "<div>\n",
       "<style scoped>\n",
       "    .dataframe tbody tr th:only-of-type {\n",
       "        vertical-align: middle;\n",
       "    }\n",
       "\n",
       "    .dataframe tbody tr th {\n",
       "        vertical-align: top;\n",
       "    }\n",
       "\n",
       "    .dataframe thead th {\n",
       "        text-align: right;\n",
       "    }\n",
       "</style>\n",
       "<table border=\"1\" class=\"dataframe\">\n",
       "  <thead>\n",
       "    <tr style=\"text-align: right;\">\n",
       "      <th></th>\n",
       "      <th>HeartDisease</th>\n",
       "    </tr>\n",
       "  </thead>\n",
       "  <tbody>\n",
       "    <tr>\n",
       "      <th>No</th>\n",
       "      <td>91.44</td>\n",
       "    </tr>\n",
       "    <tr>\n",
       "      <th>Yes</th>\n",
       "      <td>8.56</td>\n",
       "    </tr>\n",
       "  </tbody>\n",
       "</table>\n",
       "</div>"
      ],
      "text/plain": [
       "     HeartDisease\n",
       "No          91.44\n",
       "Yes          8.56"
      ]
     },
     "execution_count": 11,
     "metadata": {},
     "output_type": "execute_result"
    }
   ],
   "source": [
    "pd.DataFrame(round((data['HeartDisease'].value_counts()/data.shape[0]*100),2)) #Percentages"
   ]
  },
  {
   "cell_type": "markdown",
   "id": "8f7f7255",
   "metadata": {
    "papermill": {
     "duration": 0.099517,
     "end_time": "2022-04-06T16:22:57.500690",
     "exception": false,
     "start_time": "2022-04-06T16:22:57.401173",
     "status": "completed"
    },
    "tags": []
   },
   "source": [
    "Most people in this dataset are reported to not have had a heart condition (coronary heart disease (CHD) or myocardial infarction (MI) in specific)"
   ]
  },
  {
   "cell_type": "markdown",
   "id": "70cd5c76",
   "metadata": {
    "papermill": {
     "duration": 0.098567,
     "end_time": "2022-04-06T16:22:57.697703",
     "exception": false,
     "start_time": "2022-04-06T16:22:57.599136",
     "status": "completed"
    },
    "tags": []
   },
   "source": [
    "#### **BMI**"
   ]
  },
  {
   "cell_type": "code",
   "execution_count": 12,
   "id": "b2d066a6",
   "metadata": {
    "execution": {
     "iopub.execute_input": "2022-04-06T16:22:57.901125Z",
     "iopub.status.busy": "2022-04-06T16:22:57.900437Z",
     "iopub.status.idle": "2022-04-06T16:22:58.231797Z",
     "shell.execute_reply": "2022-04-06T16:22:58.231265Z",
     "shell.execute_reply.started": "2022-04-06T15:01:22.771349Z"
    },
    "papermill": {
     "duration": 0.435314,
     "end_time": "2022-04-06T16:22:58.231941",
     "exception": false,
     "start_time": "2022-04-06T16:22:57.796627",
     "status": "completed"
    },
    "tags": []
   },
   "outputs": [
    {
     "data": {
      "text/plain": [
       "<AxesSubplot:>"
      ]
     },
     "execution_count": 12,
     "metadata": {},
     "output_type": "execute_result"
    },
    {
     "data": {
      "image/png": "[encoded data removed]",
      "text/plain": [
       "<Figure size 720x360 with 1 Axes>"
      ]
     },
     "metadata": {
      "needs_background": "light"
     },
     "output_type": "display_data"
    }
   ],
   "source": [
    "data['BMI'].hist(bins = 50, color = 'slategray', figsize = (10,5))"
   ]
  },
  {
   "cell_type": "markdown",
   "id": "472301b1",
   "metadata": {
    "papermill": {
     "duration": 0.10014,
     "end_time": "2022-04-06T16:22:58.432735",
     "exception": false,
     "start_time": "2022-04-06T16:22:58.332595",
     "status": "completed"
    },
    "tags": []
   },
   "source": [
    "The distribution of BMI seems somewhat normal, but there seems to be a slight <span style=\"color:slategray;\">right skew</span>.\n",
    "\n",
    "Using the **'Outlier Formula'**, percentage of outliers (toward the left and right) are computed below."
   ]
  },
  {
   "cell_type": "code",
   "execution_count": 13,
   "id": "ca9c1cc5",
   "metadata": {
    "execution": {
     "iopub.execute_input": "2022-04-06T16:22:58.642908Z",
     "iopub.status.busy": "2022-04-06T16:22:58.642199Z",
     "iopub.status.idle": "2022-04-06T16:22:58.680060Z",
     "shell.execute_reply": "2022-04-06T16:22:58.680784Z",
     "shell.execute_reply.started": "2022-04-06T15:01:23.132248Z"
    },
    "papermill": {
     "duration": 0.147206,
     "end_time": "2022-04-06T16:22:58.681008",
     "exception": false,
     "start_time": "2022-04-06T16:22:58.533802",
     "status": "completed"
    },
    "tags": []
   },
   "outputs": [
    {
     "name": "stdout",
     "output_type": "stream",
     "text": [
      "3.24\n",
      "0.01\n"
     ]
    }
   ],
   "source": [
    "BMI_75 = data['BMI'].describe()['75%']\n",
    "BMI_25 = data['BMI'].describe()['25%']\n",
    "BMI_IQR = BMI_75 - BMI_25\n",
    "\n",
    "#Outlier Check (%)\n",
    "print(round(data[data['BMI'] > BMI_75 + 1.5 * BMI_IQR]['BMI'].count()/data.shape[0]*100, 2))\n",
    "print(round(data[data['BMI'] < BMI_25 - 1.5 * BMI_IQR]['BMI'].count()/data.shape[0]*100, 2))"
   ]
  },
  {
   "cell_type": "markdown",
   "id": "8da39529",
   "metadata": {
    "papermill": {
     "duration": 0.100119,
     "end_time": "2022-04-06T16:22:58.883790",
     "exception": false,
     "start_time": "2022-04-06T16:22:58.783671",
     "status": "completed"
    },
    "tags": []
   },
   "source": [
    "#### **Columns with answers given 'Yes' or 'No'**"
   ]
  },
  {
   "cell_type": "code",
   "execution_count": 14,
   "id": "f02f1014",
   "metadata": {
    "execution": {
     "iopub.execute_input": "2022-04-06T16:22:59.151591Z",
     "iopub.status.busy": "2022-04-06T16:22:59.089031Z",
     "iopub.status.idle": "2022-04-06T16:22:59.848492Z",
     "shell.execute_reply": "2022-04-06T16:22:59.849228Z",
     "shell.execute_reply.started": "2022-04-06T15:01:23.198884Z"
    },
    "papermill": {
     "duration": 0.864216,
     "end_time": "2022-04-06T16:22:59.849457",
     "exception": false,
     "start_time": "2022-04-06T16:22:58.985241",
     "status": "completed"
    },
    "tags": []
   },
   "outputs": [
    {
     "name": "stdout",
     "output_type": "stream",
     "text": [
      "['Smoking', 'AlcoholDrinking', 'Stroke', 'DiffWalking', 'PhysicalActivity', 'Asthma', 'KidneyDisease', 'SkinCancer']\n"
     ]
    },
    {
     "data": {
      "text/plain": [
       "8"
      ]
     },
     "execution_count": 14,
     "metadata": {},
     "output_type": "execute_result"
    }
   ],
   "source": [
    "Yes_No_Columns = [column for column in data.columns if (len(data[column].value_counts()) == 2)]\n",
    "Yes_No_Columns.remove('HeartDisease')\n",
    "Yes_No_Columns.remove('Sex')\n",
    "print(Yes_No_Columns)\n",
    "len(Yes_No_Columns)"
   ]
  },
  {
   "cell_type": "markdown",
   "id": "9f81c1b6",
   "metadata": {
    "papermill": {
     "duration": 0.109784,
     "end_time": "2022-04-06T16:23:00.072609",
     "exception": false,
     "start_time": "2022-04-06T16:22:59.962825",
     "status": "completed"
    },
    "tags": []
   },
   "source": [
    "There are eight columns of this kind (excluding HeartDisease)."
   ]
  },
  {
   "cell_type": "code",
   "execution_count": 15,
   "id": "2cba760f",
   "metadata": {
    "execution": {
     "iopub.execute_input": "2022-04-06T16:23:00.287071Z",
     "iopub.status.busy": "2022-04-06T16:23:00.286089Z",
     "iopub.status.idle": "2022-04-06T16:23:01.735593Z",
     "shell.execute_reply": "2022-04-06T16:23:01.736111Z",
     "shell.execute_reply.started": "2022-04-06T15:01:23.946405Z"
    },
    "papermill": {
     "duration": 1.554389,
     "end_time": "2022-04-06T16:23:01.736292",
     "exception": false,
     "start_time": "2022-04-06T16:23:00.181903",
     "status": "completed"
    },
    "tags": []
   },
   "outputs": [
    {
     "data": {
      "image/png": "[encoded data removed]",
      "text/plain": [
       "<Figure size 1080x576 with 8 Axes>"
      ]
     },
     "metadata": {
      "needs_background": "light"
     },
     "output_type": "display_data"
    }
   ],
   "source": [
    "fig, axes = plt.subplots(nrows=2, ncols=4, sharey = True, figsize = (15,8))\n",
    "plt.subplots_adjust(hspace = 0.3)\n",
    "\n",
    "for Column in Yes_No_Columns:\n",
    "    row_n= int((Yes_No_Columns.index(Column) - Yes_No_Columns.index(Column) % 4)/4)\n",
    "    column_n = Yes_No_Columns.index(Column) % 4\n",
    "    (data[Column].value_counts()/data.shape[0]).plot(kind = 'bar', ax = axes[row_n,column_n], title = Column, color = 'cornflowerblue')"
   ]
  },
  {
   "cell_type": "markdown",
   "id": "e34e7471",
   "metadata": {
    "papermill": {
     "duration": 0.105919,
     "end_time": "2022-04-06T16:23:01.946132",
     "exception": false,
     "start_time": "2022-04-06T16:23:01.840213",
     "status": "completed"
    },
    "tags": []
   },
   "source": [
    "For each of the plot above, we can see the proportions/distribution of Yes/No results to the related questions."
   ]
  },
  {
   "cell_type": "markdown",
   "id": "057f88f7",
   "metadata": {
    "papermill": {
     "duration": 0.109247,
     "end_time": "2022-04-06T16:23:02.165245",
     "exception": false,
     "start_time": "2022-04-06T16:23:02.055998",
     "status": "completed"
    },
    "tags": []
   },
   "source": [
    "#### **PhysicalHealth and MentalHealth**"
   ]
  },
  {
   "cell_type": "code",
   "execution_count": 16,
   "id": "c2f5f74b",
   "metadata": {
    "execution": {
     "iopub.execute_input": "2022-04-06T16:23:02.386089Z",
     "iopub.status.busy": "2022-04-06T16:23:02.385306Z",
     "iopub.status.idle": "2022-04-06T16:23:02.618215Z",
     "shell.execute_reply": "2022-04-06T16:23:02.617557Z",
     "shell.execute_reply.started": "2022-04-06T15:01:25.552004Z"
    },
    "papermill": {
     "duration": 0.343516,
     "end_time": "2022-04-06T16:23:02.618390",
     "exception": false,
     "start_time": "2022-04-06T16:23:02.274874",
     "status": "completed"
    },
    "tags": []
   },
   "outputs": [
    {
     "data": {
      "text/plain": [
       "<AxesSubplot:>"
      ]
     },
     "execution_count": 16,
     "metadata": {},
     "output_type": "execute_result"
    },
    {
     "data": {
      "image/png": "[encoded data removed]",
      "text/plain": [
       "<Figure size 432x288 with 1 Axes>"
      ]
     },
     "metadata": {
      "needs_background": "light"
     },
     "output_type": "display_data"
    }
   ],
   "source": [
    "data['PhysicalHealth'].hist(bins = 30, color = 'salmon')"
   ]
  },
  {
   "cell_type": "code",
   "execution_count": 17,
   "id": "ca2bfd39",
   "metadata": {
    "execution": {
     "iopub.execute_input": "2022-04-06T16:23:02.845478Z",
     "iopub.status.busy": "2022-04-06T16:23:02.844785Z",
     "iopub.status.idle": "2022-04-06T16:23:03.104969Z",
     "shell.execute_reply": "2022-04-06T16:23:03.105527Z",
     "shell.execute_reply.started": "2022-04-06T15:01:25.791248Z"
    },
    "papermill": {
     "duration": 0.375048,
     "end_time": "2022-04-06T16:23:03.105736",
     "exception": false,
     "start_time": "2022-04-06T16:23:02.730688",
     "status": "completed"
    },
    "tags": []
   },
   "outputs": [
    {
     "data": {
      "text/plain": [
       "<AxesSubplot:>"
      ]
     },
     "execution_count": 17,
     "metadata": {},
     "output_type": "execute_result"
    },
    {
     "data": {
      "image/png": "[encoded data removed]",
      "text/plain": [
       "<Figure size 432x288 with 1 Axes>"
      ]
     },
     "metadata": {
      "needs_background": "light"
     },
     "output_type": "display_data"
    }
   ],
   "source": [
    "data['MentalHealth'].hist(bins = 30, color = 'salmon')"
   ]
  },
  {
   "cell_type": "markdown",
   "id": "15e42883",
   "metadata": {
    "papermill": {
     "duration": 0.105245,
     "end_time": "2022-04-06T16:23:03.316621",
     "exception": false,
     "start_time": "2022-04-06T16:23:03.211376",
     "status": "completed"
    },
    "tags": []
   },
   "source": [
    "For both Physical Health and Mental health, we can see a heavy right skew. It also seems that most people answered '0 days' for both, which sounds like they are 'normal'. But compared to other answers like '8 days' or '15 days', many people (in comparison to other answers within the 1-30 range) answered '30 days', which basically sounds like they don't feel good every day."
   ]
  },
  {
   "cell_type": "markdown",
   "id": "6baa7646",
   "metadata": {
    "papermill": {
     "duration": 0.105353,
     "end_time": "2022-04-06T16:23:03.527889",
     "exception": false,
     "start_time": "2022-04-06T16:23:03.422536",
     "status": "completed"
    },
    "tags": []
   },
   "source": [
    "#### **Sex**"
   ]
  },
  {
   "cell_type": "code",
   "execution_count": 18,
   "id": "6b93d84e",
   "metadata": {
    "execution": {
     "iopub.execute_input": "2022-04-06T16:23:03.823334Z",
     "iopub.status.busy": "2022-04-06T16:23:03.745637Z",
     "iopub.status.idle": "2022-04-06T16:23:03.967492Z",
     "shell.execute_reply": "2022-04-06T16:23:03.966939Z",
     "shell.execute_reply.started": "2022-04-06T15:01:26.067082Z"
    },
    "papermill": {
     "duration": 0.332331,
     "end_time": "2022-04-06T16:23:03.967639",
     "exception": false,
     "start_time": "2022-04-06T16:23:03.635308",
     "status": "completed"
    },
    "tags": []
   },
   "outputs": [
    {
     "data": {
      "text/plain": [
       "<AxesSubplot:>"
      ]
     },
     "execution_count": 18,
     "metadata": {},
     "output_type": "execute_result"
    },
    {
     "data": {
      "image/png": "[encoded data removed]",
      "text/plain": [
       "<Figure size 432x288 with 1 Axes>"
      ]
     },
     "metadata": {
      "needs_background": "light"
     },
     "output_type": "display_data"
    }
   ],
   "source": [
    "(data['Sex'].value_counts()/data.shape[0]).plot(kind = 'bar', color = 'tan')"
   ]
  },
  {
   "cell_type": "markdown",
   "id": "16dbcba6",
   "metadata": {
    "papermill": {
     "duration": 0.104925,
     "end_time": "2022-04-06T16:23:04.180278",
     "exception": false,
     "start_time": "2022-04-06T16:23:04.075353",
     "status": "completed"
    },
    "tags": []
   },
   "source": [
    "Gender distribution seems to be fairly even."
   ]
  },
  {
   "cell_type": "markdown",
   "id": "e94bf0c7",
   "metadata": {
    "papermill": {
     "duration": 0.104935,
     "end_time": "2022-04-06T16:23:04.390740",
     "exception": false,
     "start_time": "2022-04-06T16:23:04.285805",
     "status": "completed"
    },
    "tags": []
   },
   "source": [
    "#### **AgeCategory, Race, Diabetic and GenHealth**"
   ]
  },
  {
   "cell_type": "code",
   "execution_count": 19,
   "id": "9adb8d33",
   "metadata": {
    "execution": {
     "iopub.execute_input": "2022-04-06T16:23:04.607957Z",
     "iopub.status.busy": "2022-04-06T16:23:04.607228Z",
     "iopub.status.idle": "2022-04-06T16:23:04.729395Z",
     "shell.execute_reply": "2022-04-06T16:23:04.729857Z",
     "shell.execute_reply.started": "2022-04-06T15:01:26.310179Z"
    },
    "papermill": {
     "duration": 0.233855,
     "end_time": "2022-04-06T16:23:04.730030",
     "exception": false,
     "start_time": "2022-04-06T16:23:04.496175",
     "status": "completed"
    },
    "tags": []
   },
   "outputs": [
    {
     "data": {
      "text/html": [
       "<style type=\"text/css\">\n",
       "#T_03db1_row0_col0 {\n",
       "  width: 10em;\n",
       "  height: 80%;\n",
       "  background: linear-gradient(90deg,thistle 100.0%, transparent 100.0%);\n",
       "}\n",
       "#T_03db1_row1_col0 {\n",
       "  width: 10em;\n",
       "  height: 80%;\n",
       "  background: linear-gradient(90deg,thistle 97.3%, transparent 97.3%);\n",
       "}\n",
       "#T_03db1_row2_col0 {\n",
       "  width: 10em;\n",
       "  height: 80%;\n",
       "  background: linear-gradient(90deg,thistle 82.1%, transparent 82.1%);\n",
       "}\n",
       "#T_03db1_row3_col0 {\n",
       "  width: 10em;\n",
       "  height: 80%;\n",
       "  background: linear-gradient(90deg,thistle 74.4%, transparent 74.4%);\n",
       "}\n",
       "#T_03db1_row4_col0 {\n",
       "  width: 10em;\n",
       "  height: 80%;\n",
       "  background: linear-gradient(90deg,thistle 49.0%, transparent 49.0%);\n",
       "}\n",
       "#T_03db1_row5_col0 {\n",
       "  width: 10em;\n",
       "  height: 80%;\n",
       "  background: linear-gradient(90deg,thistle 41.9%, transparent 41.9%);\n",
       "}\n",
       "#T_03db1_row6_col0 {\n",
       "  width: 10em;\n",
       "  height: 80%;\n",
       "  background: linear-gradient(90deg,thistle 28.1%, transparent 28.1%);\n",
       "}\n",
       "#T_03db1_row7_col0 {\n",
       "  width: 10em;\n",
       "  height: 80%;\n",
       "  background: linear-gradient(90deg,thistle 26.3%, transparent 26.3%);\n",
       "}\n",
       "#T_03db1_row8_col0 {\n",
       "  width: 10em;\n",
       "  height: 80%;\n",
       "  background: linear-gradient(90deg,thistle 23.9%, transparent 23.9%);\n",
       "}\n",
       "#T_03db1_row9_col0 {\n",
       "  width: 10em;\n",
       "  height: 80%;\n",
       "  background: linear-gradient(90deg,thistle 23.6%, transparent 23.6%);\n",
       "}\n",
       "#T_03db1_row10_col0 {\n",
       "  width: 10em;\n",
       "  height: 80%;\n",
       "  background: linear-gradient(90deg,thistle 20.9%, transparent 20.9%);\n",
       "}\n",
       "#T_03db1_row11_col0 {\n",
       "  width: 10em;\n",
       "  height: 80%;\n",
       "  background: linear-gradient(90deg,thistle 10.5%, transparent 10.5%);\n",
       "}\n",
       "#T_03db1_row12_col0 {\n",
       "  width: 10em;\n",
       "  height: 80%;\n",
       "}\n",
       "</style>\n",
       "<table id=\"T_03db1_\">\n",
       "  <thead>\n",
       "    <tr>\n",
       "      <th class=\"blank level0\" >&nbsp;</th>\n",
       "      <th class=\"col_heading level0 col0\" >AgeCategory</th>\n",
       "    </tr>\n",
       "  </thead>\n",
       "  <tbody>\n",
       "    <tr>\n",
       "      <th id=\"T_03db1_level0_row0\" class=\"row_heading level0 row0\" >65-69</th>\n",
       "      <td id=\"T_03db1_row0_col0\" class=\"data row0 col0\" >34151</td>\n",
       "    </tr>\n",
       "    <tr>\n",
       "      <th id=\"T_03db1_level0_row1\" class=\"row_heading level0 row1\" >60-64</th>\n",
       "      <td id=\"T_03db1_row1_col0\" class=\"data row1 col0\" >33686</td>\n",
       "    </tr>\n",
       "    <tr>\n",
       "      <th id=\"T_03db1_level0_row2\" class=\"row_heading level0 row2\" >70-74</th>\n",
       "      <td id=\"T_03db1_row2_col0\" class=\"data row2 col0\" >31065</td>\n",
       "    </tr>\n",
       "    <tr>\n",
       "      <th id=\"T_03db1_level0_row3\" class=\"row_heading level0 row3\" >55-59</th>\n",
       "      <td id=\"T_03db1_row3_col0\" class=\"data row3 col0\" >29757</td>\n",
       "    </tr>\n",
       "    <tr>\n",
       "      <th id=\"T_03db1_level0_row4\" class=\"row_heading level0 row4\" >50-54</th>\n",
       "      <td id=\"T_03db1_row4_col0\" class=\"data row4 col0\" >25382</td>\n",
       "    </tr>\n",
       "    <tr>\n",
       "      <th id=\"T_03db1_level0_row5\" class=\"row_heading level0 row5\" >80 or older</th>\n",
       "      <td id=\"T_03db1_row5_col0\" class=\"data row5 col0\" >24153</td>\n",
       "    </tr>\n",
       "    <tr>\n",
       "      <th id=\"T_03db1_level0_row6\" class=\"row_heading level0 row6\" >45-49</th>\n",
       "      <td id=\"T_03db1_row6_col0\" class=\"data row6 col0\" >21791</td>\n",
       "    </tr>\n",
       "    <tr>\n",
       "      <th id=\"T_03db1_level0_row7\" class=\"row_heading level0 row7\" >75-79</th>\n",
       "      <td id=\"T_03db1_row7_col0\" class=\"data row7 col0\" >21482</td>\n",
       "    </tr>\n",
       "    <tr>\n",
       "      <th id=\"T_03db1_level0_row8\" class=\"row_heading level0 row8\" >18-24</th>\n",
       "      <td id=\"T_03db1_row8_col0\" class=\"data row8 col0\" >21064</td>\n",
       "    </tr>\n",
       "    <tr>\n",
       "      <th id=\"T_03db1_level0_row9\" class=\"row_heading level0 row9\" >40-44</th>\n",
       "      <td id=\"T_03db1_row9_col0\" class=\"data row9 col0\" >21006</td>\n",
       "    </tr>\n",
       "    <tr>\n",
       "      <th id=\"T_03db1_level0_row10\" class=\"row_heading level0 row10\" >35-39</th>\n",
       "      <td id=\"T_03db1_row10_col0\" class=\"data row10 col0\" >20550</td>\n",
       "    </tr>\n",
       "    <tr>\n",
       "      <th id=\"T_03db1_level0_row11\" class=\"row_heading level0 row11\" >30-34</th>\n",
       "      <td id=\"T_03db1_row11_col0\" class=\"data row11 col0\" >18753</td>\n",
       "    </tr>\n",
       "    <tr>\n",
       "      <th id=\"T_03db1_level0_row12\" class=\"row_heading level0 row12\" >25-29</th>\n",
       "      <td id=\"T_03db1_row12_col0\" class=\"data row12 col0\" >16955</td>\n",
       "    </tr>\n",
       "  </tbody>\n",
       "</table>\n"
      ],
      "text/plain": [
       "<pandas.io.formats.style.Styler at 0x7feaa6e41050>"
      ]
     },
     "execution_count": 19,
     "metadata": {},
     "output_type": "execute_result"
    }
   ],
   "source": [
    "pd.DataFrame(data['AgeCategory'].value_counts()).style.bar(color='thistle')"
   ]
  },
  {
   "cell_type": "code",
   "execution_count": 20,
   "id": "97d0e4b9",
   "metadata": {
    "execution": {
     "iopub.execute_input": "2022-04-06T16:23:04.948591Z",
     "iopub.status.busy": "2022-04-06T16:23:04.947601Z",
     "iopub.status.idle": "2022-04-06T16:23:05.008180Z",
     "shell.execute_reply": "2022-04-06T16:23:05.009213Z",
     "shell.execute_reply.started": "2022-04-06T15:01:26.442316Z"
    },
    "papermill": {
     "duration": 0.171598,
     "end_time": "2022-04-06T16:23:05.009387",
     "exception": false,
     "start_time": "2022-04-06T16:23:04.837789",
     "status": "completed"
    },
    "tags": []
   },
   "outputs": [
    {
     "data": {
      "text/html": [
       "<style type=\"text/css\">\n",
       "#T_081cb_row0_col0 {\n",
       "  width: 10em;\n",
       "  height: 80%;\n",
       "  background: linear-gradient(90deg,navajowhite 100.0%, transparent 100.0%);\n",
       "}\n",
       "#T_081cb_row1_col0 {\n",
       "  width: 10em;\n",
       "  height: 80%;\n",
       "  background: linear-gradient(90deg,navajowhite 9.3%, transparent 9.3%);\n",
       "}\n",
       "#T_081cb_row2_col0 {\n",
       "  width: 10em;\n",
       "  height: 80%;\n",
       "  background: linear-gradient(90deg,navajowhite 7.4%, transparent 7.4%);\n",
       "}\n",
       "#T_081cb_row3_col0 {\n",
       "  width: 10em;\n",
       "  height: 80%;\n",
       "  background: linear-gradient(90deg,navajowhite 2.4%, transparent 2.4%);\n",
       "}\n",
       "#T_081cb_row4_col0 {\n",
       "  width: 10em;\n",
       "  height: 80%;\n",
       "  background: linear-gradient(90deg,navajowhite 1.2%, transparent 1.2%);\n",
       "}\n",
       "#T_081cb_row5_col0 {\n",
       "  width: 10em;\n",
       "  height: 80%;\n",
       "}\n",
       "</style>\n",
       "<table id=\"T_081cb_\">\n",
       "  <thead>\n",
       "    <tr>\n",
       "      <th class=\"blank level0\" >&nbsp;</th>\n",
       "      <th class=\"col_heading level0 col0\" >Race</th>\n",
       "    </tr>\n",
       "  </thead>\n",
       "  <tbody>\n",
       "    <tr>\n",
       "      <th id=\"T_081cb_level0_row0\" class=\"row_heading level0 row0\" >White</th>\n",
       "      <td id=\"T_081cb_row0_col0\" class=\"data row0 col0\" >245212</td>\n",
       "    </tr>\n",
       "    <tr>\n",
       "      <th id=\"T_081cb_level0_row1\" class=\"row_heading level0 row1\" >Hispanic</th>\n",
       "      <td id=\"T_081cb_row1_col0\" class=\"data row1 col0\" >27446</td>\n",
       "    </tr>\n",
       "    <tr>\n",
       "      <th id=\"T_081cb_level0_row2\" class=\"row_heading level0 row2\" >Black</th>\n",
       "      <td id=\"T_081cb_row2_col0\" class=\"data row2 col0\" >22939</td>\n",
       "    </tr>\n",
       "    <tr>\n",
       "      <th id=\"T_081cb_level0_row3\" class=\"row_heading level0 row3\" >Other</th>\n",
       "      <td id=\"T_081cb_row3_col0\" class=\"data row3 col0\" >10928</td>\n",
       "    </tr>\n",
       "    <tr>\n",
       "      <th id=\"T_081cb_level0_row4\" class=\"row_heading level0 row4\" >Asian</th>\n",
       "      <td id=\"T_081cb_row4_col0\" class=\"data row4 col0\" >8068</td>\n",
       "    </tr>\n",
       "    <tr>\n",
       "      <th id=\"T_081cb_level0_row5\" class=\"row_heading level0 row5\" >American Indian/Alaskan Native</th>\n",
       "      <td id=\"T_081cb_row5_col0\" class=\"data row5 col0\" >5202</td>\n",
       "    </tr>\n",
       "  </tbody>\n",
       "</table>\n"
      ],
      "text/plain": [
       "<pandas.io.formats.style.Styler at 0x7feaa6c716d0>"
      ]
     },
     "execution_count": 20,
     "metadata": {},
     "output_type": "execute_result"
    }
   ],
   "source": [
    "pd.DataFrame(data['Race'].value_counts()).style.bar(color='navajowhite')"
   ]
  },
  {
   "cell_type": "code",
   "execution_count": 21,
   "id": "446aa8cc",
   "metadata": {
    "execution": {
     "iopub.execute_input": "2022-04-06T16:23:05.288810Z",
     "iopub.status.busy": "2022-04-06T16:23:05.287782Z",
     "iopub.status.idle": "2022-04-06T16:23:05.299633Z",
     "shell.execute_reply": "2022-04-06T16:23:05.299009Z",
     "shell.execute_reply.started": "2022-04-06T15:01:26.510338Z"
    },
    "papermill": {
     "duration": 0.172717,
     "end_time": "2022-04-06T16:23:05.299803",
     "exception": false,
     "start_time": "2022-04-06T16:23:05.127086",
     "status": "completed"
    },
    "tags": []
   },
   "outputs": [
    {
     "data": {
      "text/html": [
       "<style type=\"text/css\">\n",
       "#T_2a2bc_row0_col0 {\n",
       "  width: 10em;\n",
       "  height: 80%;\n",
       "  background: linear-gradient(90deg,thistle 100.0%, transparent 100.0%);\n",
       "}\n",
       "#T_2a2bc_row1_col0 {\n",
       "  width: 10em;\n",
       "  height: 80%;\n",
       "  background: linear-gradient(90deg,thistle 14.3%, transparent 14.3%);\n",
       "}\n",
       "#T_2a2bc_row2_col0 {\n",
       "  width: 10em;\n",
       "  height: 80%;\n",
       "  background: linear-gradient(90deg,thistle 1.6%, transparent 1.6%);\n",
       "}\n",
       "#T_2a2bc_row3_col0 {\n",
       "  width: 10em;\n",
       "  height: 80%;\n",
       "}\n",
       "</style>\n",
       "<table id=\"T_2a2bc_\">\n",
       "  <thead>\n",
       "    <tr>\n",
       "      <th class=\"blank level0\" >&nbsp;</th>\n",
       "      <th class=\"col_heading level0 col0\" >Diabetic</th>\n",
       "    </tr>\n",
       "  </thead>\n",
       "  <tbody>\n",
       "    <tr>\n",
       "      <th id=\"T_2a2bc_level0_row0\" class=\"row_heading level0 row0\" >No</th>\n",
       "      <td id=\"T_2a2bc_row0_col0\" class=\"data row0 col0\" >269653</td>\n",
       "    </tr>\n",
       "    <tr>\n",
       "      <th id=\"T_2a2bc_level0_row1\" class=\"row_heading level0 row1\" >Yes</th>\n",
       "      <td id=\"T_2a2bc_row1_col0\" class=\"data row1 col0\" >40802</td>\n",
       "    </tr>\n",
       "    <tr>\n",
       "      <th id=\"T_2a2bc_level0_row2\" class=\"row_heading level0 row2\" >No, borderline diabetes</th>\n",
       "      <td id=\"T_2a2bc_row2_col0\" class=\"data row2 col0\" >6781</td>\n",
       "    </tr>\n",
       "    <tr>\n",
       "      <th id=\"T_2a2bc_level0_row3\" class=\"row_heading level0 row3\" >Yes (during pregnancy)</th>\n",
       "      <td id=\"T_2a2bc_row3_col0\" class=\"data row3 col0\" >2559</td>\n",
       "    </tr>\n",
       "  </tbody>\n",
       "</table>\n"
      ],
      "text/plain": [
       "<pandas.io.formats.style.Styler at 0x7feaa6d38410>"
      ]
     },
     "execution_count": 21,
     "metadata": {},
     "output_type": "execute_result"
    }
   ],
   "source": [
    "pd.DataFrame(data['Diabetic'].value_counts()).style.bar(color = 'thistle')"
   ]
  },
  {
   "cell_type": "code",
   "execution_count": 22,
   "id": "b9a944c2",
   "metadata": {
    "execution": {
     "iopub.execute_input": "2022-04-06T16:23:05.576538Z",
     "iopub.status.busy": "2022-04-06T16:23:05.575579Z",
     "iopub.status.idle": "2022-04-06T16:23:05.579896Z",
     "shell.execute_reply": "2022-04-06T16:23:05.579323Z",
     "shell.execute_reply.started": "2022-04-06T15:01:26.57777Z"
    },
    "papermill": {
     "duration": 0.172754,
     "end_time": "2022-04-06T16:23:05.580042",
     "exception": false,
     "start_time": "2022-04-06T16:23:05.407288",
     "status": "completed"
    },
    "tags": []
   },
   "outputs": [
    {
     "data": {
      "text/html": [
       "<style type=\"text/css\">\n",
       "#T_79271_row0_col0 {\n",
       "  width: 10em;\n",
       "  height: 80%;\n",
       "  background: linear-gradient(90deg,navajowhite 100.0%, transparent 100.0%);\n",
       "}\n",
       "#T_79271_row1_col0 {\n",
       "  width: 10em;\n",
       "  height: 80%;\n",
       "  background: linear-gradient(90deg,navajowhite 79.8%, transparent 79.8%);\n",
       "}\n",
       "#T_79271_row2_col0 {\n",
       "  width: 10em;\n",
       "  height: 80%;\n",
       "  background: linear-gradient(90deg,navajowhite 54.2%, transparent 54.2%);\n",
       "}\n",
       "#T_79271_row3_col0 {\n",
       "  width: 10em;\n",
       "  height: 80%;\n",
       "  background: linear-gradient(90deg,navajowhite 22.8%, transparent 22.8%);\n",
       "}\n",
       "#T_79271_row4_col0 {\n",
       "  width: 10em;\n",
       "  height: 80%;\n",
       "}\n",
       "</style>\n",
       "<table id=\"T_79271_\">\n",
       "  <thead>\n",
       "    <tr>\n",
       "      <th class=\"blank level0\" >&nbsp;</th>\n",
       "      <th class=\"col_heading level0 col0\" >GenHealth</th>\n",
       "    </tr>\n",
       "  </thead>\n",
       "  <tbody>\n",
       "    <tr>\n",
       "      <th id=\"T_79271_level0_row0\" class=\"row_heading level0 row0\" >Very good</th>\n",
       "      <td id=\"T_79271_row0_col0\" class=\"data row0 col0\" >113858</td>\n",
       "    </tr>\n",
       "    <tr>\n",
       "      <th id=\"T_79271_level0_row1\" class=\"row_heading level0 row1\" >Good</th>\n",
       "      <td id=\"T_79271_row1_col0\" class=\"data row1 col0\" >93129</td>\n",
       "    </tr>\n",
       "    <tr>\n",
       "      <th id=\"T_79271_level0_row2\" class=\"row_heading level0 row2\" >Excellent</th>\n",
       "      <td id=\"T_79271_row2_col0\" class=\"data row2 col0\" >66842</td>\n",
       "    </tr>\n",
       "    <tr>\n",
       "      <th id=\"T_79271_level0_row3\" class=\"row_heading level0 row3\" >Fair</th>\n",
       "      <td id=\"T_79271_row3_col0\" class=\"data row3 col0\" >34677</td>\n",
       "    </tr>\n",
       "    <tr>\n",
       "      <th id=\"T_79271_level0_row4\" class=\"row_heading level0 row4\" >Poor</th>\n",
       "      <td id=\"T_79271_row4_col0\" class=\"data row4 col0\" >11289</td>\n",
       "    </tr>\n",
       "  </tbody>\n",
       "</table>\n"
      ],
      "text/plain": [
       "<pandas.io.formats.style.Styler at 0x7feaa6c71110>"
      ]
     },
     "execution_count": 22,
     "metadata": {},
     "output_type": "execute_result"
    }
   ],
   "source": [
    "pd.DataFrame(data['GenHealth'].value_counts()).style.bar(color='navajowhite')"
   ]
  },
  {
   "cell_type": "markdown",
   "id": "512f6d32",
   "metadata": {
    "papermill": {
     "duration": 0.1083,
     "end_time": "2022-04-06T16:23:05.796118",
     "exception": false,
     "start_time": "2022-04-06T16:23:05.687818",
     "status": "completed"
    },
    "tags": []
   },
   "source": [
    "#### **SleepTime**"
   ]
  },
  {
   "cell_type": "code",
   "execution_count": 23,
   "id": "75560f69",
   "metadata": {
    "execution": {
     "iopub.execute_input": "2022-04-06T16:23:06.019313Z",
     "iopub.status.busy": "2022-04-06T16:23:06.018348Z",
     "iopub.status.idle": "2022-04-06T16:23:06.267394Z",
     "shell.execute_reply": "2022-04-06T16:23:06.268039Z",
     "shell.execute_reply.started": "2022-04-06T15:01:26.651043Z"
    },
    "papermill": {
     "duration": 0.361676,
     "end_time": "2022-04-06T16:23:06.268246",
     "exception": false,
     "start_time": "2022-04-06T16:23:05.906570",
     "status": "completed"
    },
    "tags": []
   },
   "outputs": [
    {
     "data": {
      "text/plain": [
       "<AxesSubplot:>"
      ]
     },
     "execution_count": 23,
     "metadata": {},
     "output_type": "execute_result"
    },
    {
     "data": {
      "image/png": "[encoded data removed]",
      "text/plain": [
       "<Figure size 432x288 with 1 Axes>"
      ]
     },
     "metadata": {
      "needs_background": "light"
     },
     "output_type": "display_data"
    }
   ],
   "source": [
    "data['SleepTime'].hist(bins = 15, color = 'lightpink')"
   ]
  },
  {
   "cell_type": "markdown",
   "id": "8e4ae912",
   "metadata": {
    "papermill": {
     "duration": 0.109412,
     "end_time": "2022-04-06T16:23:06.487187",
     "exception": false,
     "start_time": "2022-04-06T16:23:06.377775",
     "status": "completed"
    },
    "tags": []
   },
   "source": [
    "Table Visualization of the same column is shown below (SleepTime)"
   ]
  },
  {
   "cell_type": "code",
   "execution_count": 24,
   "id": "5d626b87",
   "metadata": {
    "execution": {
     "iopub.execute_input": "2022-04-06T16:23:06.711707Z",
     "iopub.status.busy": "2022-04-06T16:23:06.711071Z",
     "iopub.status.idle": "2022-04-06T16:23:06.731732Z",
     "shell.execute_reply": "2022-04-06T16:23:06.732215Z",
     "shell.execute_reply.started": "2022-04-06T15:01:26.926298Z"
    },
    "papermill": {
     "duration": 0.133826,
     "end_time": "2022-04-06T16:23:06.732377",
     "exception": false,
     "start_time": "2022-04-06T16:23:06.598551",
     "status": "completed"
    },
    "tags": []
   },
   "outputs": [
    {
     "data": {
      "text/html": [
       "<style type=\"text/css\">\n",
       "#T_0772a_row0_col0 {\n",
       "  width: 10em;\n",
       "  height: 80%;\n",
       "  background: linear-gradient(90deg,lightpink 0.6%, transparent 0.6%);\n",
       "}\n",
       "#T_0772a_row1_col0 {\n",
       "  width: 10em;\n",
       "  height: 80%;\n",
       "  background: linear-gradient(90deg,lightpink 0.8%, transparent 0.8%);\n",
       "}\n",
       "#T_0772a_row2_col0 {\n",
       "  width: 10em;\n",
       "  height: 80%;\n",
       "  background: linear-gradient(90deg,lightpink 2.0%, transparent 2.0%);\n",
       "}\n",
       "#T_0772a_row3_col0 {\n",
       "  width: 10em;\n",
       "  height: 80%;\n",
       "  background: linear-gradient(90deg,lightpink 7.9%, transparent 7.9%);\n",
       "}\n",
       "#T_0772a_row4_col0 {\n",
       "  width: 10em;\n",
       "  height: 80%;\n",
       "  background: linear-gradient(90deg,lightpink 19.6%, transparent 19.6%);\n",
       "}\n",
       "#T_0772a_row5_col0 {\n",
       "  width: 10em;\n",
       "  height: 80%;\n",
       "  background: linear-gradient(90deg,lightpink 68.3%, transparent 68.3%);\n",
       "}\n",
       "#T_0772a_row6_col0 {\n",
       "  width: 10em;\n",
       "  height: 80%;\n",
       "  background: linear-gradient(90deg,lightpink 100.0%, transparent 100.0%);\n",
       "}\n",
       "#T_0772a_row7_col0 {\n",
       "  width: 10em;\n",
       "  height: 80%;\n",
       "  background: linear-gradient(90deg,lightpink 99.8%, transparent 99.8%);\n",
       "}\n",
       "#T_0772a_row8_col0 {\n",
       "  width: 10em;\n",
       "  height: 80%;\n",
       "  background: linear-gradient(90deg,lightpink 16.4%, transparent 16.4%);\n",
       "}\n",
       "#T_0772a_row9_col0 {\n",
       "  width: 10em;\n",
       "  height: 80%;\n",
       "  background: linear-gradient(90deg,lightpink 8.0%, transparent 8.0%);\n",
       "}\n",
       "#T_0772a_row10_col0 {\n",
       "  width: 10em;\n",
       "  height: 80%;\n",
       "  background: linear-gradient(90deg,lightpink 0.4%, transparent 0.4%);\n",
       "}\n",
       "#T_0772a_row11_col0 {\n",
       "  width: 10em;\n",
       "  height: 80%;\n",
       "  background: linear-gradient(90deg,lightpink 2.3%, transparent 2.3%);\n",
       "}\n",
       "#T_0772a_row12_col0, #T_0772a_row17_col0, #T_0772a_row19_col0 {\n",
       "  width: 10em;\n",
       "  height: 80%;\n",
       "  background: linear-gradient(90deg,lightpink 0.1%, transparent 0.1%);\n",
       "}\n",
       "#T_0772a_row13_col0, #T_0772a_row14_col0, #T_0772a_row15_col0 {\n",
       "  width: 10em;\n",
       "  height: 80%;\n",
       "  background: linear-gradient(90deg,lightpink 0.2%, transparent 0.2%);\n",
       "}\n",
       "#T_0772a_row16_col0, #T_0772a_row18_col0, #T_0772a_row21_col0, #T_0772a_row22_col0, #T_0772a_row23_col0 {\n",
       "  width: 10em;\n",
       "  height: 80%;\n",
       "  background: linear-gradient(90deg,lightpink 0.0%, transparent 0.0%);\n",
       "}\n",
       "#T_0772a_row20_col0 {\n",
       "  width: 10em;\n",
       "  height: 80%;\n",
       "}\n",
       "</style>\n",
       "<table id=\"T_0772a_\">\n",
       "  <thead>\n",
       "    <tr>\n",
       "      <th class=\"blank level0\" >&nbsp;</th>\n",
       "      <th class=\"col_heading level0 col0\" >SleepTime</th>\n",
       "    </tr>\n",
       "  </thead>\n",
       "  <tbody>\n",
       "    <tr>\n",
       "      <th id=\"T_0772a_level0_row0\" class=\"row_heading level0 row0\" >1.0</th>\n",
       "      <td id=\"T_0772a_row0_col0\" class=\"data row0 col0\" >551</td>\n",
       "    </tr>\n",
       "    <tr>\n",
       "      <th id=\"T_0772a_level0_row1\" class=\"row_heading level0 row1\" >2.0</th>\n",
       "      <td id=\"T_0772a_row1_col0\" class=\"data row1 col0\" >788</td>\n",
       "    </tr>\n",
       "    <tr>\n",
       "      <th id=\"T_0772a_level0_row2\" class=\"row_heading level0 row2\" >3.0</th>\n",
       "      <td id=\"T_0772a_row2_col0\" class=\"data row2 col0\" >1992</td>\n",
       "    </tr>\n",
       "    <tr>\n",
       "      <th id=\"T_0772a_level0_row3\" class=\"row_heading level0 row3\" >4.0</th>\n",
       "      <td id=\"T_0772a_row3_col0\" class=\"data row3 col0\" >7750</td>\n",
       "    </tr>\n",
       "    <tr>\n",
       "      <th id=\"T_0772a_level0_row4\" class=\"row_heading level0 row4\" >5.0</th>\n",
       "      <td id=\"T_0772a_row4_col0\" class=\"data row4 col0\" >19184</td>\n",
       "    </tr>\n",
       "    <tr>\n",
       "      <th id=\"T_0772a_level0_row5\" class=\"row_heading level0 row5\" >6.0</th>\n",
       "      <td id=\"T_0772a_row5_col0\" class=\"data row5 col0\" >66721</td>\n",
       "    </tr>\n",
       "    <tr>\n",
       "      <th id=\"T_0772a_level0_row6\" class=\"row_heading level0 row6\" >7.0</th>\n",
       "      <td id=\"T_0772a_row6_col0\" class=\"data row6 col0\" >97751</td>\n",
       "    </tr>\n",
       "    <tr>\n",
       "      <th id=\"T_0772a_level0_row7\" class=\"row_heading level0 row7\" >8.0</th>\n",
       "      <td id=\"T_0772a_row7_col0\" class=\"data row7 col0\" >97602</td>\n",
       "    </tr>\n",
       "    <tr>\n",
       "      <th id=\"T_0772a_level0_row8\" class=\"row_heading level0 row8\" >9.0</th>\n",
       "      <td id=\"T_0772a_row8_col0\" class=\"data row8 col0\" >16041</td>\n",
       "    </tr>\n",
       "    <tr>\n",
       "      <th id=\"T_0772a_level0_row9\" class=\"row_heading level0 row9\" >10.0</th>\n",
       "      <td id=\"T_0772a_row9_col0\" class=\"data row9 col0\" >7796</td>\n",
       "    </tr>\n",
       "    <tr>\n",
       "      <th id=\"T_0772a_level0_row10\" class=\"row_heading level0 row10\" >11.0</th>\n",
       "      <td id=\"T_0772a_row10_col0\" class=\"data row10 col0\" >415</td>\n",
       "    </tr>\n",
       "    <tr>\n",
       "      <th id=\"T_0772a_level0_row11\" class=\"row_heading level0 row11\" >12.0</th>\n",
       "      <td id=\"T_0772a_row11_col0\" class=\"data row11 col0\" >2205</td>\n",
       "    </tr>\n",
       "    <tr>\n",
       "      <th id=\"T_0772a_level0_row12\" class=\"row_heading level0 row12\" >13.0</th>\n",
       "      <td id=\"T_0772a_row12_col0\" class=\"data row12 col0\" >97</td>\n",
       "    </tr>\n",
       "    <tr>\n",
       "      <th id=\"T_0772a_level0_row13\" class=\"row_heading level0 row13\" >14.0</th>\n",
       "      <td id=\"T_0772a_row13_col0\" class=\"data row13 col0\" >243</td>\n",
       "    </tr>\n",
       "    <tr>\n",
       "      <th id=\"T_0772a_level0_row14\" class=\"row_heading level0 row14\" >15.0</th>\n",
       "      <td id=\"T_0772a_row14_col0\" class=\"data row14 col0\" >189</td>\n",
       "    </tr>\n",
       "    <tr>\n",
       "      <th id=\"T_0772a_level0_row15\" class=\"row_heading level0 row15\" >16.0</th>\n",
       "      <td id=\"T_0772a_row15_col0\" class=\"data row15 col0\" >236</td>\n",
       "    </tr>\n",
       "    <tr>\n",
       "      <th id=\"T_0772a_level0_row16\" class=\"row_heading level0 row16\" >17.0</th>\n",
       "      <td id=\"T_0772a_row16_col0\" class=\"data row16 col0\" >21</td>\n",
       "    </tr>\n",
       "    <tr>\n",
       "      <th id=\"T_0772a_level0_row17\" class=\"row_heading level0 row17\" >18.0</th>\n",
       "      <td id=\"T_0772a_row17_col0\" class=\"data row17 col0\" >102</td>\n",
       "    </tr>\n",
       "    <tr>\n",
       "      <th id=\"T_0772a_level0_row18\" class=\"row_heading level0 row18\" >19.0</th>\n",
       "      <td id=\"T_0772a_row18_col0\" class=\"data row18 col0\" >3</td>\n",
       "    </tr>\n",
       "    <tr>\n",
       "      <th id=\"T_0772a_level0_row19\" class=\"row_heading level0 row19\" >20.0</th>\n",
       "      <td id=\"T_0772a_row19_col0\" class=\"data row19 col0\" >64</td>\n",
       "    </tr>\n",
       "    <tr>\n",
       "      <th id=\"T_0772a_level0_row20\" class=\"row_heading level0 row20\" >21.0</th>\n",
       "      <td id=\"T_0772a_row20_col0\" class=\"data row20 col0\" >2</td>\n",
       "    </tr>\n",
       "    <tr>\n",
       "      <th id=\"T_0772a_level0_row21\" class=\"row_heading level0 row21\" >22.0</th>\n",
       "      <td id=\"T_0772a_row21_col0\" class=\"data row21 col0\" >9</td>\n",
       "    </tr>\n",
       "    <tr>\n",
       "      <th id=\"T_0772a_level0_row22\" class=\"row_heading level0 row22\" >23.0</th>\n",
       "      <td id=\"T_0772a_row22_col0\" class=\"data row22 col0\" >3</td>\n",
       "    </tr>\n",
       "    <tr>\n",
       "      <th id=\"T_0772a_level0_row23\" class=\"row_heading level0 row23\" >24.0</th>\n",
       "      <td id=\"T_0772a_row23_col0\" class=\"data row23 col0\" >30</td>\n",
       "    </tr>\n",
       "  </tbody>\n",
       "</table>\n"
      ],
      "text/plain": [
       "<pandas.io.formats.style.Styler at 0x7feaa6baebd0>"
      ]
     },
     "execution_count": 24,
     "metadata": {},
     "output_type": "execute_result"
    }
   ],
   "source": [
    "pd.DataFrame(data['SleepTime'].value_counts().sort_index()).style.bar(color='lightpink')"
   ]
  },
  {
   "cell_type": "code",
   "execution_count": 25,
   "id": "5135f23d",
   "metadata": {
    "execution": {
     "iopub.execute_input": "2022-04-06T16:23:06.957828Z",
     "iopub.status.busy": "2022-04-06T16:23:06.957141Z",
     "iopub.status.idle": "2022-04-06T16:23:06.963511Z",
     "shell.execute_reply": "2022-04-06T16:23:06.964004Z",
     "shell.execute_reply.started": "2022-04-06T15:01:26.955368Z"
    },
    "papermill": {
     "duration": 0.121495,
     "end_time": "2022-04-06T16:23:06.964182",
     "exception": false,
     "start_time": "2022-04-06T16:23:06.842687",
     "status": "completed"
    },
    "tags": []
   },
   "outputs": [
    {
     "data": {
      "text/plain": [
       "0.31"
      ]
     },
     "execution_count": 25,
     "metadata": {},
     "output_type": "execute_result"
    }
   ],
   "source": [
    "round(100 * (data['SleepTime'] > 12).sum()/data.shape[0], 2) #Percentage of people with 12 hours of sleep."
   ]
  },
  {
   "cell_type": "markdown",
   "id": "d1241eeb",
   "metadata": {
    "papermill": {
     "duration": 0.112376,
     "end_time": "2022-04-06T16:23:07.188676",
     "exception": false,
     "start_time": "2022-04-06T16:23:07.076300",
     "status": "completed"
    },
    "tags": []
   },
   "source": [
    "There are small proportions with over 12 hours of sleep (about 0.3% in total)"
   ]
  },
  {
   "cell_type": "markdown",
   "id": "403f5aed",
   "metadata": {
    "papermill": {
     "duration": 0.112762,
     "end_time": "2022-04-06T16:23:07.412464",
     "exception": false,
     "start_time": "2022-04-06T16:23:07.299702",
     "status": "completed"
    },
    "tags": []
   },
   "source": [
    "#### **Correlation Matrix**\n",
    "\n",
    "We only have 4 numerical columns out of 18 columns, so the correlation matrix is made as the following:"
   ]
  },
  {
   "cell_type": "code",
   "execution_count": 26,
   "id": "3fead8c4",
   "metadata": {
    "execution": {
     "iopub.execute_input": "2022-04-06T16:23:07.641163Z",
     "iopub.status.busy": "2022-04-06T16:23:07.640402Z",
     "iopub.status.idle": "2022-04-06T16:23:07.673327Z",
     "shell.execute_reply": "2022-04-06T16:23:07.673847Z",
     "shell.execute_reply.started": "2022-04-06T15:01:26.966895Z"
    },
    "papermill": {
     "duration": 0.149056,
     "end_time": "2022-04-06T16:23:07.674016",
     "exception": false,
     "start_time": "2022-04-06T16:23:07.524960",
     "status": "completed"
    },
    "tags": []
   },
   "outputs": [
    {
     "data": {
      "text/html": [
       "<div>\n",
       "<style scoped>\n",
       "    .dataframe tbody tr th:only-of-type {\n",
       "        vertical-align: middle;\n",
       "    }\n",
       "\n",
       "    .dataframe tbody tr th {\n",
       "        vertical-align: top;\n",
       "    }\n",
       "\n",
       "    .dataframe thead th {\n",
       "        text-align: right;\n",
       "    }\n",
       "</style>\n",
       "<table border=\"1\" class=\"dataframe\">\n",
       "  <thead>\n",
       "    <tr style=\"text-align: right;\">\n",
       "      <th></th>\n",
       "      <th>BMI</th>\n",
       "      <th>PhysicalHealth</th>\n",
       "      <th>MentalHealth</th>\n",
       "      <th>SleepTime</th>\n",
       "    </tr>\n",
       "  </thead>\n",
       "  <tbody>\n",
       "    <tr>\n",
       "      <th>BMI</th>\n",
       "      <td>1.000000</td>\n",
       "      <td>0.109788</td>\n",
       "      <td>0.064131</td>\n",
       "      <td>-0.051822</td>\n",
       "    </tr>\n",
       "    <tr>\n",
       "      <th>PhysicalHealth</th>\n",
       "      <td>0.109788</td>\n",
       "      <td>1.000000</td>\n",
       "      <td>0.287987</td>\n",
       "      <td>-0.061387</td>\n",
       "    </tr>\n",
       "    <tr>\n",
       "      <th>MentalHealth</th>\n",
       "      <td>0.064131</td>\n",
       "      <td>0.287987</td>\n",
       "      <td>1.000000</td>\n",
       "      <td>-0.119717</td>\n",
       "    </tr>\n",
       "    <tr>\n",
       "      <th>SleepTime</th>\n",
       "      <td>-0.051822</td>\n",
       "      <td>-0.061387</td>\n",
       "      <td>-0.119717</td>\n",
       "      <td>1.000000</td>\n",
       "    </tr>\n",
       "  </tbody>\n",
       "</table>\n",
       "</div>"
      ],
      "text/plain": [
       "                     BMI  PhysicalHealth  MentalHealth  SleepTime\n",
       "BMI             1.000000        0.109788      0.064131  -0.051822\n",
       "PhysicalHealth  0.109788        1.000000      0.287987  -0.061387\n",
       "MentalHealth    0.064131        0.287987      1.000000  -0.119717\n",
       "SleepTime      -0.051822       -0.061387     -0.119717   1.000000"
      ]
     },
     "execution_count": 26,
     "metadata": {},
     "output_type": "execute_result"
    }
   ],
   "source": [
    "data.corr()"
   ]
  },
  {
   "cell_type": "code",
   "execution_count": 27,
   "id": "838fe43b",
   "metadata": {
    "execution": {
     "iopub.execute_input": "2022-04-06T16:23:07.903282Z",
     "iopub.status.busy": "2022-04-06T16:23:07.902539Z",
     "iopub.status.idle": "2022-04-06T16:23:08.187019Z",
     "shell.execute_reply": "2022-04-06T16:23:08.186225Z",
     "shell.execute_reply.started": "2022-04-06T15:01:27.01854Z"
    },
    "papermill": {
     "duration": 0.401594,
     "end_time": "2022-04-06T16:23:08.187162",
     "exception": false,
     "start_time": "2022-04-06T16:23:07.785568",
     "status": "completed"
    },
    "tags": []
   },
   "outputs": [
    {
     "data": {
      "text/plain": [
       "<AxesSubplot:>"
      ]
     },
     "execution_count": 27,
     "metadata": {},
     "output_type": "execute_result"
    },
    {
     "data": {
      "image/png": "[encoded data removed]",
      "text/plain": [
       "<Figure size 432x288 with 2 Axes>"
      ]
     },
     "metadata": {
      "needs_background": "light"
     },
     "output_type": "display_data"
    }
   ],
   "source": [
    "sns.heatmap(data.corr())"
   ]
  },
  {
   "cell_type": "markdown",
   "id": "fa2f9258",
   "metadata": {
    "papermill": {
     "duration": 0.113402,
     "end_time": "2022-04-06T16:23:08.413989",
     "exception": false,
     "start_time": "2022-04-06T16:23:08.300587",
     "status": "completed"
    },
    "tags": []
   },
   "source": [
    "<p style='color:indianred; font-size:180%'>4. Heart Disease Distribution for each Column</p>\n",
    "\n",
    "In the following, **Heart Disease Distribution** for <ins>each of the other columns</ins> is shown."
   ]
  },
  {
   "cell_type": "markdown",
   "id": "361b1d14",
   "metadata": {
    "papermill": {
     "duration": 0.114001,
     "end_time": "2022-04-06T16:23:08.642412",
     "exception": false,
     "start_time": "2022-04-06T16:23:08.528411",
     "status": "completed"
    },
    "tags": []
   },
   "source": [
    "Since the HeartDisease columns are given as 'Yes' or 'No' values, the following code will change them into numerics (Yes: 1, No: 0)"
   ]
  },
  {
   "cell_type": "code",
   "execution_count": 28,
   "id": "f34ad25e",
   "metadata": {
    "execution": {
     "iopub.execute_input": "2022-04-06T16:23:08.873865Z",
     "iopub.status.busy": "2022-04-06T16:23:08.873176Z",
     "iopub.status.idle": "2022-04-06T16:23:08.980000Z",
     "shell.execute_reply": "2022-04-06T16:23:08.979472Z",
     "shell.execute_reply.started": "2022-04-06T15:01:27.334492Z"
    },
    "papermill": {
     "duration": 0.22263,
     "end_time": "2022-04-06T16:23:08.980153",
     "exception": false,
     "start_time": "2022-04-06T16:23:08.757523",
     "status": "completed"
    },
    "tags": []
   },
   "outputs": [
    {
     "data": {
      "text/html": [
       "<div>\n",
       "<style scoped>\n",
       "    .dataframe tbody tr th:only-of-type {\n",
       "        vertical-align: middle;\n",
       "    }\n",
       "\n",
       "    .dataframe tbody tr th {\n",
       "        vertical-align: top;\n",
       "    }\n",
       "\n",
       "    .dataframe thead th {\n",
       "        text-align: right;\n",
       "    }\n",
       "</style>\n",
       "<table border=\"1\" class=\"dataframe\">\n",
       "  <thead>\n",
       "    <tr style=\"text-align: right;\">\n",
       "      <th></th>\n",
       "      <th>HeartDisease</th>\n",
       "    </tr>\n",
       "  </thead>\n",
       "  <tbody>\n",
       "    <tr>\n",
       "      <th>0</th>\n",
       "      <td>0</td>\n",
       "    </tr>\n",
       "    <tr>\n",
       "      <th>1</th>\n",
       "      <td>0</td>\n",
       "    </tr>\n",
       "    <tr>\n",
       "      <th>2</th>\n",
       "      <td>0</td>\n",
       "    </tr>\n",
       "    <tr>\n",
       "      <th>3</th>\n",
       "      <td>0</td>\n",
       "    </tr>\n",
       "    <tr>\n",
       "      <th>4</th>\n",
       "      <td>0</td>\n",
       "    </tr>\n",
       "  </tbody>\n",
       "</table>\n",
       "</div>"
      ],
      "text/plain": [
       "   HeartDisease\n",
       "0             0\n",
       "1             0\n",
       "2             0\n",
       "3             0\n",
       "4             0"
      ]
     },
     "execution_count": 28,
     "metadata": {},
     "output_type": "execute_result"
    }
   ],
   "source": [
    "data['HeartDisease'] = 1 * (data['HeartDisease'] == 'Yes')\n",
    "pd.DataFrame(data['HeartDisease'].head(5))"
   ]
  },
  {
   "cell_type": "markdown",
   "id": "e26aa799",
   "metadata": {
    "papermill": {
     "duration": 0.130447,
     "end_time": "2022-04-06T16:23:09.233380",
     "exception": false,
     "start_time": "2022-04-06T16:23:09.102933",
     "status": "completed"
    },
    "tags": []
   },
   "source": [
    "#### **Yes or No Columns**"
   ]
  },
  {
   "cell_type": "code",
   "execution_count": 29,
   "id": "c95f4c87",
   "metadata": {
    "execution": {
     "iopub.execute_input": "2022-04-06T16:23:09.462015Z",
     "iopub.status.busy": "2022-04-06T16:23:09.461390Z",
     "iopub.status.idle": "2022-04-06T16:23:10.674367Z",
     "shell.execute_reply": "2022-04-06T16:23:10.674901Z",
     "shell.execute_reply.started": "2022-04-06T15:01:27.454655Z"
    },
    "papermill": {
     "duration": 1.328395,
     "end_time": "2022-04-06T16:23:10.675075",
     "exception": false,
     "start_time": "2022-04-06T16:23:09.346680",
     "status": "completed"
    },
    "tags": []
   },
   "outputs": [
    {
     "data": {
      "image/png": "[encoded data removed]",
      "text/plain": [
       "<Figure size 1080x576 with 8 Axes>"
      ]
     },
     "metadata": {
      "needs_background": "light"
     },
     "output_type": "display_data"
    }
   ],
   "source": [
    "fig, axes = plt.subplots(nrows=2, ncols=4, sharey = True, figsize = (15,8))\n",
    "plt.subplots_adjust(hspace = 0.5)\n",
    "\n",
    "for Column in Yes_No_Columns:\n",
    "    row_n= int((Yes_No_Columns.index(Column) - Yes_No_Columns.index(Column) % 4)/4)\n",
    "    column_n = Yes_No_Columns.index(Column) % 4\n",
    "    data.groupby(Column)['HeartDisease'].mean().plot(kind = 'bar', ax = axes[row_n,column_n], title = Column, color = 'lightblue')"
   ]
  },
  {
   "cell_type": "markdown",
   "id": "5a9b3712",
   "metadata": {
    "papermill": {
     "duration": 0.11422,
     "end_time": "2022-04-06T16:23:10.906015",
     "exception": false,
     "start_time": "2022-04-06T16:23:10.791795",
     "status": "completed"
    },
    "tags": []
   },
   "source": [
    "Above is the Heart Disease (Yes) Proportion for each of the Yes/No for each Yes or No Columns mentioned earlier."
   ]
  },
  {
   "cell_type": "markdown",
   "id": "46966d46",
   "metadata": {
    "papermill": {
     "duration": 0.113853,
     "end_time": "2022-04-06T16:23:11.134739",
     "exception": false,
     "start_time": "2022-04-06T16:23:11.020886",
     "status": "completed"
    },
    "tags": []
   },
   "source": [
    "#### **Sex, AgeCategory, Race, Diabetic, GenHealth**"
   ]
  },
  {
   "cell_type": "code",
   "execution_count": 30,
   "id": "e6056df4",
   "metadata": {
    "execution": {
     "iopub.execute_input": "2022-04-06T16:23:11.372529Z",
     "iopub.status.busy": "2022-04-06T16:23:11.365297Z",
     "iopub.status.idle": "2022-04-06T16:23:11.567318Z",
     "shell.execute_reply": "2022-04-06T16:23:11.566784Z",
     "shell.execute_reply.started": "2022-04-06T15:01:28.855123Z"
    },
    "papermill": {
     "duration": 0.318414,
     "end_time": "2022-04-06T16:23:11.567460",
     "exception": false,
     "start_time": "2022-04-06T16:23:11.249046",
     "status": "completed"
    },
    "tags": []
   },
   "outputs": [
    {
     "data": {
      "text/plain": [
       "<AxesSubplot:xlabel='Sex'>"
      ]
     },
     "execution_count": 30,
     "metadata": {},
     "output_type": "execute_result"
    },
    {
     "data": {
      "image/png": "[encoded data removed]",
      "text/plain": [
       "<Figure size 432x288 with 1 Axes>"
      ]
     },
     "metadata": {
      "needs_background": "light"
     },
     "output_type": "display_data"
    }
   ],
   "source": [
    "data.groupby('Sex')['HeartDisease'].mean().plot(kind = 'bar', color = 'tan')"
   ]
  },
  {
   "cell_type": "markdown",
   "id": "bad5d69d",
   "metadata": {
    "papermill": {
     "duration": 0.115364,
     "end_time": "2022-04-06T16:23:11.798740",
     "exception": false,
     "start_time": "2022-04-06T16:23:11.683376",
     "status": "completed"
    },
    "tags": []
   },
   "source": [
    "Higher proportion with males."
   ]
  },
  {
   "cell_type": "code",
   "execution_count": 31,
   "id": "6d7a0922",
   "metadata": {
    "execution": {
     "iopub.execute_input": "2022-04-06T16:23:12.041038Z",
     "iopub.status.busy": "2022-04-06T16:23:12.040316Z",
     "iopub.status.idle": "2022-04-06T16:23:12.304682Z",
     "shell.execute_reply": "2022-04-06T16:23:12.305229Z",
     "shell.execute_reply.started": "2022-04-06T15:01:29.091923Z"
    },
    "papermill": {
     "duration": 0.390478,
     "end_time": "2022-04-06T16:23:12.305399",
     "exception": false,
     "start_time": "2022-04-06T16:23:11.914921",
     "status": "completed"
    },
    "tags": []
   },
   "outputs": [
    {
     "data": {
      "text/plain": [
       "<AxesSubplot:xlabel='AgeCategory'>"
      ]
     },
     "execution_count": 31,
     "metadata": {},
     "output_type": "execute_result"
    },
    {
     "data": {
      "image/png": "[encoded data removed]",
      "text/plain": [
       "<Figure size 432x288 with 1 Axes>"
      ]
     },
     "metadata": {
      "needs_background": "light"
     },
     "output_type": "display_data"
    }
   ],
   "source": [
    "data.groupby('AgeCategory')['HeartDisease'].mean().plot(kind = 'bar', color = 'thistle')"
   ]
  },
  {
   "cell_type": "markdown",
   "id": "b886b379",
   "metadata": {
    "papermill": {
     "duration": 0.116746,
     "end_time": "2022-04-06T16:23:12.539900",
     "exception": false,
     "start_time": "2022-04-06T16:23:12.423154",
     "status": "completed"
    },
    "tags": []
   },
   "source": [
    "Higher proportions with higher Age Category."
   ]
  },
  {
   "cell_type": "code",
   "execution_count": 32,
   "id": "f7ccc202",
   "metadata": {
    "execution": {
     "iopub.execute_input": "2022-04-06T16:23:12.786668Z",
     "iopub.status.busy": "2022-04-06T16:23:12.785695Z",
     "iopub.status.idle": "2022-04-06T16:23:13.014165Z",
     "shell.execute_reply": "2022-04-06T16:23:13.014699Z",
     "shell.execute_reply.started": "2022-04-06T15:01:29.398094Z"
    },
    "papermill": {
     "duration": 0.357374,
     "end_time": "2022-04-06T16:23:13.014902",
     "exception": false,
     "start_time": "2022-04-06T16:23:12.657528",
     "status": "completed"
    },
    "tags": []
   },
   "outputs": [
    {
     "data": {
      "text/plain": [
       "<AxesSubplot:xlabel='Race'>"
      ]
     },
     "execution_count": 32,
     "metadata": {},
     "output_type": "execute_result"
    },
    {
     "data": {
      "image/png": "[encoded data removed]",
      "text/plain": [
       "<Figure size 432x288 with 1 Axes>"
      ]
     },
     "metadata": {
      "needs_background": "light"
     },
     "output_type": "display_data"
    }
   ],
   "source": [
    "data.groupby('Race')['HeartDisease'].mean().plot(kind = 'bar', color = 'tan')"
   ]
  },
  {
   "cell_type": "markdown",
   "id": "793fa991",
   "metadata": {
    "papermill": {
     "duration": 0.121786,
     "end_time": "2022-04-06T16:23:13.256421",
     "exception": false,
     "start_time": "2022-04-06T16:23:13.134635",
     "status": "completed"
    },
    "tags": []
   },
   "source": [
    "Lowest Proportion with 'Asian' and Highest with 'American Indian/Alaskan Native'."
   ]
  },
  {
   "cell_type": "code",
   "execution_count": 33,
   "id": "b98f8d05",
   "metadata": {
    "execution": {
     "iopub.execute_input": "2022-04-06T16:23:13.503784Z",
     "iopub.status.busy": "2022-04-06T16:23:13.503109Z",
     "iopub.status.idle": "2022-04-06T16:23:13.709987Z",
     "shell.execute_reply": "2022-04-06T16:23:13.710525Z",
     "shell.execute_reply.started": "2022-04-06T15:01:29.660868Z"
    },
    "papermill": {
     "duration": 0.335472,
     "end_time": "2022-04-06T16:23:13.710695",
     "exception": false,
     "start_time": "2022-04-06T16:23:13.375223",
     "status": "completed"
    },
    "tags": []
   },
   "outputs": [
    {
     "data": {
      "text/plain": [
       "<AxesSubplot:xlabel='Diabetic'>"
      ]
     },
     "execution_count": 33,
     "metadata": {},
     "output_type": "execute_result"
    },
    {
     "data": {
      "image/png": "[encoded data removed]",
      "text/plain": [
       "<Figure size 432x288 with 1 Axes>"
      ]
     },
     "metadata": {
      "needs_background": "light"
     },
     "output_type": "display_data"
    }
   ],
   "source": [
    "data.groupby('Diabetic')['HeartDisease'].mean().plot(kind = 'bar', color = 'thistle')"
   ]
  },
  {
   "cell_type": "code",
   "execution_count": 34,
   "id": "e90c314b",
   "metadata": {
    "execution": {
     "iopub.execute_input": "2022-04-06T16:23:13.958430Z",
     "iopub.status.busy": "2022-04-06T16:23:13.957805Z",
     "iopub.status.idle": "2022-04-06T16:23:14.185941Z",
     "shell.execute_reply": "2022-04-06T16:23:14.186486Z",
     "shell.execute_reply.started": "2022-04-06T15:01:29.888518Z"
    },
    "papermill": {
     "duration": 0.352155,
     "end_time": "2022-04-06T16:23:14.186653",
     "exception": false,
     "start_time": "2022-04-06T16:23:13.834498",
     "status": "completed"
    },
    "tags": []
   },
   "outputs": [
    {
     "data": {
      "text/plain": [
       "<AxesSubplot:xlabel='GenHealth'>"
      ]
     },
     "execution_count": 34,
     "metadata": {},
     "output_type": "execute_result"
    },
    {
     "data": {
      "image/png": "[encoded data removed]",
      "text/plain": [
       "<Figure size 432x288 with 1 Axes>"
      ]
     },
     "metadata": {
      "needs_background": "light"
     },
     "output_type": "display_data"
    }
   ],
   "source": [
    "data.groupby('GenHealth')['HeartDisease'].mean().sort_values().plot(kind = 'bar', color = 'tan')"
   ]
  },
  {
   "cell_type": "markdown",
   "id": "5fd05e7a",
   "metadata": {
    "papermill": {
     "duration": 0.121328,
     "end_time": "2022-04-06T16:23:14.429362",
     "exception": false,
     "start_time": "2022-04-06T16:23:14.308034",
     "status": "completed"
    },
    "tags": []
   },
   "source": [
    "#### **BMI**\n",
    "\n",
    "https://www.cdc.gov/healthyweight/assessing/bmi/adult_bmi/index.html\n",
    "shows the following table of BMI Interpretations:"
   ]
  },
  {
   "cell_type": "code",
   "execution_count": 35,
   "id": "da78961e",
   "metadata": {
    "execution": {
     "iopub.execute_input": "2022-04-06T16:23:14.676627Z",
     "iopub.status.busy": "2022-04-06T16:23:14.676019Z",
     "iopub.status.idle": "2022-04-06T16:23:14.684598Z",
     "shell.execute_reply": "2022-04-06T16:23:14.685167Z",
     "shell.execute_reply.started": "2022-04-06T15:01:30.159043Z"
    },
    "papermill": {
     "duration": 0.134097,
     "end_time": "2022-04-06T16:23:14.685329",
     "exception": false,
     "start_time": "2022-04-06T16:23:14.551232",
     "status": "completed"
    },
    "tags": []
   },
   "outputs": [
    {
     "data": {
      "text/html": [
       "<div>\n",
       "<style scoped>\n",
       "    .dataframe tbody tr th:only-of-type {\n",
       "        vertical-align: middle;\n",
       "    }\n",
       "\n",
       "    .dataframe tbody tr th {\n",
       "        vertical-align: top;\n",
       "    }\n",
       "\n",
       "    .dataframe thead th {\n",
       "        text-align: right;\n",
       "    }\n",
       "</style>\n",
       "<table border=\"1\" class=\"dataframe\">\n",
       "  <thead>\n",
       "    <tr style=\"text-align: right;\">\n",
       "      <th></th>\n",
       "      <th>Weight Status</th>\n",
       "    </tr>\n",
       "  </thead>\n",
       "  <tbody>\n",
       "    <tr>\n",
       "      <th>Below 18.5</th>\n",
       "      <td>Underweight</td>\n",
       "    </tr>\n",
       "    <tr>\n",
       "      <th>18.5-24.9</th>\n",
       "      <td>Healthy Weight</td>\n",
       "    </tr>\n",
       "    <tr>\n",
       "      <th>25.0-29.9</th>\n",
       "      <td>Overweight</td>\n",
       "    </tr>\n",
       "    <tr>\n",
       "      <th>30.0 and Above</th>\n",
       "      <td>Obsesity</td>\n",
       "    </tr>\n",
       "  </tbody>\n",
       "</table>\n",
       "</div>"
      ],
      "text/plain": [
       "                 Weight Status\n",
       "Below 18.5         Underweight\n",
       "18.5-24.9       Healthy Weight\n",
       "25.0-29.9           Overweight\n",
       "30.0 and Above        Obsesity"
      ]
     },
     "execution_count": 35,
     "metadata": {},
     "output_type": "execute_result"
    }
   ],
   "source": [
    "pd.DataFrame(data = {'Weight Status' :['Underweight', 'Healthy Weight', 'Overweight', 'Obsesity']}, index = ['Below 18.5', '18.5-24.9', '25.0-29.9', '30.0 and Above'])"
   ]
  },
  {
   "cell_type": "markdown",
   "id": "a278a999",
   "metadata": {
    "papermill": {
     "duration": 0.121397,
     "end_time": "2022-04-06T16:23:14.928894",
     "exception": false,
     "start_time": "2022-04-06T16:23:14.807497",
     "status": "completed"
    },
    "tags": []
   },
   "source": [
    "Heart Disease Distribution according to the above table yields the following result:"
   ]
  },
  {
   "cell_type": "code",
   "execution_count": 36,
   "id": "f1c81f30",
   "metadata": {
    "execution": {
     "iopub.execute_input": "2022-04-06T16:23:15.185190Z",
     "iopub.status.busy": "2022-04-06T16:23:15.184476Z",
     "iopub.status.idle": "2022-04-06T16:23:15.385747Z",
     "shell.execute_reply": "2022-04-06T16:23:15.386222Z",
     "shell.execute_reply.started": "2022-04-06T15:01:30.174798Z"
    },
    "papermill": {
     "duration": 0.333322,
     "end_time": "2022-04-06T16:23:15.386401",
     "exception": false,
     "start_time": "2022-04-06T16:23:15.053079",
     "status": "completed"
    },
    "tags": []
   },
   "outputs": [
    {
     "data": {
      "text/plain": [
       "<AxesSubplot:xlabel='BMI_1'>"
      ]
     },
     "execution_count": 36,
     "metadata": {},
     "output_type": "execute_result"
    },
    {
     "data": {
      "image/png": "[encoded data removed]",
      "text/plain": [
       "<Figure size 432x288 with 1 Axes>"
      ]
     },
     "metadata": {
      "needs_background": "light"
     },
     "output_type": "display_data"
    }
   ],
   "source": [
    "data['BMI_1'] = pd.cut(data['BMI'], [0,18.5,25.0,30.0,100], labels = ['Underweight', 'Healthy Weight', 'Overweight', 'Obsesity'], right = False)\n",
    "data.groupby('BMI_1')['HeartDisease'].mean().plot(kind = 'bar', color = 'pink')"
   ]
  },
  {
   "cell_type": "markdown",
   "id": "d3055fa3",
   "metadata": {
    "papermill": {
     "duration": 0.123519,
     "end_time": "2022-04-06T16:23:15.633911",
     "exception": false,
     "start_time": "2022-04-06T16:23:15.510392",
     "status": "completed"
    },
    "tags": []
   },
   "source": [
    "The BMI values in the data range upto about 90.   \n",
    "I divided the Obesity Category further by the BMI Values, adding **two more** (dividing at **40 and 50**)."
   ]
  },
  {
   "cell_type": "code",
   "execution_count": 37,
   "id": "6e4d5aa8",
   "metadata": {
    "execution": {
     "iopub.execute_input": "2022-04-06T16:23:15.884501Z",
     "iopub.status.busy": "2022-04-06T16:23:15.883849Z",
     "iopub.status.idle": "2022-04-06T16:23:16.112743Z",
     "shell.execute_reply": "2022-04-06T16:23:16.113231Z",
     "shell.execute_reply.started": "2022-04-06T15:01:30.397453Z"
    },
    "papermill": {
     "duration": 0.356132,
     "end_time": "2022-04-06T16:23:16.113405",
     "exception": false,
     "start_time": "2022-04-06T16:23:15.757273",
     "status": "completed"
    },
    "tags": []
   },
   "outputs": [
    {
     "data": {
      "text/plain": [
       "<AxesSubplot:xlabel='BMI_2'>"
      ]
     },
     "execution_count": 37,
     "metadata": {},
     "output_type": "execute_result"
    },
    {
     "data": {
      "image/png": "[encoded data removed]",
      "text/plain": [
       "<Figure size 576x288 with 1 Axes>"
      ]
     },
     "metadata": {
      "needs_background": "light"
     },
     "output_type": "display_data"
    }
   ],
   "source": [
    "data['BMI_2'] = pd.cut(data['BMI'], [0,18.5,25.0,30.0,40,50,100], labels = ['Underweight', 'Healthy Weight', 'Overweight', 'Obsesity 30-40', 'Obsesity 40-50', 'Obsesity 50-100'], right = False)\n",
    "data.groupby('BMI_2')['HeartDisease'].mean().plot(kind = 'bar', color = 'wheat', figsize = (8,4))"
   ]
  },
  {
   "cell_type": "markdown",
   "id": "c9475f6c",
   "metadata": {
    "papermill": {
     "duration": 0.12442,
     "end_time": "2022-04-06T16:23:16.364240",
     "exception": false,
     "start_time": "2022-04-06T16:23:16.239820",
     "status": "completed"
    },
    "tags": []
   },
   "source": [
    "#### **PhysicalHealth and MentalHealth**\n",
    "\n",
    "For PhysicalHealth and MentalHealth, I binned them roughly by 10s, but I divided them in a way that those who answered '0' or '30' days would have separate categories of their own."
   ]
  },
  {
   "cell_type": "code",
   "execution_count": 38,
   "id": "3e1c0faf",
   "metadata": {
    "execution": {
     "iopub.execute_input": "2022-04-06T16:23:16.617875Z",
     "iopub.status.busy": "2022-04-06T16:23:16.617187Z",
     "iopub.status.idle": "2022-04-06T16:23:16.973892Z",
     "shell.execute_reply": "2022-04-06T16:23:16.974401Z",
     "shell.execute_reply.started": "2022-04-06T15:01:30.62994Z"
    },
    "papermill": {
     "duration": 0.48596,
     "end_time": "2022-04-06T16:23:16.974585",
     "exception": false,
     "start_time": "2022-04-06T16:23:16.488625",
     "status": "completed"
    },
    "tags": []
   },
   "outputs": [
    {
     "data": {
      "text/plain": [
       "<AxesSubplot:xlabel='PhysicalHealth_2'>"
      ]
     },
     "execution_count": 38,
     "metadata": {},
     "output_type": "execute_result"
    },
    {
     "data": {
      "image/png": "[encoded data removed]",
      "text/plain": [
       "<Figure size 432x288 with 1 Axes>"
      ]
     },
     "metadata": {
      "needs_background": "light"
     },
     "output_type": "display_data"
    }
   ],
   "source": [
    "data['PhysicalHealth_2'] = pd.cut(data['PhysicalHealth'], [0,1,10,20,30,31], labels = ['0','1-9','10-19','20-29','30'], right = False)\n",
    "data.groupby('PhysicalHealth_2')['HeartDisease'].mean().plot(kind = 'bar', color = 'rosybrown')"
   ]
  },
  {
   "cell_type": "code",
   "execution_count": 39,
   "id": "5edff00c",
   "metadata": {
    "execution": {
     "iopub.execute_input": "2022-04-06T16:23:17.232945Z",
     "iopub.status.busy": "2022-04-06T16:23:17.232178Z",
     "iopub.status.idle": "2022-04-06T16:23:17.439041Z",
     "shell.execute_reply": "2022-04-06T16:23:17.439585Z",
     "shell.execute_reply.started": "2022-04-06T15:01:31.026814Z"
    },
    "papermill": {
     "duration": 0.337336,
     "end_time": "2022-04-06T16:23:17.439775",
     "exception": false,
     "start_time": "2022-04-06T16:23:17.102439",
     "status": "completed"
    },
    "tags": []
   },
   "outputs": [
    {
     "data": {
      "text/plain": [
       "<AxesSubplot:xlabel='MentalHealth_2'>"
      ]
     },
     "execution_count": 39,
     "metadata": {},
     "output_type": "execute_result"
    },
    {
     "data": {
      "image/png": "[encoded data removed]",
      "text/plain": [
       "<Figure size 432x288 with 1 Axes>"
      ]
     },
     "metadata": {
      "needs_background": "light"
     },
     "output_type": "display_data"
    }
   ],
   "source": [
    "data['MentalHealth_2'] = pd.cut(data['MentalHealth'], [0,1,10,20,30,31],labels = ['0','1-9','10-19','20-29','30'], right = False)\n",
    "data.groupby('MentalHealth_2')['HeartDisease'].mean().plot(kind = 'bar', color = 'mediumaquamarine')"
   ]
  },
  {
   "cell_type": "markdown",
   "id": "4671fe30",
   "metadata": {
    "papermill": {
     "duration": 0.126611,
     "end_time": "2022-04-06T16:23:17.693694",
     "exception": false,
     "start_time": "2022-04-06T16:23:17.567083",
     "status": "completed"
    },
    "tags": []
   },
   "source": [
    "https://www.cdc.gov/sleep/about_sleep/how_much_sleep.html\n",
    "\n",
    "The above link says that the recommended hours of sleep for adults is  \n",
    "7 or more (18-60 years)  \n",
    "7-9 hours (61-64 years)  \n",
    "7-8 hours (65 years and older)\n",
    "\n",
    "Following is the categorization/binning of the sleep hours and what the mean value of HeartDisease is for each."
   ]
  },
  {
   "cell_type": "code",
   "execution_count": 40,
   "id": "5d7a464c",
   "metadata": {
    "execution": {
     "iopub.execute_input": "2022-04-06T16:23:17.953325Z",
     "iopub.status.busy": "2022-04-06T16:23:17.952633Z",
     "iopub.status.idle": "2022-04-06T16:23:18.176184Z",
     "shell.execute_reply": "2022-04-06T16:23:18.176671Z",
     "shell.execute_reply.started": "2022-04-06T15:01:31.266068Z"
    },
    "papermill": {
     "duration": 0.355449,
     "end_time": "2022-04-06T16:23:18.176855",
     "exception": false,
     "start_time": "2022-04-06T16:23:17.821406",
     "status": "completed"
    },
    "tags": []
   },
   "outputs": [
    {
     "data": {
      "text/plain": [
       "<AxesSubplot:xlabel='SleepTime_2'>"
      ]
     },
     "execution_count": 40,
     "metadata": {},
     "output_type": "execute_result"
    },
    {
     "data": {
      "image/png": "[encoded data removed]",
      "text/plain": [
       "<Figure size 432x288 with 1 Axes>"
      ]
     },
     "metadata": {
      "needs_background": "light"
     },
     "output_type": "display_data"
    }
   ],
   "source": [
    "data['SleepTime_2'] = pd.cut(data['SleepTime'], [1,5,6,10,25], right = False)\n",
    "data.groupby('SleepTime_2')['HeartDisease'].mean().plot(kind = 'bar', color = 'burlywood')"
   ]
  },
  {
   "cell_type": "markdown",
   "id": "3a206709",
   "metadata": {
    "papermill": {
     "duration": 0.128023,
     "end_time": "2022-04-06T16:23:18.435629",
     "exception": false,
     "start_time": "2022-04-06T16:23:18.307606",
     "status": "completed"
    },
    "tags": []
   },
   "source": [
    "<p style='color:indianred; font-size:180%'>5. Preparation of the Columns for Modelling</p>"
   ]
  },
  {
   "cell_type": "markdown",
   "id": "59f9e9b4",
   "metadata": {
    "papermill": {
     "duration": 0.12858,
     "end_time": "2022-04-06T16:23:18.692840",
     "exception": false,
     "start_time": "2022-04-06T16:23:18.564260",
     "status": "completed"
    },
    "tags": []
   },
   "source": [
    "In order for the columns to be used for modelling, the columns will be 'prepared' (transformed➡️ to numeric values)\n",
    "\n",
    "Currently, the data table looks like the following:"
   ]
  },
  {
   "cell_type": "code",
   "execution_count": 41,
   "id": "424337f7",
   "metadata": {
    "execution": {
     "iopub.execute_input": "2022-04-06T16:23:18.955588Z",
     "iopub.status.busy": "2022-04-06T16:23:18.953196Z",
     "iopub.status.idle": "2022-04-06T16:23:18.979694Z",
     "shell.execute_reply": "2022-04-06T16:23:18.980338Z",
     "shell.execute_reply.started": "2022-04-06T15:01:31.503165Z"
    },
    "papermill": {
     "duration": 0.159351,
     "end_time": "2022-04-06T16:23:18.980515",
     "exception": false,
     "start_time": "2022-04-06T16:23:18.821164",
     "status": "completed"
    },
    "tags": []
   },
   "outputs": [
    {
     "data": {
      "text/html": [
       "<div>\n",
       "<style scoped>\n",
       "    .dataframe tbody tr th:only-of-type {\n",
       "        vertical-align: middle;\n",
       "    }\n",
       "\n",
       "    .dataframe tbody tr th {\n",
       "        vertical-align: top;\n",
       "    }\n",
       "\n",
       "    .dataframe thead th {\n",
       "        text-align: right;\n",
       "    }\n",
       "</style>\n",
       "<table border=\"1\" class=\"dataframe\">\n",
       "  <thead>\n",
       "    <tr style=\"text-align: right;\">\n",
       "      <th></th>\n",
       "      <th>HeartDisease</th>\n",
       "      <th>BMI</th>\n",
       "      <th>Smoking</th>\n",
       "      <th>AlcoholDrinking</th>\n",
       "      <th>Stroke</th>\n",
       "      <th>PhysicalHealth</th>\n",
       "      <th>MentalHealth</th>\n",
       "      <th>DiffWalking</th>\n",
       "      <th>Sex</th>\n",
       "      <th>AgeCategory</th>\n",
       "      <th>...</th>\n",
       "      <th>GenHealth</th>\n",
       "      <th>SleepTime</th>\n",
       "      <th>Asthma</th>\n",
       "      <th>KidneyDisease</th>\n",
       "      <th>SkinCancer</th>\n",
       "      <th>BMI_1</th>\n",
       "      <th>BMI_2</th>\n",
       "      <th>PhysicalHealth_2</th>\n",
       "      <th>MentalHealth_2</th>\n",
       "      <th>SleepTime_2</th>\n",
       "    </tr>\n",
       "  </thead>\n",
       "  <tbody>\n",
       "    <tr>\n",
       "      <th>0</th>\n",
       "      <td>0</td>\n",
       "      <td>16.60</td>\n",
       "      <td>Yes</td>\n",
       "      <td>No</td>\n",
       "      <td>No</td>\n",
       "      <td>3.0</td>\n",
       "      <td>30.0</td>\n",
       "      <td>No</td>\n",
       "      <td>Female</td>\n",
       "      <td>55-59</td>\n",
       "      <td>...</td>\n",
       "      <td>Very good</td>\n",
       "      <td>5.0</td>\n",
       "      <td>Yes</td>\n",
       "      <td>No</td>\n",
       "      <td>Yes</td>\n",
       "      <td>Underweight</td>\n",
       "      <td>Underweight</td>\n",
       "      <td>1-9</td>\n",
       "      <td>30</td>\n",
       "      <td>[5, 6)</td>\n",
       "    </tr>\n",
       "    <tr>\n",
       "      <th>1</th>\n",
       "      <td>0</td>\n",
       "      <td>20.34</td>\n",
       "      <td>No</td>\n",
       "      <td>No</td>\n",
       "      <td>Yes</td>\n",
       "      <td>0.0</td>\n",
       "      <td>0.0</td>\n",
       "      <td>No</td>\n",
       "      <td>Female</td>\n",
       "      <td>80 or older</td>\n",
       "      <td>...</td>\n",
       "      <td>Very good</td>\n",
       "      <td>7.0</td>\n",
       "      <td>No</td>\n",
       "      <td>No</td>\n",
       "      <td>No</td>\n",
       "      <td>Healthy Weight</td>\n",
       "      <td>Healthy Weight</td>\n",
       "      <td>0</td>\n",
       "      <td>0</td>\n",
       "      <td>[6, 10)</td>\n",
       "    </tr>\n",
       "    <tr>\n",
       "      <th>2</th>\n",
       "      <td>0</td>\n",
       "      <td>26.58</td>\n",
       "      <td>Yes</td>\n",
       "      <td>No</td>\n",
       "      <td>No</td>\n",
       "      <td>20.0</td>\n",
       "      <td>30.0</td>\n",
       "      <td>No</td>\n",
       "      <td>Male</td>\n",
       "      <td>65-69</td>\n",
       "      <td>...</td>\n",
       "      <td>Fair</td>\n",
       "      <td>8.0</td>\n",
       "      <td>Yes</td>\n",
       "      <td>No</td>\n",
       "      <td>No</td>\n",
       "      <td>Overweight</td>\n",
       "      <td>Overweight</td>\n",
       "      <td>20-29</td>\n",
       "      <td>30</td>\n",
       "      <td>[6, 10)</td>\n",
       "    </tr>\n",
       "  </tbody>\n",
       "</table>\n",
       "<p>3 rows × 23 columns</p>\n",
       "</div>"
      ],
      "text/plain": [
       "   HeartDisease    BMI Smoking AlcoholDrinking Stroke  PhysicalHealth  \\\n",
       "0             0  16.60     Yes              No     No             3.0   \n",
       "1             0  20.34      No              No    Yes             0.0   \n",
       "2             0  26.58     Yes              No     No            20.0   \n",
       "\n",
       "   MentalHealth DiffWalking     Sex  AgeCategory  ...  GenHealth SleepTime  \\\n",
       "0          30.0          No  Female        55-59  ...  Very good       5.0   \n",
       "1           0.0          No  Female  80 or older  ...  Very good       7.0   \n",
       "2          30.0          No    Male        65-69  ...       Fair       8.0   \n",
       "\n",
       "  Asthma KidneyDisease  SkinCancer           BMI_1           BMI_2  \\\n",
       "0    Yes            No         Yes     Underweight     Underweight   \n",
       "1     No            No          No  Healthy Weight  Healthy Weight   \n",
       "2    Yes            No          No      Overweight      Overweight   \n",
       "\n",
       "  PhysicalHealth_2 MentalHealth_2 SleepTime_2  \n",
       "0              1-9             30      [5, 6)  \n",
       "1                0              0     [6, 10)  \n",
       "2            20-29             30     [6, 10)  \n",
       "\n",
       "[3 rows x 23 columns]"
      ]
     },
     "execution_count": 41,
     "metadata": {},
     "output_type": "execute_result"
    }
   ],
   "source": [
    "data.head(3)"
   ]
  },
  {
   "cell_type": "markdown",
   "id": "37ac5d6c",
   "metadata": {
    "papermill": {
     "duration": 0.12904,
     "end_time": "2022-04-06T16:23:19.239323",
     "exception": false,
     "start_time": "2022-04-06T16:23:19.110283",
     "status": "completed"
    },
    "tags": []
   },
   "source": [
    "#### **Sex and Yes or No Columns (Binary Categorical Columns)** "
   ]
  },
  {
   "cell_type": "code",
   "execution_count": 42,
   "id": "3de26bd7",
   "metadata": {
    "execution": {
     "iopub.execute_input": "2022-04-06T16:23:19.503273Z",
     "iopub.status.busy": "2022-04-06T16:23:19.502586Z",
     "iopub.status.idle": "2022-04-06T16:23:20.189312Z",
     "shell.execute_reply": "2022-04-06T16:23:20.188686Z",
     "shell.execute_reply.started": "2022-04-06T15:01:31.535913Z"
    },
    "papermill": {
     "duration": 0.820008,
     "end_time": "2022-04-06T16:23:20.189447",
     "exception": false,
     "start_time": "2022-04-06T16:23:19.369439",
     "status": "completed"
    },
    "tags": []
   },
   "outputs": [],
   "source": [
    "for Column in Yes_No_Columns:\n",
    "    data[Column] = 1 * (data[Column] == 'Yes')\n",
    "\n",
    "data['Sex'] = 1 * (data['Sex'] == 'Male')"
   ]
  },
  {
   "cell_type": "markdown",
   "id": "0062f28f",
   "metadata": {
    "papermill": {
     "duration": 0.12922,
     "end_time": "2022-04-06T16:23:20.451154",
     "exception": false,
     "start_time": "2022-04-06T16:23:20.321934",
     "status": "completed"
    },
    "tags": []
   },
   "source": [
    "#### **Ordinal Categorical Columns**"
   ]
  },
  {
   "cell_type": "code",
   "execution_count": 43,
   "id": "ae69a456",
   "metadata": {
    "execution": {
     "iopub.execute_input": "2022-04-06T16:23:20.715072Z",
     "iopub.status.busy": "2022-04-06T16:23:20.714406Z",
     "iopub.status.idle": "2022-04-06T16:23:21.946846Z",
     "shell.execute_reply": "2022-04-06T16:23:21.947383Z",
     "shell.execute_reply.started": "2022-04-06T15:01:32.295666Z"
    },
    "papermill": {
     "duration": 1.366695,
     "end_time": "2022-04-06T16:23:21.947573",
     "exception": false,
     "start_time": "2022-04-06T16:23:20.580878",
     "status": "completed"
    },
    "tags": []
   },
   "outputs": [],
   "source": [
    "data['BMI'] = pd.cut(data['BMI'], [0,18.5,25.0,30.0,40,50,100], labels = [0,1,2,3,4,5], right = False)\n",
    "\n",
    "data['PhysicalHealth'] = pd.cut(data['PhysicalHealth'], [0,1,10,20,30,31],labels = [0,1,2,3,4], right = False)\n",
    "\n",
    "data['MentalHealth'] = pd.cut(data['MentalHealth'], [0,1,10,20,30,31],labels = [0,1,2,3,4], right = False)\n",
    "\n",
    "data['SleepTime'] = pd.cut(data['SleepTime'], [1,5,6,10,25], labels =[0,1,2,3] , right = False)\n",
    "\n",
    "data = data.drop(['PhysicalHealth_2','MentalHealth_2','SleepTime_2','BMI_1','BMI_2'], axis = 1)\n",
    "\n",
    "mapping_1 = {}\n",
    "\n",
    "for category in sorted(list(data['AgeCategory'].unique())):\n",
    "    mapping_1[category] = sorted(list(data['AgeCategory'].unique())).index(category)\n",
    "\n",
    "maplist_1 = [{'col': 'AgeCategory', \n",
    "            'mapping': mapping_1}]\n",
    "\n",
    "Ordinal_Encoder_1 = OrdinalEncoder(mapping=maplist_1)\n",
    "\n",
    "data = Ordinal_Encoder_1.fit_transform(data)\n",
    "\n",
    "maplist_2 = [{'col': 'GenHealth', \n",
    "            'mapping': {'Poor': 0, 'Fair': 1, 'Good': 2, 'Very good': 3, 'Excellent': 4}}]\n",
    "\n",
    "Ordinal_Encoder_2 = OrdinalEncoder(mapping=maplist_2)\n",
    "\n",
    "data = Ordinal_Encoder_2.fit_transform(data)"
   ]
  },
  {
   "cell_type": "markdown",
   "id": "80fa0c81",
   "metadata": {
    "papermill": {
     "duration": 0.128888,
     "end_time": "2022-04-06T16:23:22.206963",
     "exception": false,
     "start_time": "2022-04-06T16:23:22.078075",
     "status": "completed"
    },
    "tags": []
   },
   "source": [
    "<span style='color:indianred; font-size:120%'>One </span><span style='color:blue; font-size:120%'>Hot </span><span style='color:green; font-size:120%'>Encoding</span>"
   ]
  },
  {
   "cell_type": "code",
   "execution_count": 44,
   "id": "ca46ed42",
   "metadata": {
    "execution": {
     "iopub.execute_input": "2022-04-06T16:23:22.472256Z",
     "iopub.status.busy": "2022-04-06T16:23:22.471567Z",
     "iopub.status.idle": "2022-04-06T16:23:23.072252Z",
     "shell.execute_reply": "2022-04-06T16:23:23.072789Z",
     "shell.execute_reply.started": "2022-04-06T15:01:33.767436Z"
    },
    "papermill": {
     "duration": 0.734397,
     "end_time": "2022-04-06T16:23:23.072995",
     "exception": false,
     "start_time": "2022-04-06T16:23:22.338598",
     "status": "completed"
    },
    "tags": []
   },
   "outputs": [],
   "source": [
    "for Race in data['Race'].unique():\n",
    "    data[Race] = 1 * (data['Race'] == Race)\n",
    "\n",
    "for Diabetic in data['Diabetic'].unique():\n",
    "    data[Diabetic] = 1 * (data['Diabetic'] == Diabetic)   \n",
    "    \n",
    "data = data.drop(['Race','Diabetic'], axis = 1)"
   ]
  },
  {
   "cell_type": "markdown",
   "id": "6aaae407",
   "metadata": {
    "papermill": {
     "duration": 0.129713,
     "end_time": "2022-04-06T16:23:23.332499",
     "exception": false,
     "start_time": "2022-04-06T16:23:23.202786",
     "status": "completed"
    },
    "tags": []
   },
   "source": [
    "Below is the result of the column preparations:"
   ]
  },
  {
   "cell_type": "code",
   "execution_count": 45,
   "id": "01fe2ceb",
   "metadata": {
    "execution": {
     "iopub.execute_input": "2022-04-06T16:23:23.596771Z",
     "iopub.status.busy": "2022-04-06T16:23:23.596105Z",
     "iopub.status.idle": "2022-04-06T16:23:23.613124Z",
     "shell.execute_reply": "2022-04-06T16:23:23.613640Z",
     "shell.execute_reply.started": "2022-04-06T15:01:34.430115Z"
    },
    "papermill": {
     "duration": 0.151265,
     "end_time": "2022-04-06T16:23:23.613860",
     "exception": false,
     "start_time": "2022-04-06T16:23:23.462595",
     "status": "completed"
    },
    "tags": []
   },
   "outputs": [
    {
     "data": {
      "text/html": [
       "<div>\n",
       "<style scoped>\n",
       "    .dataframe tbody tr th:only-of-type {\n",
       "        vertical-align: middle;\n",
       "    }\n",
       "\n",
       "    .dataframe tbody tr th {\n",
       "        vertical-align: top;\n",
       "    }\n",
       "\n",
       "    .dataframe thead th {\n",
       "        text-align: right;\n",
       "    }\n",
       "</style>\n",
       "<table border=\"1\" class=\"dataframe\">\n",
       "  <thead>\n",
       "    <tr style=\"text-align: right;\">\n",
       "      <th></th>\n",
       "      <th>HeartDisease</th>\n",
       "      <th>BMI</th>\n",
       "      <th>Smoking</th>\n",
       "      <th>AlcoholDrinking</th>\n",
       "      <th>Stroke</th>\n",
       "      <th>PhysicalHealth</th>\n",
       "      <th>MentalHealth</th>\n",
       "      <th>DiffWalking</th>\n",
       "      <th>Sex</th>\n",
       "      <th>AgeCategory</th>\n",
       "      <th>...</th>\n",
       "      <th>White</th>\n",
       "      <th>Black</th>\n",
       "      <th>Asian</th>\n",
       "      <th>American Indian/Alaskan Native</th>\n",
       "      <th>Other</th>\n",
       "      <th>Hispanic</th>\n",
       "      <th>Yes</th>\n",
       "      <th>No</th>\n",
       "      <th>No, borderline diabetes</th>\n",
       "      <th>Yes (during pregnancy)</th>\n",
       "    </tr>\n",
       "  </thead>\n",
       "  <tbody>\n",
       "    <tr>\n",
       "      <th>0</th>\n",
       "      <td>0</td>\n",
       "      <td>0</td>\n",
       "      <td>1</td>\n",
       "      <td>0</td>\n",
       "      <td>0</td>\n",
       "      <td>1</td>\n",
       "      <td>4</td>\n",
       "      <td>0</td>\n",
       "      <td>0</td>\n",
       "      <td>7</td>\n",
       "      <td>...</td>\n",
       "      <td>1</td>\n",
       "      <td>0</td>\n",
       "      <td>0</td>\n",
       "      <td>0</td>\n",
       "      <td>0</td>\n",
       "      <td>0</td>\n",
       "      <td>1</td>\n",
       "      <td>0</td>\n",
       "      <td>0</td>\n",
       "      <td>0</td>\n",
       "    </tr>\n",
       "    <tr>\n",
       "      <th>1</th>\n",
       "      <td>0</td>\n",
       "      <td>1</td>\n",
       "      <td>0</td>\n",
       "      <td>0</td>\n",
       "      <td>1</td>\n",
       "      <td>0</td>\n",
       "      <td>0</td>\n",
       "      <td>0</td>\n",
       "      <td>0</td>\n",
       "      <td>12</td>\n",
       "      <td>...</td>\n",
       "      <td>1</td>\n",
       "      <td>0</td>\n",
       "      <td>0</td>\n",
       "      <td>0</td>\n",
       "      <td>0</td>\n",
       "      <td>0</td>\n",
       "      <td>0</td>\n",
       "      <td>1</td>\n",
       "      <td>0</td>\n",
       "      <td>0</td>\n",
       "    </tr>\n",
       "    <tr>\n",
       "      <th>2</th>\n",
       "      <td>0</td>\n",
       "      <td>2</td>\n",
       "      <td>1</td>\n",
       "      <td>0</td>\n",
       "      <td>0</td>\n",
       "      <td>3</td>\n",
       "      <td>4</td>\n",
       "      <td>0</td>\n",
       "      <td>1</td>\n",
       "      <td>9</td>\n",
       "      <td>...</td>\n",
       "      <td>1</td>\n",
       "      <td>0</td>\n",
       "      <td>0</td>\n",
       "      <td>0</td>\n",
       "      <td>0</td>\n",
       "      <td>0</td>\n",
       "      <td>1</td>\n",
       "      <td>0</td>\n",
       "      <td>0</td>\n",
       "      <td>0</td>\n",
       "    </tr>\n",
       "  </tbody>\n",
       "</table>\n",
       "<p>3 rows × 26 columns</p>\n",
       "</div>"
      ],
      "text/plain": [
       "   HeartDisease BMI  Smoking  AlcoholDrinking  Stroke PhysicalHealth  \\\n",
       "0             0   0        1                0       0              1   \n",
       "1             0   1        0                0       1              0   \n",
       "2             0   2        1                0       0              3   \n",
       "\n",
       "  MentalHealth  DiffWalking  Sex  AgeCategory  ...  White  Black Asian  \\\n",
       "0            4            0    0            7  ...      1      0     0   \n",
       "1            0            0    0           12  ...      1      0     0   \n",
       "2            4            0    1            9  ...      1      0     0   \n",
       "\n",
       "   American Indian/Alaskan Native  Other  Hispanic  Yes  No  \\\n",
       "0                               0      0         0    1   0   \n",
       "1                               0      0         0    0   1   \n",
       "2                               0      0         0    1   0   \n",
       "\n",
       "   No, borderline diabetes  Yes (during pregnancy)  \n",
       "0                        0                       0  \n",
       "1                        0                       0  \n",
       "2                        0                       0  \n",
       "\n",
       "[3 rows x 26 columns]"
      ]
     },
     "execution_count": 45,
     "metadata": {},
     "output_type": "execute_result"
    }
   ],
   "source": [
    "data.head(3)"
   ]
  },
  {
   "cell_type": "markdown",
   "id": "ec2402cc",
   "metadata": {
    "papermill": {
     "duration": 0.130259,
     "end_time": "2022-04-06T16:23:23.876233",
     "exception": false,
     "start_time": "2022-04-06T16:23:23.745974",
     "status": "completed"
    },
    "tags": []
   },
   "source": [
    "<p style='color:indianred; font-size:180%'>6. Logistic Regression</p>"
   ]
  },
  {
   "cell_type": "markdown",
   "id": "50f148ea",
   "metadata": {
    "papermill": {
     "duration": 0.133291,
     "end_time": "2022-04-06T16:23:24.140240",
     "exception": false,
     "start_time": "2022-04-06T16:23:24.006949",
     "status": "completed"
    },
    "tags": []
   },
   "source": [
    "Train Test Split is conducted below. 'Stratify' option is used, and this maintains the Heart Disease proportions roughly equal in both train and test sets."
   ]
  },
  {
   "cell_type": "code",
   "execution_count": 46,
   "id": "6629d88f",
   "metadata": {
    "execution": {
     "iopub.execute_input": "2022-04-06T16:23:24.408056Z",
     "iopub.status.busy": "2022-04-06T16:23:24.407347Z",
     "iopub.status.idle": "2022-04-06T16:23:24.634166Z",
     "shell.execute_reply": "2022-04-06T16:23:24.634644Z",
     "shell.execute_reply.started": "2022-04-06T15:01:34.457583Z"
    },
    "papermill": {
     "duration": 0.363426,
     "end_time": "2022-04-06T16:23:24.634859",
     "exception": false,
     "start_time": "2022-04-06T16:23:24.271433",
     "status": "completed"
    },
    "tags": []
   },
   "outputs": [
    {
     "name": "stdout",
     "output_type": "stream",
     "text": [
      "0.08559665062627035\n",
      "0.08558474046278924\n"
     ]
    }
   ],
   "source": [
    "X = data.drop('HeartDisease', axis = 1)\n",
    "y = data['HeartDisease']\n",
    "\n",
    "X_train, X_test, y_train, y_test = train_test_split(X, y, test_size=0.1, random_state=20, stratify = y)\n",
    "\n",
    "print(y_train.mean())\n",
    "print(y_test.mean())"
   ]
  },
  {
   "cell_type": "markdown",
   "id": "f8350d84",
   "metadata": {
    "papermill": {
     "duration": 0.130277,
     "end_time": "2022-04-06T16:23:24.896500",
     "exception": false,
     "start_time": "2022-04-06T16:23:24.766223",
     "status": "completed"
    },
    "tags": []
   },
   "source": [
    "Lists below will be used in comparing the classifiers later."
   ]
  },
  {
   "cell_type": "code",
   "execution_count": 47,
   "id": "81a73c41",
   "metadata": {
    "execution": {
     "iopub.execute_input": "2022-04-06T16:23:25.168560Z",
     "iopub.status.busy": "2022-04-06T16:23:25.167453Z",
     "iopub.status.idle": "2022-04-06T16:23:25.170021Z",
     "shell.execute_reply": "2022-04-06T16:23:25.169369Z",
     "shell.execute_reply.started": "2022-04-06T15:01:34.781097Z"
    },
    "papermill": {
     "duration": 0.141685,
     "end_time": "2022-04-06T16:23:25.170162",
     "exception": false,
     "start_time": "2022-04-06T16:23:25.028477",
     "status": "completed"
    },
    "tags": []
   },
   "outputs": [],
   "source": [
    "execution_time_fit = []\n",
    "execution_time_predict = []"
   ]
  },
  {
   "cell_type": "markdown",
   "id": "8695bb0c",
   "metadata": {
    "papermill": {
     "duration": 0.130101,
     "end_time": "2022-04-06T16:23:25.437946",
     "exception": false,
     "start_time": "2022-04-06T16:23:25.307845",
     "status": "completed"
    },
    "tags": []
   },
   "source": [
    "#### **Logistic Regression**"
   ]
  },
  {
   "cell_type": "code",
   "execution_count": 48,
   "id": "a68e7628",
   "metadata": {
    "execution": {
     "iopub.execute_input": "2022-04-06T16:23:25.711966Z",
     "iopub.status.busy": "2022-04-06T16:23:25.706586Z",
     "iopub.status.idle": "2022-04-06T16:23:35.070445Z",
     "shell.execute_reply": "2022-04-06T16:23:35.071322Z",
     "shell.execute_reply.started": "2022-04-06T15:01:34.787569Z"
    },
    "papermill": {
     "duration": 9.500914,
     "end_time": "2022-04-06T16:23:35.071647",
     "exception": false,
     "start_time": "2022-04-06T16:23:25.570733",
     "status": "completed"
    },
    "tags": []
   },
   "outputs": [],
   "source": [
    "Classifier_1 = LogisticRegression(max_iter = 300)\n",
    "\n",
    "Classifier_1.fit(X_train, y_train)\n",
    "\n",
    "Predictions_1 = Classifier_1.predict(X_test)"
   ]
  },
  {
   "cell_type": "markdown",
   "id": "3704b8a9",
   "metadata": {
    "papermill": {
     "duration": 0.131508,
     "end_time": "2022-04-06T16:23:35.388332",
     "exception": false,
     "start_time": "2022-04-06T16:23:35.256824",
     "status": "completed"
    },
    "tags": []
   },
   "source": [
    "#### **Confusion Matrix**\n",
    "\n",
    "Below is the confusion matrix for this model.\n",
    "\n",
    "✏️**Accuracy** Score means 'How much(proportion) of the true labels did I get right?'  \n",
    "✏️**Precision** Score: 'Out of the 1s that I predicted, how much did I get right?'  \n",
    "✏️**Recall** Score: 'Out of 1s in the Test Set, how much did I get right?'\n",
    "\n",
    "We would want high score for all of them."
   ]
  },
  {
   "cell_type": "code",
   "execution_count": 49,
   "id": "f3b2d616",
   "metadata": {
    "execution": {
     "iopub.execute_input": "2022-04-06T16:23:35.658993Z",
     "iopub.status.busy": "2022-04-06T16:23:35.658277Z",
     "iopub.status.idle": "2022-04-06T16:23:35.883464Z",
     "shell.execute_reply": "2022-04-06T16:23:35.882927Z",
     "shell.execute_reply.started": "2022-04-06T15:01:45.055217Z"
    },
    "papermill": {
     "duration": 0.363528,
     "end_time": "2022-04-06T16:23:35.883610",
     "exception": false,
     "start_time": "2022-04-06T16:23:35.520082",
     "status": "completed"
    },
    "tags": []
   },
   "outputs": [
    {
     "name": "stdout",
     "output_type": "stream",
     "text": [
      "Accuracy Score:  0.9150093808630394\n",
      "Precision Score:  0.5164644714038128\n",
      "Recall Score:  0.10887833394227256\n"
     ]
    },
    {
     "data": {
      "image/png": "[encoded data removed]",
      "text/plain": [
       "<Figure size 432x288 with 2 Axes>"
      ]
     },
     "metadata": {
      "needs_background": "light"
     },
     "output_type": "display_data"
    }
   ],
   "source": [
    "Confusion = confusion_matrix(y_test, Predictions_1)\n",
    "Display = ConfusionMatrixDisplay(confusion_matrix=Confusion)\n",
    "Display.plot()\n",
    "\n",
    "print('Accuracy Score: ', accuracy_score(y_test, Predictions_1))\n",
    "print('Precision Score: ', precision_score(y_test, Predictions_1))\n",
    "print('Recall Score: ', recall_score(y_test, Predictions_1))"
   ]
  },
  {
   "cell_type": "markdown",
   "id": "90a2be37",
   "metadata": {
    "papermill": {
     "duration": 0.132734,
     "end_time": "2022-04-06T16:23:36.149554",
     "exception": false,
     "start_time": "2022-04-06T16:23:36.016820",
     "status": "completed"
    },
    "tags": []
   },
   "source": [
    "#### **Undersampling** ⬇️\n",
    "\n",
    "The classes (of HeartDisease) are distributed as the following in the train set:"
   ]
  },
  {
   "cell_type": "code",
   "execution_count": 50,
   "id": "8cdb1d39",
   "metadata": {
    "execution": {
     "iopub.execute_input": "2022-04-06T16:23:36.426776Z",
     "iopub.status.busy": "2022-04-06T16:23:36.425754Z",
     "iopub.status.idle": "2022-04-06T16:23:36.429780Z",
     "shell.execute_reply": "2022-04-06T16:23:36.429155Z",
     "shell.execute_reply.started": "2022-04-06T15:01:45.387933Z"
    },
    "papermill": {
     "duration": 0.147841,
     "end_time": "2022-04-06T16:23:36.429921",
     "exception": false,
     "start_time": "2022-04-06T16:23:36.282080",
     "status": "completed"
    },
    "tags": []
   },
   "outputs": [
    {
     "data": {
      "text/html": [
       "<div>\n",
       "<style scoped>\n",
       "    .dataframe tbody tr th:only-of-type {\n",
       "        vertical-align: middle;\n",
       "    }\n",
       "\n",
       "    .dataframe tbody tr th {\n",
       "        vertical-align: top;\n",
       "    }\n",
       "\n",
       "    .dataframe thead th {\n",
       "        text-align: right;\n",
       "    }\n",
       "</style>\n",
       "<table border=\"1\" class=\"dataframe\">\n",
       "  <thead>\n",
       "    <tr style=\"text-align: right;\">\n",
       "      <th></th>\n",
       "      <th>HeartDisease</th>\n",
       "    </tr>\n",
       "  </thead>\n",
       "  <tbody>\n",
       "    <tr>\n",
       "      <th>0</th>\n",
       "      <td>263179</td>\n",
       "    </tr>\n",
       "    <tr>\n",
       "      <th>1</th>\n",
       "      <td>24636</td>\n",
       "    </tr>\n",
       "  </tbody>\n",
       "</table>\n",
       "</div>"
      ],
      "text/plain": [
       "   HeartDisease\n",
       "0        263179\n",
       "1         24636"
      ]
     },
     "execution_count": 50,
     "metadata": {},
     "output_type": "execute_result"
    }
   ],
   "source": [
    "pd.DataFrame(y_train.value_counts())"
   ]
  },
  {
   "cell_type": "markdown",
   "id": "acbdc552",
   "metadata": {
    "papermill": {
     "duration": 0.132511,
     "end_time": "2022-04-06T16:23:36.695699",
     "exception": false,
     "start_time": "2022-04-06T16:23:36.563188",
     "status": "completed"
    },
    "tags": []
   },
   "source": [
    "proportion 0 is more than ten times of 1.\n",
    "This time, we will use an undersampled ⬇️ version of the train set, where the classes are equally balanced."
   ]
  },
  {
   "cell_type": "code",
   "execution_count": 51,
   "id": "bb2616cd",
   "metadata": {
    "execution": {
     "iopub.execute_input": "2022-04-06T16:23:36.966448Z",
     "iopub.status.busy": "2022-04-06T16:23:36.965672Z",
     "iopub.status.idle": "2022-04-06T16:23:37.110427Z",
     "shell.execute_reply": "2022-04-06T16:23:37.109767Z",
     "shell.execute_reply.started": "2022-04-06T15:01:45.406165Z"
    },
    "papermill": {
     "duration": 0.281921,
     "end_time": "2022-04-06T16:23:37.110587",
     "exception": false,
     "start_time": "2022-04-06T16:23:36.828666",
     "status": "completed"
    },
    "tags": []
   },
   "outputs": [
    {
     "data": {
      "text/html": [
       "<div>\n",
       "<style scoped>\n",
       "    .dataframe tbody tr th:only-of-type {\n",
       "        vertical-align: middle;\n",
       "    }\n",
       "\n",
       "    .dataframe tbody tr th {\n",
       "        vertical-align: top;\n",
       "    }\n",
       "\n",
       "    .dataframe thead th {\n",
       "        text-align: right;\n",
       "    }\n",
       "</style>\n",
       "<table border=\"1\" class=\"dataframe\">\n",
       "  <thead>\n",
       "    <tr style=\"text-align: right;\">\n",
       "      <th></th>\n",
       "      <th>HeartDisease</th>\n",
       "    </tr>\n",
       "  </thead>\n",
       "  <tbody>\n",
       "    <tr>\n",
       "      <th>1</th>\n",
       "      <td>24636</td>\n",
       "    </tr>\n",
       "    <tr>\n",
       "      <th>0</th>\n",
       "      <td>24636</td>\n",
       "    </tr>\n",
       "  </tbody>\n",
       "</table>\n",
       "</div>"
      ],
      "text/plain": [
       "   HeartDisease\n",
       "1         24636\n",
       "0         24636"
      ]
     },
     "execution_count": 51,
     "metadata": {},
     "output_type": "execute_result"
    }
   ],
   "source": [
    "Under = X_train.copy()\n",
    "Under['HeartDisease'] = y_train\n",
    "Under_0 = Under[Under['HeartDisease'] == 0].copy()\n",
    "Under_1 = Under[Under['HeartDisease'] == 1].copy()\n",
    "\n",
    "Under_Sample = pd.concat([Under_1, Under_0.sample(frac = len(Under_1)/len(Under_0))])\n",
    "\n",
    "pd.DataFrame(Under_Sample['HeartDisease'].value_counts())"
   ]
  },
  {
   "cell_type": "code",
   "execution_count": 52,
   "id": "28bdc936",
   "metadata": {
    "execution": {
     "iopub.execute_input": "2022-04-06T16:23:37.386998Z",
     "iopub.status.busy": "2022-04-06T16:23:37.386301Z",
     "iopub.status.idle": "2022-04-06T16:23:39.397498Z",
     "shell.execute_reply": "2022-04-06T16:23:39.396967Z",
     "shell.execute_reply.started": "2022-04-06T15:01:45.661483Z"
    },
    "papermill": {
     "duration": 2.152598,
     "end_time": "2022-04-06T16:23:39.397644",
     "exception": false,
     "start_time": "2022-04-06T16:23:37.245046",
     "status": "completed"
    },
    "tags": []
   },
   "outputs": [
    {
     "name": "stdout",
     "output_type": "stream",
     "text": [
      "Accuracy Score:  0.7560350218886804\n",
      "Precision Score:  0.22894145349459488\n",
      "Recall Score:  0.7815126050420168\n"
     ]
    },
    {
     "data": {
      "image/png": "[encoded data removed]",
      "text/plain": [
       "<Figure size 432x288 with 2 Axes>"
      ]
     },
     "metadata": {
      "needs_background": "light"
     },
     "output_type": "display_data"
    }
   ],
   "source": [
    "Classifier_1_Under = LogisticRegression(max_iter = 300)\n",
    "\n",
    "time_1_fit_start = time.time()\n",
    "\n",
    "Classifier_1_Under.fit(Under_Sample.drop('HeartDisease', axis = 1), Under_Sample['HeartDisease'])\n",
    "\n",
    "time_1_fit_end = time.time()\n",
    "time_1_fit = time_1_fit_end - time_1_fit_start\n",
    "execution_time_fit.append(time_1_fit)\n",
    "\n",
    "time_1_predict_start = time.time()\n",
    "\n",
    "Predictions_1_Under = Classifier_1_Under.predict(X_test)\n",
    "\n",
    "time_1_predict_end = time.time()\n",
    "time_1_predict = time_1_predict_end - time_1_predict_start\n",
    "execution_time_predict.append(time_1_predict)\n",
    "\n",
    "Confusion_Under = confusion_matrix(y_test, Predictions_1_Under)\n",
    "Display = ConfusionMatrixDisplay(confusion_matrix=Confusion_Under)\n",
    "Display.plot()\n",
    "\n",
    "print('Accuracy Score: ', accuracy_score(y_test, Predictions_1_Under))\n",
    "print('Precision Score: ', precision_score(y_test, Predictions_1_Under))\n",
    "print('Recall Score: ', recall_score(y_test, Predictions_1_Under))"
   ]
  },
  {
   "cell_type": "markdown",
   "id": "1481678f",
   "metadata": {
    "papermill": {
     "duration": 0.134339,
     "end_time": "2022-04-06T16:23:39.666985",
     "exception": false,
     "start_time": "2022-04-06T16:23:39.532646",
     "status": "completed"
    },
    "tags": []
   },
   "source": [
    "We can observe that the Logistic Regression Classifier that used Undersampled Train Test:  \n",
    "⬇decreased in terms of Accuracy and precision,  \n",
    "but ⬆⬆increased alot in terms of Recall Score. (about times 7)"
   ]
  },
  {
   "cell_type": "markdown",
   "id": "145f737c",
   "metadata": {
    "papermill": {
     "duration": 0.135364,
     "end_time": "2022-04-06T16:23:39.938589",
     "exception": false,
     "start_time": "2022-04-06T16:23:39.803225",
     "status": "completed"
    },
    "tags": []
   },
   "source": [
    "<p style='color:indianred; font-size:180%'>7. Comparison with other Classifiers (KNN, Random Forest, NN)</p>"
   ]
  },
  {
   "cell_type": "markdown",
   "id": "7903a206",
   "metadata": {
    "papermill": {
     "duration": 0.134897,
     "end_time": "2022-04-06T16:23:40.209797",
     "exception": false,
     "start_time": "2022-04-06T16:23:40.074900",
     "status": "completed"
    },
    "tags": []
   },
   "source": [
    "Three other classifers will be used with the undersampled train set:\n",
    "\n",
    "##### **📌 K Nearest Neighbors Classifier**\n",
    "##### **📌 Random Forest Classifier**\n",
    "##### **📌 Multi-layer Perceptron (MLP) Classifier**"
   ]
  },
  {
   "cell_type": "markdown",
   "id": "ee6a473e",
   "metadata": {
    "papermill": {
     "duration": 0.135499,
     "end_time": "2022-04-06T16:23:40.485326",
     "exception": false,
     "start_time": "2022-04-06T16:23:40.349827",
     "status": "completed"
    },
    "tags": []
   },
   "source": [
    "#### **K Nearest Neighbors Classifier**"
   ]
  },
  {
   "cell_type": "code",
   "execution_count": 53,
   "id": "a989e0cc",
   "metadata": {
    "execution": {
     "iopub.execute_input": "2022-04-06T16:23:40.771522Z",
     "iopub.status.busy": "2022-04-06T16:23:40.760212Z",
     "iopub.status.idle": "2022-04-06T16:24:15.044989Z",
     "shell.execute_reply": "2022-04-06T16:24:15.044180Z",
     "shell.execute_reply.started": "2022-04-06T15:01:47.34937Z"
    },
    "papermill": {
     "duration": 34.424818,
     "end_time": "2022-04-06T16:24:15.045182",
     "exception": false,
     "start_time": "2022-04-06T16:23:40.620364",
     "status": "completed"
    },
    "tags": []
   },
   "outputs": [
    {
     "name": "stdout",
     "output_type": "stream",
     "text": [
      "Accuracy Score:  0.7254846779237023\n",
      "Precision Score:  0.20005957108816522\n",
      "Recall Score:  0.7362075264888565\n"
     ]
    },
    {
     "data": {
      "image/png": "[encoded data removed]",
      "text/plain": [
       "<Figure size 432x288 with 2 Axes>"
      ]
     },
     "metadata": {
      "needs_background": "light"
     },
     "output_type": "display_data"
    }
   ],
   "source": [
    "Classifier_2 = KNeighborsClassifier(n_neighbors=5)\n",
    "\n",
    "time_2_fit_start = time.time()\n",
    "\n",
    "Classifier_2.fit(Under_Sample.drop('HeartDisease', axis = 1), Under_Sample['HeartDisease'])\n",
    "\n",
    "time_2_fit_end = time.time()\n",
    "time_2_fit = time_2_fit_end - time_2_fit_start\n",
    "execution_time_fit.append(time_2_fit)\n",
    "\n",
    "time_2_predict_start = time.time()\n",
    "\n",
    "Predictions_2 = Classifier_2.predict(X_test)\n",
    "\n",
    "time_2_predict_end = time.time()\n",
    "time_2_predict = time_2_predict_end - time_2_predict_start\n",
    "execution_time_predict.append(time_2_predict)\n",
    "\n",
    "Confusion_2 = confusion_matrix(y_test, Predictions_2)\n",
    "Display = ConfusionMatrixDisplay(confusion_matrix=Confusion_2)\n",
    "Display.plot()\n",
    "\n",
    "print('Accuracy Score: ', accuracy_score(y_test, Predictions_2))\n",
    "print('Precision Score: ', precision_score(y_test, Predictions_2))\n",
    "print('Recall Score: ', recall_score(y_test, Predictions_2))"
   ]
  },
  {
   "cell_type": "markdown",
   "id": "78382e26",
   "metadata": {
    "papermill": {
     "duration": 0.135957,
     "end_time": "2022-04-06T16:24:15.349797",
     "exception": false,
     "start_time": "2022-04-06T16:24:15.213840",
     "status": "completed"
    },
    "tags": []
   },
   "source": [
    "#### **Random Forest Classifier**"
   ]
  },
  {
   "cell_type": "code",
   "execution_count": 54,
   "id": "6528c3ff",
   "metadata": {
    "execution": {
     "iopub.execute_input": "2022-04-06T16:24:15.629244Z",
     "iopub.status.busy": "2022-04-06T16:24:15.628528Z",
     "iopub.status.idle": "2022-04-06T16:24:17.202969Z",
     "shell.execute_reply": "2022-04-06T16:24:17.203477Z",
     "shell.execute_reply.started": "2022-04-06T15:02:28.77122Z"
    },
    "papermill": {
     "duration": 1.718514,
     "end_time": "2022-04-06T16:24:17.203645",
     "exception": false,
     "start_time": "2022-04-06T16:24:15.485131",
     "status": "completed"
    },
    "tags": []
   },
   "outputs": [
    {
     "name": "stdout",
     "output_type": "stream",
     "text": [
      "Accuracy Score:  0.7154158849280801\n",
      "Precision Score:  0.1976434815659445\n",
      "Recall Score:  0.7599561563755937\n"
     ]
    },
    {
     "data": {
      "image/png": "[encoded data removed]",
      "text/plain": [
       "<Figure size 432x288 with 2 Axes>"
      ]
     },
     "metadata": {
      "needs_background": "light"
     },
     "output_type": "display_data"
    }
   ],
   "source": [
    "Classifier_3 = RandomForestClassifier(n_estimators=25)\n",
    "\n",
    "time_3_fit_start = time.time()\n",
    "\n",
    "Classifier_3.fit(Under_Sample.drop('HeartDisease', axis = 1), Under_Sample['HeartDisease'])\n",
    "\n",
    "time_3_fit_end = time.time()\n",
    "time_3_fit = time_3_fit_end - time_3_fit_start\n",
    "execution_time_fit.append(time_3_fit)\n",
    "\n",
    "time_3_predict_start = time.time()\n",
    "\n",
    "Predictions_3 = Classifier_3.predict(X_test)\n",
    "\n",
    "time_3_predict_end = time.time()\n",
    "time_3_predict = time_3_predict_end - time_3_predict_start\n",
    "execution_time_predict.append(time_3_predict)\n",
    "\n",
    "Confusion_3 = confusion_matrix(y_test, Predictions_3)\n",
    "Display = ConfusionMatrixDisplay(confusion_matrix=Confusion_3)\n",
    "Display.plot()\n",
    "\n",
    "print('Accuracy Score: ', accuracy_score(y_test, Predictions_3))\n",
    "print('Precision Score: ', precision_score(y_test, Predictions_3))\n",
    "print('Recall Score: ', recall_score(y_test, Predictions_3))"
   ]
  },
  {
   "cell_type": "markdown",
   "id": "33384293",
   "metadata": {
    "papermill": {
     "duration": 0.1366,
     "end_time": "2022-04-06T16:24:17.476890",
     "exception": false,
     "start_time": "2022-04-06T16:24:17.340290",
     "status": "completed"
    },
    "tags": []
   },
   "source": [
    "#### **MLP Classifier**"
   ]
  },
  {
   "cell_type": "code",
   "execution_count": 55,
   "id": "afee6b8d",
   "metadata": {
    "execution": {
     "iopub.execute_input": "2022-04-06T16:24:17.754344Z",
     "iopub.status.busy": "2022-04-06T16:24:17.753623Z",
     "iopub.status.idle": "2022-04-06T16:24:30.923273Z",
     "shell.execute_reply": "2022-04-06T16:24:30.922736Z",
     "shell.execute_reply.started": "2022-04-06T15:02:30.809391Z"
    },
    "papermill": {
     "duration": 13.309897,
     "end_time": "2022-04-06T16:24:30.923421",
     "exception": false,
     "start_time": "2022-04-06T16:24:17.613524",
     "status": "completed"
    },
    "tags": []
   },
   "outputs": [
    {
     "name": "stdout",
     "output_type": "stream",
     "text": [
      "Accuracy Score:  0.7454659161976235\n",
      "Precision Score:  0.22374475917783004\n",
      "Recall Score:  0.7994154183412495\n"
     ]
    },
    {
     "data": {
      "image/png": "[encoded data removed]",
      "text/plain": [
       "<Figure size 432x288 with 2 Axes>"
      ]
     },
     "metadata": {
      "needs_background": "light"
     },
     "output_type": "display_data"
    }
   ],
   "source": [
    "Classifier_4 = MLPClassifier(hidden_layer_sizes=(5, 2))\n",
    "\n",
    "time_4_fit_start = time.time()\n",
    "\n",
    "Classifier_4.fit(Under_Sample.drop('HeartDisease', axis = 1), Under_Sample['HeartDisease'])\n",
    "\n",
    "time_4_fit_end = time.time()\n",
    "time_4_fit = time_4_fit_end - time_4_fit_start\n",
    "execution_time_fit.append(time_4_fit)\n",
    "\n",
    "time_4_predict_start = time.time()\n",
    "\n",
    "Predictions_4 = Classifier_4.predict(X_test)\n",
    "\n",
    "time_4_predict_end = time.time()\n",
    "time_4_predict = time_4_predict_end - time_4_predict_start\n",
    "execution_time_predict.append(time_4_predict)\n",
    "\n",
    "Confusion_4 = confusion_matrix(y_test, Predictions_4)\n",
    "Display = ConfusionMatrixDisplay(confusion_matrix=Confusion_4)\n",
    "Display.plot()\n",
    "\n",
    "print('Accuracy Score: ', accuracy_score(y_test, Predictions_4))\n",
    "print('Precision Score: ', precision_score(y_test, Predictions_4))\n",
    "print('Recall Score: ', recall_score(y_test, Predictions_4))"
   ]
  },
  {
   "cell_type": "markdown",
   "id": "c93bf14b",
   "metadata": {
    "papermill": {
     "duration": 0.137796,
     "end_time": "2022-04-06T16:24:31.200569",
     "exception": false,
     "start_time": "2022-04-06T16:24:31.062773",
     "status": "completed"
    },
    "tags": []
   },
   "source": [
    "#### **Comparison of the four Classifiers ✅❎🕑**"
   ]
  },
  {
   "cell_type": "markdown",
   "id": "9965f6c1",
   "metadata": {
    "papermill": {
     "duration": 0.137721,
     "end_time": "2022-04-06T16:24:31.476109",
     "exception": false,
     "start_time": "2022-04-06T16:24:31.338388",
     "status": "completed"
    },
    "tags": []
   },
   "source": [
    "#### ROC(Receiver Operating Characteristic) Curves📉\n",
    "\n",
    "[Source](https://stackoverflow.com/questions/42894871/how-to-plot-multiple-roc-curves-in-one-plot-with-legend-and-auc-scores-in-python) for the ROC Curve Code"
   ]
  },
  {
   "cell_type": "code",
   "execution_count": 56,
   "id": "7e0a63d8",
   "metadata": {
    "execution": {
     "iopub.execute_input": "2022-04-06T16:24:31.761615Z",
     "iopub.status.busy": "2022-04-06T16:24:31.760644Z",
     "iopub.status.idle": "2022-04-06T16:25:05.297753Z",
     "shell.execute_reply": "2022-04-06T16:25:05.298282Z",
     "shell.execute_reply.started": "2022-04-06T15:02:40.825009Z"
    },
    "papermill": {
     "duration": 33.684591,
     "end_time": "2022-04-06T16:25:05.298451",
     "exception": false,
     "start_time": "2022-04-06T16:24:31.613860",
     "status": "completed"
    },
    "tags": []
   },
   "outputs": [
    {
     "data": {
      "image/png": "[encoded data removed]",
      "text/plain": [
       "<Figure size 432x288 with 1 Axes>"
      ]
     },
     "metadata": {
      "needs_background": "light"
     },
     "output_type": "display_data"
    }
   ],
   "source": [
    "y_pred_prob1 = Classifier_1_Under.predict_proba(X_test)[:,1]\n",
    "fpr1 , tpr1, thresholds1 = roc_curve(y_test, y_pred_prob1)\n",
    "\n",
    "y_pred_prob2 = Classifier_2.predict_proba(X_test)[:,1]\n",
    "fpr2 , tpr2, thresholds2 = roc_curve(y_test, y_pred_prob2)\n",
    "\n",
    "\n",
    "y_pred_prob3 = Classifier_3.predict_proba(X_test)[:,1]\n",
    "fpr3 , tpr3, thresholds3 = roc_curve(y_test, y_pred_prob3)\n",
    "\n",
    "y_pred_prob4 = Classifier_4.predict_proba(X_test)[:,1]\n",
    "fpr4 , tpr4, thresholds4 = roc_curve(y_test, y_pred_prob4)\n",
    "\n",
    "plt.plot([0,1],[0,1], 'k--')\n",
    "plt.plot(fpr1, tpr1, label= \"Logistic\", color = 'cornflowerblue')\n",
    "plt.plot(fpr2, tpr2, label= \"Nearest Neighbors\", color = 'salmon')\n",
    "plt.plot(fpr3, tpr3, label= \"Random Forest\", color = 'lightgreen')\n",
    "plt.plot(fpr4, tpr4, label= \"MLP\", color = 'sandybrown')\n",
    "plt.legend()\n",
    "plt.xlabel(\"FPR\")\n",
    "plt.ylabel(\"TPR\")\n",
    "plt.title('Receiver Operating Characteristic Curves')\n",
    "plt.show()"
   ]
  },
  {
   "cell_type": "markdown",
   "id": "2be20348",
   "metadata": {
    "papermill": {
     "duration": 0.1399,
     "end_time": "2022-04-06T16:25:05.578729",
     "exception": false,
     "start_time": "2022-04-06T16:25:05.438829",
     "status": "completed"
    },
    "tags": []
   },
   "source": [
    "#### Running Time"
   ]
  },
  {
   "cell_type": "code",
   "execution_count": 57,
   "id": "51e39108",
   "metadata": {
    "execution": {
     "iopub.execute_input": "2022-04-06T16:25:05.864022Z",
     "iopub.status.busy": "2022-04-06T16:25:05.863313Z",
     "iopub.status.idle": "2022-04-06T16:25:05.875612Z",
     "shell.execute_reply": "2022-04-06T16:25:05.876104Z",
     "shell.execute_reply.started": "2022-04-06T15:03:20.33814Z"
    },
    "papermill": {
     "duration": 0.157447,
     "end_time": "2022-04-06T16:25:05.876280",
     "exception": false,
     "start_time": "2022-04-06T16:25:05.718833",
     "status": "completed"
    },
    "tags": []
   },
   "outputs": [
    {
     "data": {
      "text/html": [
       "<style type=\"text/css\">\n",
       "#T_ecfdf_row0_col1 {\n",
       "  width: 10em;\n",
       "  height: 80%;\n",
       "  background: linear-gradient(90deg,rosybrown 13.4%, transparent 13.4%);\n",
       "}\n",
       "#T_ecfdf_row0_col2, #T_ecfdf_row1_col1 {\n",
       "  width: 10em;\n",
       "  height: 80%;\n",
       "}\n",
       "#T_ecfdf_row1_col2, #T_ecfdf_row3_col1 {\n",
       "  width: 10em;\n",
       "  height: 80%;\n",
       "  background: linear-gradient(90deg,rosybrown 100.0%, transparent 100.0%);\n",
       "}\n",
       "#T_ecfdf_row2_col1 {\n",
       "  width: 10em;\n",
       "  height: 80%;\n",
       "  background: linear-gradient(90deg,rosybrown 8.5%, transparent 8.5%);\n",
       "}\n",
       "#T_ecfdf_row2_col2 {\n",
       "  width: 10em;\n",
       "  height: 80%;\n",
       "  background: linear-gradient(90deg,rosybrown 0.7%, transparent 0.7%);\n",
       "}\n",
       "#T_ecfdf_row3_col2 {\n",
       "  width: 10em;\n",
       "  height: 80%;\n",
       "  background: linear-gradient(90deg,rosybrown 0.0%, transparent 0.0%);\n",
       "}\n",
       "</style>\n",
       "<table id=\"T_ecfdf_\">\n",
       "  <thead>\n",
       "    <tr>\n",
       "      <th class=\"blank level0\" >&nbsp;</th>\n",
       "      <th class=\"col_heading level0 col0\" >Classifier</th>\n",
       "      <th class=\"col_heading level0 col1\" >fit execution time</th>\n",
       "      <th class=\"col_heading level0 col2\" >predict execution time</th>\n",
       "    </tr>\n",
       "  </thead>\n",
       "  <tbody>\n",
       "    <tr>\n",
       "      <th id=\"T_ecfdf_level0_row0\" class=\"row_heading level0 row0\" >0</th>\n",
       "      <td id=\"T_ecfdf_row0_col0\" class=\"data row0 col0\" >Logistic</td>\n",
       "      <td id=\"T_ecfdf_row0_col1\" class=\"data row0 col1\" >1.731294</td>\n",
       "      <td id=\"T_ecfdf_row0_col2\" class=\"data row0 col2\" >0.009625</td>\n",
       "    </tr>\n",
       "    <tr>\n",
       "      <th id=\"T_ecfdf_level0_row1\" class=\"row_heading level0 row1\" >1</th>\n",
       "      <td id=\"T_ecfdf_row1_col0\" class=\"data row1 col0\" >Nearest Neighbors</td>\n",
       "      <td id=\"T_ecfdf_row1_col1\" class=\"data row1 col1\" >0.010309</td>\n",
       "      <td id=\"T_ecfdf_row1_col2\" class=\"data row1 col2\" >33.916067</td>\n",
       "    </tr>\n",
       "    <tr>\n",
       "      <th id=\"T_ecfdf_level0_row2\" class=\"row_heading level0 row2\" >2</th>\n",
       "      <td id=\"T_ecfdf_row2_col0\" class=\"data row2 col0\" >Random Forest</td>\n",
       "      <td id=\"T_ecfdf_row2_col1\" class=\"data row2 col1\" >1.108233</td>\n",
       "      <td id=\"T_ecfdf_row2_col2\" class=\"data row2 col2\" >0.251755</td>\n",
       "    </tr>\n",
       "    <tr>\n",
       "      <th id=\"T_ecfdf_level0_row3\" class=\"row_heading level0 row3\" >3</th>\n",
       "      <td id=\"T_ecfdf_row3_col0\" class=\"data row3 col0\" >MLP</td>\n",
       "      <td id=\"T_ecfdf_row3_col1\" class=\"data row3 col1\" >12.874497</td>\n",
       "      <td id=\"T_ecfdf_row3_col2\" class=\"data row3 col2\" >0.013442</td>\n",
       "    </tr>\n",
       "  </tbody>\n",
       "</table>\n"
      ],
      "text/plain": [
       "<pandas.io.formats.style.Styler at 0x7feaa5702650>"
      ]
     },
     "execution_count": 57,
     "metadata": {},
     "output_type": "execute_result"
    }
   ],
   "source": [
    "Times = pd.DataFrame({'Classifier': ['Logistic','Nearest Neighbors','Random Forest','MLP'], 'fit execution time': execution_time_fit, 'predict execution time' : execution_time_predict })\n",
    "\n",
    "Times.style.bar(color = 'rosybrown')"
   ]
  },
  {
   "cell_type": "markdown",
   "id": "45153eb2",
   "metadata": {
    "papermill": {
     "duration": 0.141331,
     "end_time": "2022-04-06T16:25:06.159607",
     "exception": false,
     "start_time": "2022-04-06T16:25:06.018276",
     "status": "completed"
    },
    "tags": []
   },
   "source": [
    "<p style='color:indianred; font-size:180%'>8. Streamlit App Deployment</p>"
   ]
  },
  {
   "cell_type": "markdown",
   "id": "514abcd9",
   "metadata": {
    "papermill": {
     "duration": 0.140865,
     "end_time": "2022-04-06T16:25:06.441186",
     "exception": false,
     "start_time": "2022-04-06T16:25:06.300321",
     "status": "completed"
    },
    "tags": []
   },
   "source": [
    "Lastly, the Logistic Regression Classifier (Used with Undersampling Method) can be deployed as a **Streamlit App**. For this app, I will be only using the following columns: **BMI, AgeCategory, Sex, DiffWalking, SleepTime, and Stroke.**\n",
    "\n",
    "Following output shows the model performance with only these columns:"
   ]
  },
  {
   "cell_type": "code",
   "execution_count": 58,
   "id": "f6003c95",
   "metadata": {
    "execution": {
     "iopub.execute_input": "2022-04-06T16:25:06.726229Z",
     "iopub.status.busy": "2022-04-06T16:25:06.725517Z",
     "iopub.status.idle": "2022-04-06T16:25:07.323962Z",
     "shell.execute_reply": "2022-04-06T16:25:07.324517Z",
     "shell.execute_reply.started": "2022-04-06T15:13:24.021901Z"
    },
    "papermill": {
     "duration": 0.742452,
     "end_time": "2022-04-06T16:25:07.324684",
     "exception": false,
     "start_time": "2022-04-06T16:25:06.582232",
     "status": "completed"
    },
    "tags": []
   },
   "outputs": [
    {
     "name": "stdout",
     "output_type": "stream",
     "text": [
      "Accuracy Score:  0.7195434646654159\n",
      "Precision Score:  0.1978863680434361\n",
      "Recall Score:  0.7457069784435514\n"
     ]
    },
    {
     "data": {
      "image/png": "[encoded data removed]",
      "text/plain": [
       "<Figure size 432x288 with 2 Axes>"
      ]
     },
     "metadata": {
      "needs_background": "light"
     },
     "output_type": "display_data"
    }
   ],
   "source": [
    "Streamlit = ['BMI','AgeCategory','Sex','DiffWalking','SleepTime','Stroke']\n",
    "\n",
    "Classifier_Streamlit = LogisticRegression(max_iter = 300)\n",
    "\n",
    "Classifier_Streamlit.fit(Under_Sample[Streamlit], Under_Sample['HeartDisease'])\n",
    "\n",
    "Predictions_Streamlit = Classifier_Streamlit.predict(X_test[Streamlit])\n",
    "\n",
    "Confusion_Streamlit = confusion_matrix(y_test, Predictions_Streamlit)\n",
    "Display = ConfusionMatrixDisplay(confusion_matrix=Confusion_Streamlit)\n",
    "Display.plot()\n",
    "\n",
    "print('Accuracy Score: ', accuracy_score(y_test, Predictions_Streamlit))\n",
    "print('Precision Score: ', precision_score(y_test, Predictions_Streamlit))\n",
    "print('Recall Score: ', recall_score(y_test, Predictions_Streamlit))"
   ]
  },
  {
   "cell_type": "markdown",
   "id": "2603ac00",
   "metadata": {
    "papermill": {
     "duration": 0.143292,
     "end_time": "2022-04-06T16:25:07.610404",
     "exception": false,
     "start_time": "2022-04-06T16:25:07.467112",
     "status": "completed"
    },
    "tags": []
   },
   "source": [
    "The above model has been deployed as a simple app at this [link](https://share.streamlit.io/jinsol-kwon/streamlit-app/main/Streamlit.py)."
   ]
  },
  {
   "cell_type": "markdown",
   "id": "aa26f587",
   "metadata": {
    "papermill": {
     "duration": 0.143802,
     "end_time": "2022-04-06T16:25:07.896034",
     "exception": false,
     "start_time": "2022-04-06T16:25:07.752232",
     "status": "completed"
    },
    "tags": []
   },
   "source": [
    "<p style='color:indianred; font-size:180%'>Closing</p>"
   ]
  },
  {
   "cell_type": "markdown",
   "id": "63db11b9",
   "metadata": {
    "papermill": {
     "duration": 0.181955,
     "end_time": "2022-04-06T16:25:08.235189",
     "exception": false,
     "start_time": "2022-04-06T16:25:08.053234",
     "status": "completed"
    },
    "tags": []
   },
   "source": [
    "What did you think about this notebook?📙\n",
    "\n",
    "Please don't hesitate to offer me feedbacks/corrections/advices! Thank you for reading!"
   ]
  }
 ],
 "metadata": {
  "kernelspec": {
   "display_name": "Python 3",
   "language": "python",
   "name": "python3"
  },
  "language_info": {
   "codemirror_mode": {
    "name": "ipython",
    "version": 3
   },
   "file_extension": ".py",
   "mimetype": "text/x-python",
   "name": "python",
   "nbconvert_exporter": "python",
   "pygments_lexer": "ipython3",
   "version": "3.7.12"
  },
  "papermill": {
   "default_parameters": {},
   "duration": 151.51714,
   "end_time": "2022-04-06T16:25:09.312205",
   "environment_variables": {},
   "exception": null,
   "input_path": "__notebook__.ipynb",
   "output_path": "__notebook__.ipynb",
   "parameters": {},
   "start_time": "2022-04-06T16:22:37.795065",
   "version": "2.3.3"
  }
 },
 "nbformat": 4,
 "nbformat_minor": 5
}
