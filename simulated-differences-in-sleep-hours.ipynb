{
 "cells": [
  {
   "cell_type": "markdown",
   "id": "1026e5ca",
   "metadata": {
    "papermill": {
     "duration": 0.030356,
     "end_time": "2022-04-09T11:22:51.021792",
     "exception": false,
     "start_time": "2022-04-09T11:22:50.991436",
     "status": "completed"
    },
    "tags": []
   },
   "source": [
    "<div style=\"color:white;\n",
    "           display:fill;\n",
    "           border-radius:5px;\n",
    "           background-color:azure;\n",
    "           font-size:140%;\n",
    "           font-family:Verdana;\n",
    "           letter-spacing:0.5px\">\n",
    "\n",
    "<p style=\"padding: 10px;\n",
    "              color:dimgray;\">\n",
    "Sleep Hour Difference between two groups 💤\n",
    "</p>\n",
    "</div>\n",
    "\n",
    "This notebook 📗 contains a generated case of how a group difference can be viewed in light of simulations. \n",
    "\n",
    "Big reference for the methodology comes from an online [textbook](https://inferentialthinking.com/chapters/12/1/AB_Testing.html) called \n",
    "*Computational and Inferential Thinking: The Foundations of Data Science* by Ani Adhikari, John DeNero, David Wagner. The relevant portion is **Chapter 12: Comparing Two Samples - Section 1(A/B Testing)**. The reading is short, so if you like this notebook, you can check out the book as well. The book is freely available under the Creative Commons License. One note is that the book uses its own library so the codes might look different from typical library functions."
   ]
  },
  {
   "cell_type": "markdown",
   "id": "04573a85",
   "metadata": {
    "papermill": {
     "duration": 0.028059,
     "end_time": "2022-04-09T11:22:51.079681",
     "exception": false,
     "start_time": "2022-04-09T11:22:51.051622",
     "status": "completed"
    },
    "tags": []
   },
   "source": [
    "### **Table of Contents**\n",
    "\n",
    "1) Data and the Question❓   \n",
    "2) Methodology✏️  \n",
    "3) Simulations▶️  \n",
    "4) Empirical 𝒫-Value  \n",
    "5) Decision✔️❎  \n",
    "6) Comparison with t-test."
   ]
  },
  {
   "cell_type": "markdown",
   "id": "691234cc",
   "metadata": {
    "_cell_guid": "b1076dfc-b9ad-4769-8c92-a6c4dae69d19",
    "_uuid": "8f2839f25d086af736a60e9eeb907d3b93b6e0e5",
    "papermill": {
     "duration": 0.028676,
     "end_time": "2022-04-09T11:22:51.137792",
     "exception": false,
     "start_time": "2022-04-09T11:22:51.109116",
     "status": "completed"
    },
    "tags": []
   },
   "source": [
    "<p style='color:lightseagreen; font-size:140%'>Data and the Question❓</p>"
   ]
  },
  {
   "cell_type": "markdown",
   "id": "ba106581",
   "metadata": {
    "papermill": {
     "duration": 0.027853,
     "end_time": "2022-04-09T11:22:51.194899",
     "exception": false,
     "start_time": "2022-04-09T11:22:51.167046",
     "status": "completed"
    },
    "tags": []
   },
   "source": [
    "First, libraries are imported."
   ]
  },
  {
   "cell_type": "code",
   "execution_count": 1,
   "id": "fb12552f",
   "metadata": {
    "execution": {
     "iopub.execute_input": "2022-04-09T11:22:51.256683Z",
     "iopub.status.busy": "2022-04-09T11:22:51.255457Z",
     "iopub.status.idle": "2022-04-09T11:22:52.417354Z",
     "shell.execute_reply": "2022-04-09T11:22:52.416578Z",
     "shell.execute_reply.started": "2022-04-09T10:34:48.076675Z"
    },
    "papermill": {
     "duration": 1.193751,
     "end_time": "2022-04-09T11:22:52.417552",
     "exception": false,
     "start_time": "2022-04-09T11:22:51.223801",
     "status": "completed"
    },
    "tags": []
   },
   "outputs": [],
   "source": [
    "import numpy as np\n",
    "import random\n",
    "import pandas as pd\n",
    "import seaborn as sns\n",
    "from scipy.stats import ttest_ind"
   ]
  },
  {
   "cell_type": "markdown",
   "id": "677b52c1",
   "metadata": {
    "papermill": {
     "duration": 0.028795,
     "end_time": "2022-04-09T11:22:52.477999",
     "exception": false,
     "start_time": "2022-04-09T11:22:52.449204",
     "status": "completed"
    },
    "tags": []
   },
   "source": [
    "Data that will be used is a **generated data** of sleep hours of a sample of 175 students studying at <span style=\"color:deepskyblue;\">Kaggle</span> University.\n",
    "\n",
    "The codes used to generate the data can be seen below if you unhide them."
   ]
  },
  {
   "cell_type": "code",
   "execution_count": 2,
   "id": "61ada6dd",
   "metadata": {
    "_kg_hide-input": true,
    "execution": {
     "iopub.execute_input": "2022-04-09T11:22:52.547775Z",
     "iopub.status.busy": "2022-04-09T11:22:52.546865Z",
     "iopub.status.idle": "2022-04-09T11:22:52.561049Z",
     "shell.execute_reply": "2022-04-09T11:22:52.561614Z",
     "shell.execute_reply.started": "2022-04-09T10:52:37.607927Z"
    },
    "papermill": {
     "duration": 0.053783,
     "end_time": "2022-04-09T11:22:52.561793",
     "exception": false,
     "start_time": "2022-04-09T11:22:52.508010",
     "status": "completed"
    },
    "tags": []
   },
   "outputs": [],
   "source": [
    "np.random.seed(2022)\n",
    "generated = []\n",
    "generated = generated + list(7+np.random.randn(90))\n",
    "generated = generated + list(5.8+0.5*np.random.randn(30))\n",
    "generated = generated + list((np.random.uniform(6,10,25)))\n",
    "generated = generated + list(8+0.45*np.random.randn(30))\n",
    "generated = list((np.array(generated)).round(1))\n",
    "\n",
    "generated_2 = 10 * ['PhD'] + 25 * ['Master\\'s'] + 40 * ['PhD'] + 45 * ['Master\\'s'] + 30 * ['PhD'] + 25 * ['Master\\'s']\n",
    "np.random.shuffle(generated_2)\n",
    "\n",
    "Data = pd.DataFrame({'Status': generated_2, 'Sleep Hours': generated})\n",
    "\n",
    "Data['Sleep Hours'] = Data['Sleep Hours'] - 0.25 * (Data['Status'] == 'PhD')"
   ]
  },
  {
   "cell_type": "code",
   "execution_count": 3,
   "id": "e97c75ac",
   "metadata": {
    "execution": {
     "iopub.execute_input": "2022-04-09T11:22:52.627533Z",
     "iopub.status.busy": "2022-04-09T11:22:52.626788Z",
     "iopub.status.idle": "2022-04-09T11:22:52.643812Z",
     "shell.execute_reply": "2022-04-09T11:22:52.644367Z",
     "shell.execute_reply.started": "2022-04-09T10:52:41.830586Z"
    },
    "papermill": {
     "duration": 0.049667,
     "end_time": "2022-04-09T11:22:52.644550",
     "exception": false,
     "start_time": "2022-04-09T11:22:52.594883",
     "status": "completed"
    },
    "tags": []
   },
   "outputs": [
    {
     "data": {
      "text/html": [
       "<div>\n",
       "<style scoped>\n",
       "    .dataframe tbody tr th:only-of-type {\n",
       "        vertical-align: middle;\n",
       "    }\n",
       "\n",
       "    .dataframe tbody tr th {\n",
       "        vertical-align: top;\n",
       "    }\n",
       "\n",
       "    .dataframe thead th {\n",
       "        text-align: right;\n",
       "    }\n",
       "</style>\n",
       "<table border=\"1\" class=\"dataframe\">\n",
       "  <thead>\n",
       "    <tr style=\"text-align: right;\">\n",
       "      <th></th>\n",
       "      <th>Status</th>\n",
       "      <th>Sleep Hours</th>\n",
       "    </tr>\n",
       "  </thead>\n",
       "  <tbody>\n",
       "    <tr>\n",
       "      <th>0</th>\n",
       "      <td>Master's</td>\n",
       "      <td>7.00</td>\n",
       "    </tr>\n",
       "    <tr>\n",
       "      <th>1</th>\n",
       "      <td>Master's</td>\n",
       "      <td>6.70</td>\n",
       "    </tr>\n",
       "    <tr>\n",
       "      <th>2</th>\n",
       "      <td>PhD</td>\n",
       "      <td>6.65</td>\n",
       "    </tr>\n",
       "    <tr>\n",
       "      <th>3</th>\n",
       "      <td>Master's</td>\n",
       "      <td>9.00</td>\n",
       "    </tr>\n",
       "    <tr>\n",
       "      <th>4</th>\n",
       "      <td>PhD</td>\n",
       "      <td>7.05</td>\n",
       "    </tr>\n",
       "    <tr>\n",
       "      <th>5</th>\n",
       "      <td>Master's</td>\n",
       "      <td>7.80</td>\n",
       "    </tr>\n",
       "    <tr>\n",
       "      <th>6</th>\n",
       "      <td>Master's</td>\n",
       "      <td>7.30</td>\n",
       "    </tr>\n",
       "    <tr>\n",
       "      <th>7</th>\n",
       "      <td>Master's</td>\n",
       "      <td>7.50</td>\n",
       "    </tr>\n",
       "    <tr>\n",
       "      <th>8</th>\n",
       "      <td>PhD</td>\n",
       "      <td>7.15</td>\n",
       "    </tr>\n",
       "    <tr>\n",
       "      <th>9</th>\n",
       "      <td>Master's</td>\n",
       "      <td>7.40</td>\n",
       "    </tr>\n",
       "  </tbody>\n",
       "</table>\n",
       "</div>"
      ],
      "text/plain": [
       "     Status  Sleep Hours\n",
       "0  Master's         7.00\n",
       "1  Master's         6.70\n",
       "2       PhD         6.65\n",
       "3  Master's         9.00\n",
       "4       PhD         7.05\n",
       "5  Master's         7.80\n",
       "6  Master's         7.30\n",
       "7  Master's         7.50\n",
       "8       PhD         7.15\n",
       "9  Master's         7.40"
      ]
     },
     "execution_count": 3,
     "metadata": {},
     "output_type": "execute_result"
    }
   ],
   "source": [
    "Data.head(10)"
   ]
  },
  {
   "cell_type": "code",
   "execution_count": 4,
   "id": "a3820311",
   "metadata": {
    "execution": {
     "iopub.execute_input": "2022-04-09T11:22:52.708868Z",
     "iopub.status.busy": "2022-04-09T11:22:52.708088Z",
     "iopub.status.idle": "2022-04-09T11:22:52.710796Z",
     "shell.execute_reply": "2022-04-09T11:22:52.711331Z",
     "shell.execute_reply.started": "2022-04-09T10:52:44.106884Z"
    },
    "papermill": {
     "duration": 0.037772,
     "end_time": "2022-04-09T11:22:52.711518",
     "exception": false,
     "start_time": "2022-04-09T11:22:52.673746",
     "status": "completed"
    },
    "tags": []
   },
   "outputs": [
    {
     "data": {
      "text/plain": [
       "(175, 2)"
      ]
     },
     "execution_count": 4,
     "metadata": {},
     "output_type": "execute_result"
    }
   ],
   "source": [
    "Data.shape"
   ]
  },
  {
   "cell_type": "markdown",
   "id": "5050fcca",
   "metadata": {
    "papermill": {
     "duration": 0.030031,
     "end_time": "2022-04-09T11:22:52.770848",
     "exception": false,
     "start_time": "2022-04-09T11:22:52.740817",
     "status": "completed"
    },
    "tags": []
   },
   "source": [
    "Data contains average sleep hours of 175 students."
   ]
  },
  {
   "cell_type": "code",
   "execution_count": 5,
   "id": "ae259b64",
   "metadata": {
    "execution": {
     "iopub.execute_input": "2022-04-09T11:22:52.833808Z",
     "iopub.status.busy": "2022-04-09T11:22:52.833107Z",
     "iopub.status.idle": "2022-04-09T11:22:52.846725Z",
     "shell.execute_reply": "2022-04-09T11:22:52.846035Z",
     "shell.execute_reply.started": "2022-04-09T10:52:45.448901Z"
    },
    "papermill": {
     "duration": 0.046198,
     "end_time": "2022-04-09T11:22:52.846871",
     "exception": false,
     "start_time": "2022-04-09T11:22:52.800673",
     "status": "completed"
    },
    "tags": []
   },
   "outputs": [
    {
     "data": {
      "text/html": [
       "<div>\n",
       "<style scoped>\n",
       "    .dataframe tbody tr th:only-of-type {\n",
       "        vertical-align: middle;\n",
       "    }\n",
       "\n",
       "    .dataframe tbody tr th {\n",
       "        vertical-align: top;\n",
       "    }\n",
       "\n",
       "    .dataframe thead th {\n",
       "        text-align: right;\n",
       "    }\n",
       "</style>\n",
       "<table border=\"1\" class=\"dataframe\">\n",
       "  <thead>\n",
       "    <tr style=\"text-align: right;\">\n",
       "      <th></th>\n",
       "      <th>Status</th>\n",
       "    </tr>\n",
       "  </thead>\n",
       "  <tbody>\n",
       "    <tr>\n",
       "      <th>Master's</th>\n",
       "      <td>95</td>\n",
       "    </tr>\n",
       "    <tr>\n",
       "      <th>PhD</th>\n",
       "      <td>80</td>\n",
       "    </tr>\n",
       "  </tbody>\n",
       "</table>\n",
       "</div>"
      ],
      "text/plain": [
       "          Status\n",
       "Master's      95\n",
       "PhD           80"
      ]
     },
     "execution_count": 5,
     "metadata": {},
     "output_type": "execute_result"
    }
   ],
   "source": [
    "pd.DataFrame(Data['Status'].value_counts())"
   ]
  },
  {
   "cell_type": "markdown",
   "id": "f08b8949",
   "metadata": {
    "papermill": {
     "duration": 0.029633,
     "end_time": "2022-04-09T11:22:52.906653",
     "exception": false,
     "start_time": "2022-04-09T11:22:52.877020",
     "status": "completed"
    },
    "tags": []
   },
   "source": [
    "There are 95 students pursuing Master's Degree, and 80 students in PhD programs."
   ]
  },
  {
   "cell_type": "code",
   "execution_count": 6,
   "id": "cac51581",
   "metadata": {
    "execution": {
     "iopub.execute_input": "2022-04-09T11:22:52.989020Z",
     "iopub.status.busy": "2022-04-09T11:22:52.987812Z",
     "iopub.status.idle": "2022-04-09T11:22:53.444649Z",
     "shell.execute_reply": "2022-04-09T11:22:53.444058Z",
     "shell.execute_reply.started": "2022-04-09T10:52:47.675749Z"
    },
    "papermill": {
     "duration": 0.508215,
     "end_time": "2022-04-09T11:22:53.444793",
     "exception": false,
     "start_time": "2022-04-09T11:22:52.936578",
     "status": "completed"
    },
    "tags": []
   },
   "outputs": [
    {
     "data": {
      "text/plain": [
       "<seaborn.axisgrid.FacetGrid at 0x7fd1190a5e10>"
      ]
     },
     "execution_count": 6,
     "metadata": {},
     "output_type": "execute_result"
    },
    {
     "data": {
      "image/png": "[encoded data removed]",
      "text/plain": [
       "<Figure size 438.25x360 with 1 Axes>"
      ]
     },
     "metadata": {
      "needs_background": "light"
     },
     "output_type": "display_data"
    }
   ],
   "source": [
    "sns.displot(data = Data, x ='Sleep Hours', hue = 'Status', bins = 15)"
   ]
  },
  {
   "cell_type": "code",
   "execution_count": 7,
   "id": "a427b6ea",
   "metadata": {
    "execution": {
     "iopub.execute_input": "2022-04-09T11:22:53.521821Z",
     "iopub.status.busy": "2022-04-09T11:22:53.520847Z",
     "iopub.status.idle": "2022-04-09T11:22:53.524555Z",
     "shell.execute_reply": "2022-04-09T11:22:53.525069Z",
     "shell.execute_reply.started": "2022-04-09T10:52:50.201004Z"
    },
    "papermill": {
     "duration": 0.049077,
     "end_time": "2022-04-09T11:22:53.525285",
     "exception": false,
     "start_time": "2022-04-09T11:22:53.476208",
     "status": "completed"
    },
    "tags": []
   },
   "outputs": [
    {
     "data": {
      "text/html": [
       "<div>\n",
       "<style scoped>\n",
       "    .dataframe tbody tr th:only-of-type {\n",
       "        vertical-align: middle;\n",
       "    }\n",
       "\n",
       "    .dataframe tbody tr th {\n",
       "        vertical-align: top;\n",
       "    }\n",
       "\n",
       "    .dataframe thead th {\n",
       "        text-align: right;\n",
       "    }\n",
       "</style>\n",
       "<table border=\"1\" class=\"dataframe\">\n",
       "  <thead>\n",
       "    <tr style=\"text-align: right;\">\n",
       "      <th></th>\n",
       "      <th>Sleep Hours</th>\n",
       "    </tr>\n",
       "    <tr>\n",
       "      <th>Status</th>\n",
       "      <th></th>\n",
       "    </tr>\n",
       "  </thead>\n",
       "  <tbody>\n",
       "    <tr>\n",
       "      <th>Master's</th>\n",
       "      <td>7.164211</td>\n",
       "    </tr>\n",
       "    <tr>\n",
       "      <th>PhD</th>\n",
       "      <td>6.881250</td>\n",
       "    </tr>\n",
       "  </tbody>\n",
       "</table>\n",
       "</div>"
      ],
      "text/plain": [
       "          Sleep Hours\n",
       "Status               \n",
       "Master's     7.164211\n",
       "PhD          6.881250"
      ]
     },
     "execution_count": 7,
     "metadata": {},
     "output_type": "execute_result"
    }
   ],
   "source": [
    "pd.DataFrame(Data.groupby('Status')['Sleep Hours'].mean())"
   ]
  },
  {
   "cell_type": "code",
   "execution_count": 8,
   "id": "d24e2b43",
   "metadata": {
    "execution": {
     "iopub.execute_input": "2022-04-09T11:22:53.596007Z",
     "iopub.status.busy": "2022-04-09T11:22:53.593376Z",
     "iopub.status.idle": "2022-04-09T11:22:53.847066Z",
     "shell.execute_reply": "2022-04-09T11:22:53.847620Z",
     "shell.execute_reply.started": "2022-04-09T10:52:52.008772Z"
    },
    "papermill": {
     "duration": 0.290123,
     "end_time": "2022-04-09T11:22:53.847800",
     "exception": false,
     "start_time": "2022-04-09T11:22:53.557677",
     "status": "completed"
    },
    "tags": []
   },
   "outputs": [
    {
     "data": {
      "image/png": "[encoded data removed]",
      "text/plain": [
       "<Figure size 216x216 with 1 Axes>"
      ]
     },
     "metadata": {
      "needs_background": "light"
     },
     "output_type": "display_data"
    }
   ],
   "source": [
    "g = sns.catplot(\n",
    "    data=Data, kind=\"bar\",\n",
    "    x=\"Status\", y=\"Sleep Hours\", palette = 'Set2', height = 3\n",
    ")"
   ]
  },
  {
   "cell_type": "markdown",
   "id": "f6df1521",
   "metadata": {
    "papermill": {
     "duration": 0.032388,
     "end_time": "2022-04-09T11:22:53.912926",
     "exception": false,
     "start_time": "2022-04-09T11:22:53.880538",
     "status": "completed"
    },
    "tags": []
   },
   "source": [
    "#### ❓Question\n",
    "> Are we seeing the sleep hour difference in the two groups merely due to '**chance variation**', or is there an **underlying difference** between the distributions of sleep hours between two populations (Master's and PhD)?"
   ]
  },
  {
   "cell_type": "markdown",
   "id": "5410e3a6",
   "metadata": {
    "papermill": {
     "duration": 0.032247,
     "end_time": "2022-04-09T11:22:53.979106",
     "exception": false,
     "start_time": "2022-04-09T11:22:53.946859",
     "status": "completed"
    },
    "tags": []
   },
   "source": [
    "<p style='color:lightseagreen; font-size:140%'>Methodology✏️</p>\n",
    "\n",
    "📝Null Hypothesis: There is **no underlying difference** between the sleep hours distribution of two populations (Master's and PhD students). This means that the difference that we observe in the sample is due to 'chance variation'.\n",
    "\n",
    "📝Alternative Hypothesis: Mean Sleep Hours of the PhD students are **lower** than the Master's students.\n",
    "\n",
    "Currently, the difference(**PhD - Master's**) between mean sleep hours of the two groups in our sample is:"
   ]
  },
  {
   "cell_type": "code",
   "execution_count": 9,
   "id": "4c9312d3",
   "metadata": {
    "execution": {
     "iopub.execute_input": "2022-04-09T11:22:54.050046Z",
     "iopub.status.busy": "2022-04-09T11:22:54.049357Z",
     "iopub.status.idle": "2022-04-09T11:22:54.058374Z",
     "shell.execute_reply": "2022-04-09T11:22:54.057820Z",
     "shell.execute_reply.started": "2022-04-09T10:52:54.323414Z"
    },
    "papermill": {
     "duration": 0.045753,
     "end_time": "2022-04-09T11:22:54.058532",
     "exception": false,
     "start_time": "2022-04-09T11:22:54.012779",
     "status": "completed"
    },
    "tags": []
   },
   "outputs": [
    {
     "name": "stdout",
     "output_type": "stream",
     "text": [
      "-0.28296052631579016\n"
     ]
    }
   ],
   "source": [
    "Sample_Difference = Data.groupby('Status')['Sleep Hours'].mean()['PhD'] - Data.groupby('Status')['Sleep Hours'].mean()['Master\\'s']\n",
    "print(Sample_Difference)"
   ]
  },
  {
   "cell_type": "markdown",
   "id": "564c349d",
   "metadata": {
    "papermill": {
     "duration": 0.034507,
     "end_time": "2022-04-09T11:22:54.128755",
     "exception": false,
     "start_time": "2022-04-09T11:22:54.094248",
     "status": "completed"
    },
    "tags": []
   },
   "source": [
    "In order to test these hypotheses, a set of simulations of group differences will be conducted.\n",
    "\n",
    "The idea is this, that if there is no underlying difference between the two populations, then the labels of 'Master's' and 'PhD' Status shouldn't affect the mean. So for each simulation, **the labels of Status will be shuffled** , and the mean difference between the two groups will be calculated and stored. All of the stored mean differences then will be plotted as a histogram.\n",
    "\n",
    "Below is an example of how **a shuffling** would work:"
   ]
  },
  {
   "cell_type": "code",
   "execution_count": 10,
   "id": "27d7bbee",
   "metadata": {
    "execution": {
     "iopub.execute_input": "2022-04-09T11:22:54.208308Z",
     "iopub.status.busy": "2022-04-09T11:22:54.197525Z",
     "iopub.status.idle": "2022-04-09T11:22:54.212552Z",
     "shell.execute_reply": "2022-04-09T11:22:54.212001Z",
     "shell.execute_reply.started": "2022-04-09T10:52:57.969003Z"
    },
    "papermill": {
     "duration": 0.051118,
     "end_time": "2022-04-09T11:22:54.212707",
     "exception": false,
     "start_time": "2022-04-09T11:22:54.161589",
     "status": "completed"
    },
    "tags": []
   },
   "outputs": [
    {
     "data": {
      "text/html": [
       "<div>\n",
       "<style scoped>\n",
       "    .dataframe tbody tr th:only-of-type {\n",
       "        vertical-align: middle;\n",
       "    }\n",
       "\n",
       "    .dataframe tbody tr th {\n",
       "        vertical-align: top;\n",
       "    }\n",
       "\n",
       "    .dataframe thead th {\n",
       "        text-align: right;\n",
       "    }\n",
       "</style>\n",
       "<table border=\"1\" class=\"dataframe\">\n",
       "  <thead>\n",
       "    <tr style=\"text-align: right;\">\n",
       "      <th></th>\n",
       "      <th>Status</th>\n",
       "      <th>Sleep Hours</th>\n",
       "      <th>Shuffled_Status</th>\n",
       "    </tr>\n",
       "  </thead>\n",
       "  <tbody>\n",
       "    <tr>\n",
       "      <th>0</th>\n",
       "      <td>Master's</td>\n",
       "      <td>7.00</td>\n",
       "      <td>PhD</td>\n",
       "    </tr>\n",
       "    <tr>\n",
       "      <th>1</th>\n",
       "      <td>Master's</td>\n",
       "      <td>6.70</td>\n",
       "      <td>Master's</td>\n",
       "    </tr>\n",
       "    <tr>\n",
       "      <th>2</th>\n",
       "      <td>PhD</td>\n",
       "      <td>6.65</td>\n",
       "      <td>Master's</td>\n",
       "    </tr>\n",
       "    <tr>\n",
       "      <th>3</th>\n",
       "      <td>Master's</td>\n",
       "      <td>9.00</td>\n",
       "      <td>PhD</td>\n",
       "    </tr>\n",
       "    <tr>\n",
       "      <th>4</th>\n",
       "      <td>PhD</td>\n",
       "      <td>7.05</td>\n",
       "      <td>Master's</td>\n",
       "    </tr>\n",
       "    <tr>\n",
       "      <th>5</th>\n",
       "      <td>Master's</td>\n",
       "      <td>7.80</td>\n",
       "      <td>Master's</td>\n",
       "    </tr>\n",
       "    <tr>\n",
       "      <th>6</th>\n",
       "      <td>Master's</td>\n",
       "      <td>7.30</td>\n",
       "      <td>Master's</td>\n",
       "    </tr>\n",
       "    <tr>\n",
       "      <th>7</th>\n",
       "      <td>Master's</td>\n",
       "      <td>7.50</td>\n",
       "      <td>Master's</td>\n",
       "    </tr>\n",
       "    <tr>\n",
       "      <th>8</th>\n",
       "      <td>PhD</td>\n",
       "      <td>7.15</td>\n",
       "      <td>Master's</td>\n",
       "    </tr>\n",
       "    <tr>\n",
       "      <th>9</th>\n",
       "      <td>Master's</td>\n",
       "      <td>7.40</td>\n",
       "      <td>PhD</td>\n",
       "    </tr>\n",
       "  </tbody>\n",
       "</table>\n",
       "</div>"
      ],
      "text/plain": [
       "     Status  Sleep Hours Shuffled_Status\n",
       "0  Master's         7.00             PhD\n",
       "1  Master's         6.70        Master's\n",
       "2       PhD         6.65        Master's\n",
       "3  Master's         9.00             PhD\n",
       "4       PhD         7.05        Master's\n",
       "5  Master's         7.80        Master's\n",
       "6  Master's         7.30        Master's\n",
       "7  Master's         7.50        Master's\n",
       "8       PhD         7.15        Master's\n",
       "9  Master's         7.40             PhD"
      ]
     },
     "execution_count": 10,
     "metadata": {},
     "output_type": "execute_result"
    }
   ],
   "source": [
    "Data_Shuffled = Data.copy()\n",
    "\n",
    "Data_Shuffled['Shuffled_Status'] = np.asarray(Data_Shuffled['Status'].sample(frac = 1))\n",
    "\n",
    "Data_Shuffled.head(10)"
   ]
  },
  {
   "cell_type": "markdown",
   "id": "b6f2d3de",
   "metadata": {
    "papermill": {
     "duration": 0.033762,
     "end_time": "2022-04-09T11:22:54.280115",
     "exception": false,
     "start_time": "2022-04-09T11:22:54.246353",
     "status": "completed"
    },
    "tags": []
   },
   "source": [
    "And with the above Shuffled_Status, the mean difference will be calculated again, as below."
   ]
  },
  {
   "cell_type": "code",
   "execution_count": 11,
   "id": "b5d6b083",
   "metadata": {
    "execution": {
     "iopub.execute_input": "2022-04-09T11:22:54.354228Z",
     "iopub.status.busy": "2022-04-09T11:22:54.352945Z",
     "iopub.status.idle": "2022-04-09T11:22:54.359560Z",
     "shell.execute_reply": "2022-04-09T11:22:54.360120Z",
     "shell.execute_reply.started": "2022-04-09T10:53:02.45128Z"
    },
    "papermill": {
     "duration": 0.046842,
     "end_time": "2022-04-09T11:22:54.360312",
     "exception": false,
     "start_time": "2022-04-09T11:22:54.313470",
     "status": "completed"
    },
    "tags": []
   },
   "outputs": [
    {
     "data": {
      "text/plain": [
       "0.03710526315789586"
      ]
     },
     "execution_count": 11,
     "metadata": {},
     "output_type": "execute_result"
    }
   ],
   "source": [
    "Data_Shuffled[Data_Shuffled['Shuffled_Status'] == 'PhD']['Sleep Hours'].mean() - Data_Shuffled[Data_Shuffled['Shuffled_Status'] == 'Master\\'s']['Sleep Hours'].mean()"
   ]
  },
  {
   "cell_type": "markdown",
   "id": "927bde3f",
   "metadata": {
    "papermill": {
     "duration": 0.036532,
     "end_time": "2022-04-09T11:22:54.431324",
     "exception": false,
     "start_time": "2022-04-09T11:22:54.394792",
     "status": "completed"
    },
    "tags": []
   },
   "source": [
    "<p style='color:lightseagreen; font-size:140%'>Simulations▶️</p>"
   ]
  },
  {
   "cell_type": "code",
   "execution_count": 12,
   "id": "e3e2504d",
   "metadata": {
    "execution": {
     "iopub.execute_input": "2022-04-09T11:22:54.504926Z",
     "iopub.status.busy": "2022-04-09T11:22:54.503861Z",
     "iopub.status.idle": "2022-04-09T11:23:16.263567Z",
     "shell.execute_reply": "2022-04-09T11:23:16.262965Z",
     "shell.execute_reply.started": "2022-04-09T10:53:05.39557Z"
    },
    "papermill": {
     "duration": 21.797964,
     "end_time": "2022-04-09T11:23:16.263740",
     "exception": false,
     "start_time": "2022-04-09T11:22:54.465776",
     "status": "completed"
    },
    "tags": []
   },
   "outputs": [],
   "source": [
    "Simulated_Differences = []\n",
    "\n",
    "n = 10000\n",
    "np.random.seed(2023)\n",
    "\n",
    "for i in range(0,n):\n",
    "    Data_Shuffled = Data.copy()\n",
    "    Data_Shuffled['Shuffled_Status'] = np.asarray(Data_Shuffled['Status'].sample(frac = 1))\n",
    "    Data_Shuffled.head(10)\n",
    "    Simulated_Differences.append(Data_Shuffled[Data_Shuffled['Shuffled_Status'] == 'PhD']['Sleep Hours'].mean() - Data_Shuffled[Data_Shuffled['Shuffled_Status'] == 'Master\\'s']['Sleep Hours'].mean())\n",
    "    \n",
    "Simulated_Differences = np.asarray(Simulated_Differences)"
   ]
  },
  {
   "cell_type": "code",
   "execution_count": 13,
   "id": "acc12eb8",
   "metadata": {
    "execution": {
     "iopub.execute_input": "2022-04-09T11:23:16.337609Z",
     "iopub.status.busy": "2022-04-09T11:23:16.336859Z",
     "iopub.status.idle": "2022-04-09T11:23:16.789295Z",
     "shell.execute_reply": "2022-04-09T11:23:16.788700Z",
     "shell.execute_reply.started": "2022-04-09T10:53:25.729466Z"
    },
    "papermill": {
     "duration": 0.491427,
     "end_time": "2022-04-09T11:23:16.789440",
     "exception": false,
     "start_time": "2022-04-09T11:23:16.298013",
     "status": "completed"
    },
    "tags": []
   },
   "outputs": [
    {
     "data": {
      "text/plain": [
       "<AxesSubplot:xlabel='Difference', ylabel='Count'>"
      ]
     },
     "execution_count": 13,
     "metadata": {},
     "output_type": "execute_result"
    },
    {
     "data": {
      "image/png": "[encoded data removed]",
      "text/plain": [
       "<Figure size 432x288 with 1 Axes>"
      ]
     },
     "metadata": {
      "needs_background": "light"
     },
     "output_type": "display_data"
    }
   ],
   "source": [
    "Table = pd.DataFrame({'Difference': Simulated_Differences, 'Color': ['1' if Difference <= Sample_Difference else '0' for Difference in Simulated_Differences]})\n",
    "sns.histplot(data = Table, x = 'Difference', hue = 'Color', legend = False)"
   ]
  },
  {
   "cell_type": "markdown",
   "id": "ae4179af",
   "metadata": {
    "papermill": {
     "duration": 0.036987,
     "end_time": "2022-04-09T11:23:16.863707",
     "exception": false,
     "start_time": "2022-04-09T11:23:16.826720",
     "status": "completed"
    },
    "tags": []
   },
   "source": [
    "Orange portion represents the range of results that favor the alternative hypothesis (Simulated differences in the two groups equal or lower than the sample difference in the two groups)."
   ]
  },
  {
   "cell_type": "markdown",
   "id": "66eacb1f",
   "metadata": {
    "papermill": {
     "duration": 0.034658,
     "end_time": "2022-04-09T11:23:16.933526",
     "exception": false,
     "start_time": "2022-04-09T11:23:16.898868",
     "status": "completed"
    },
    "tags": []
   },
   "source": [
    "<p style='color:lightseagreen; font-size:140%'>Empirical 𝒫-Value</p>"
   ]
  },
  {
   "cell_type": "markdown",
   "id": "4bf77ed0",
   "metadata": {
    "papermill": {
     "duration": 0.035667,
     "end_time": "2022-04-09T11:23:17.005427",
     "exception": false,
     "start_time": "2022-04-09T11:23:16.969760",
     "status": "completed"
    },
    "tags": []
   },
   "source": [
    "'Empirical P-value', using a 'simple proportion method' is found by the following:\n",
    "\n",
    "How many simulated differences fall at or below the sample difference in the two groups? (thus in the favor of the alternative hypothesis)\n",
    "\n",
    "- Reading from this [website](https://www.ncbi.nlm.nih.gov/pmc/articles/PMC379178/), perhaps there is a strictly better/more correct estimate, but I don't think the value changes much.)"
   ]
  },
  {
   "cell_type": "code",
   "execution_count": 14,
   "id": "f5688bd1",
   "metadata": {
    "execution": {
     "iopub.execute_input": "2022-04-09T11:23:17.084330Z",
     "iopub.status.busy": "2022-04-09T11:23:17.083626Z",
     "iopub.status.idle": "2022-04-09T11:23:17.121423Z",
     "shell.execute_reply": "2022-04-09T11:23:17.121900Z",
     "shell.execute_reply.started": "2022-04-09T10:53:26.209217Z"
    },
    "papermill": {
     "duration": 0.07978,
     "end_time": "2022-04-09T11:23:17.122082",
     "exception": false,
     "start_time": "2022-04-09T11:23:17.042302",
     "status": "completed"
    },
    "tags": []
   },
   "outputs": [
    {
     "data": {
      "text/plain": [
       "0.064"
      ]
     },
     "execution_count": 14,
     "metadata": {},
     "output_type": "execute_result"
    }
   ],
   "source": [
    "sum(Simulated_Differences < Sample_Difference) / len(Simulated_Differences)"
   ]
  },
  {
   "cell_type": "markdown",
   "id": "ff40299a",
   "metadata": {
    "papermill": {
     "duration": 0.035329,
     "end_time": "2022-04-09T11:23:17.192994",
     "exception": false,
     "start_time": "2022-04-09T11:23:17.157665",
     "status": "completed"
    },
    "tags": []
   },
   "source": [
    "<p style='color:lightseagreen; font-size:140%'>Decision✔️❎</p>"
   ]
  },
  {
   "cell_type": "markdown",
   "id": "0e77cf9f",
   "metadata": {
    "papermill": {
     "duration": 0.035942,
     "end_time": "2022-04-09T11:23:17.264434",
     "exception": false,
     "start_time": "2022-04-09T11:23:17.228492",
     "status": "completed"
    },
    "tags": []
   },
   "source": [
    "Using a significance level of 0.05, we see that the above proportion is higher than 0.05, and therefore we do not reject the Null Hypothesis."
   ]
  },
  {
   "cell_type": "markdown",
   "id": "f98618a6",
   "metadata": {
    "papermill": {
     "duration": 0.036211,
     "end_time": "2022-04-09T11:23:17.336846",
     "exception": false,
     "start_time": "2022-04-09T11:23:17.300635",
     "status": "completed"
    },
    "tags": []
   },
   "source": [
    "<p style='color:lightseagreen; font-size:140%'>Comparison with t-test✏️</p>"
   ]
  },
  {
   "cell_type": "markdown",
   "id": "12275dde",
   "metadata": {
    "papermill": {
     "duration": 0.037908,
     "end_time": "2022-04-09T11:23:17.412213",
     "exception": false,
     "start_time": "2022-04-09T11:23:17.374305",
     "status": "completed"
    },
    "tags": []
   },
   "source": [
    "This time, I'll conduct a **t-test** on the data.\n",
    "\n",
    "This is a *Welch’s t-test*, where the two variances are not assumed to be equal\n",
    "\n",
    "🖋 **Null Hypothesis**: The mean sleep hours 💤 of PhD students are equal to that of Master's students.  \n",
    "🖋 **Alternative Hypothesis**: The mean sleep hours 💤 of PhD students is lower than that of Master's students."
   ]
  },
  {
   "cell_type": "code",
   "execution_count": 15,
   "id": "b27e35f9",
   "metadata": {
    "execution": {
     "iopub.execute_input": "2022-04-09T11:23:17.496671Z",
     "iopub.status.busy": "2022-04-09T11:23:17.495758Z",
     "iopub.status.idle": "2022-04-09T11:23:17.499366Z",
     "shell.execute_reply": "2022-04-09T11:23:17.499912Z",
     "shell.execute_reply.started": "2022-04-09T11:00:28.711722Z"
    },
    "papermill": {
     "duration": 0.051946,
     "end_time": "2022-04-09T11:23:17.500086",
     "exception": false,
     "start_time": "2022-04-09T11:23:17.448140",
     "status": "completed"
    },
    "tags": []
   },
   "outputs": [
    {
     "name": "stdout",
     "output_type": "stream",
     "text": [
      "The Test Statistic is: -1.529\n",
      "The P-Value is 0.064\n"
     ]
    }
   ],
   "source": [
    "T_Test = ttest_ind(Data[Data['Status'] == 'PhD']['Sleep Hours'], Data[Data['Status'] == 'Master\\'s']['Sleep Hours'], \n",
    "         equal_var = False, random_state = 1017, alternative = 'less')\n",
    "\n",
    "print('The Test Statistic is:', str(round(T_Test[0],3)))\n",
    "print('The P-Value is', str(round(T_Test[1],3)))"
   ]
  },
  {
   "cell_type": "markdown",
   "id": "989985ec",
   "metadata": {
    "papermill": {
     "duration": 0.035887,
     "end_time": "2022-04-09T11:23:17.573746",
     "exception": false,
     "start_time": "2022-04-09T11:23:17.537859",
     "status": "completed"
    },
    "tags": []
   },
   "source": [
    "We got a very close P-Value here, and the decision is the same (**do not reject the Null Hypothesis**).\n",
    "There is no significant evidence to say that the mean sleep hours of PhD students are lower than the Master's students."
   ]
  },
  {
   "cell_type": "markdown",
   "id": "243c8cc8",
   "metadata": {
    "papermill": {
     "duration": 0.036477,
     "end_time": "2022-04-09T11:23:17.646624",
     "exception": false,
     "start_time": "2022-04-09T11:23:17.610147",
     "status": "completed"
    },
    "tags": []
   },
   "source": [
    "**The End**\n",
    "\n",
    "Let me know if you have any question/comment/constructive feedback!"
   ]
  }
 ],
 "metadata": {
  "kernelspec": {
   "display_name": "Python 3",
   "language": "python",
   "name": "python3"
  },
  "language_info": {
   "codemirror_mode": {
    "name": "ipython",
    "version": 3
   },
   "file_extension": ".py",
   "mimetype": "text/x-python",
   "name": "python",
   "nbconvert_exporter": "python",
   "pygments_lexer": "ipython3",
   "version": "3.7.12"
  },
  "papermill": {
   "default_parameters": {},
   "duration": 38.783133,
   "end_time": "2022-04-09T11:23:18.497840",
   "environment_variables": {},
   "exception": null,
   "input_path": "__notebook__.ipynb",
   "output_path": "__notebook__.ipynb",
   "parameters": {},
   "start_time": "2022-04-09T11:22:39.714707",
   "version": "2.3.3"
  }
 },
 "nbformat": 4,
 "nbformat_minor": 5
}
